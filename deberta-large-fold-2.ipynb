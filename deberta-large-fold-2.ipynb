{
 "cells": [
  {
   "cell_type": "markdown",
   "id": "b5489270",
   "metadata": {
    "_cell_guid": "b1076dfc-b9ad-4769-8c92-a6c4dae69d19",
    "_uuid": "8f2839f25d086af736a60e9eeb907d3b93b6e0e5",
    "papermill": {
     "duration": 0.098044,
     "end_time": "2022-08-20T21:02:34.865166",
     "exception": false,
     "start_time": "2022-08-20T21:02:34.767122",
     "status": "completed"
    },
    "tags": []
   },
   "source": [
    "Welcome to the [Feedback Prize - Predicting Effective Arguments](https://www.kaggle.com/competitions/feedback-prize-effectiveness) competition by [Georgia State University](https://www.gsu.edu/) on Kaggle.\n",
    "\n",
    " <img alt=\"An example of inference on an essay\" src=\"https://i.imgur.com/uZIST9f.png\" width=\"750px\"/>\n",
    "\n",
    "In this notebook, I give an overview of the competition and explore the dataset before training a baseline model. I also perform additional analysis using the trained model.\n",
    "\n",
    "The notebook includes:\n",
    "* An example of using pseudo-labels on the larger [2021 Feedback Prize Competition](https://www.kaggle.com/competitions/feedback-prize-2021) dataset.\n",
    "* A custom head for the [HuggingFace Transformers](https://huggingface.co/docs/transformers/index) framework.\n",
    "* An implementation of [multi-sample dropout](https://arxiv.org/abs/1905.09788).\n",
    "\n",
    "If you find this helpful notebook, I would appreciate an upvote! ❤️\n",
    "\n",
    "* For inference on the test set, see [Feedback Prize - DeBERTa-v3 Inference](https://www.kaggle.com/code/lextoumbourou/feedback-prize-deberta-v3-inference).\n",
    "* For inference on the 2021 data, see [Feedback Prize - Inference on 2021 Dataset](https://www.kaggle.com/code/lextoumbourou/feedback-prize-inference-on-2021-dataset)."
   ]
  },
  {
   "cell_type": "markdown",
   "id": "2067a416",
   "metadata": {
    "papermill": {
     "duration": 0.092409,
     "end_time": "2022-08-20T21:02:35.050217",
     "exception": false,
     "start_time": "2022-08-20T21:02:34.957808",
     "status": "completed"
    },
    "tags": []
   },
   "source": [
    "# Changelog\n",
    "\n",
    "* **2022-06-25**\n",
    "\n",
    "  Reduce Dropout and validate 2x each epoch. Also some changes for faster training.\n",
    " \n",
    "* **2022-06-19**\n",
    "\n",
    "  Include essay text.\n",
    " \n",
    "* **2022-06-17**\n",
    "\n",
    "  Pseudo-labels appear to be making results a bit worse. Reducing the number. Soft labels or inference with a more accurate model will likely help here.\n",
    "  \n",
    "  Also tuned the multi-sample dropout params.\n",
    " \n",
    "* **2022-06-11**\n",
    "\n",
    "  Add Mean Pooling taken from [this](https://www.kaggle.com/code/debarshichanda/pytorch-feedback-deberta-v3-baseline) notebook by [@debarshichanda](https://www.kaggle.com/debarshichanda).\n",
    " \n",
    "* **2022-06-07**\n",
    "\n",
    "  Clean up.\n",
    "\n",
    "* **2022-06-05**\n",
    "\n",
    "  Add topics to improve EDA.\n",
    "  \n",
    "  Revert label smoothing.\n",
    "\n",
    "* **2022-06-02**\n",
    "\n",
    "  Revert to Deberta Base for iteration speed.\n",
    "  \n",
    "  Add label smoothing.\n",
    "  \n",
    "  Also, update Model Interpretation.\n",
    " \n",
    "* **2022-05-31**\n",
    "\n",
    "  Try Deberta Large.\n",
    " \n",
    "* **2022-05-29**\n",
    "\n",
    "  Add 2021 competition data experiment."
   ]
  },
  {
   "cell_type": "markdown",
   "id": "7a13b03d",
   "metadata": {
    "papermill": {
     "duration": 0.095789,
     "end_time": "2022-08-20T21:02:35.239938",
     "exception": false,
     "start_time": "2022-08-20T21:02:35.144149",
     "status": "completed"
    },
    "tags": []
   },
   "source": [
    "# Competition Overview"
   ]
  },
  {
   "cell_type": "markdown",
   "id": "78a2934e",
   "metadata": {
    "papermill": {
     "duration": 0.173887,
     "end_time": "2022-08-20T21:02:35.520990",
     "exception": false,
     "start_time": "2022-08-20T21:02:35.347103",
     "status": "completed"
    },
    "tags": []
   },
   "source": [
    "From the [competition description](https://www.kaggle.com/competitions/feedback-prize-effectiveness/overview/description):\n",
    "\n",
    "*Writing is crucial for success.  In particular, argumentative writing fosters critical thinking and civic engagement skills, and can be strengthened by practice. However, only 13 percent of eighth-grade teachers ask their students to write persuasively each week. Additionally, resource constraints disproportionately impact Black and Hispanic students, so they are more likely to write at the “below basic” level as compared to their white peers. An automated feedback tool is one way to make it easier for teachers to grade writing tasks assigned to their students that will also improve their writing skills.*\n",
    "\n",
    "Our goal in this competition is to classify sections (or \"*elements*\") of student's essays, in 3 categories: `Ineffective` or `Adequate` or `Effective`.\n",
    "\n",
    "The essays were written by 6th-12th grade students located in the USA.\n",
    "\n",
    "The competition is a Code Competition, which means that you must submit your kernel to get a leaderboard score. The unseen test set contains around 3000 essays."
   ]
  },
  {
   "cell_type": "markdown",
   "id": "894a92f8",
   "metadata": {
    "papermill": {
     "duration": 0.140524,
     "end_time": "2022-08-20T21:02:35.804256",
     "exception": false,
     "start_time": "2022-08-20T21:02:35.663732",
     "status": "completed"
    },
    "tags": []
   },
   "source": [
    "# Related Competitions\n",
    "\n",
    "## Feedback Prize (2021)\n",
    "\n",
    "The original [Feedback Prize competition](https://www.kaggle.com/competitions/feedback-prize-2021) finished earlier this year. Though a [Named Entity Recognition](https://en.wikipedia.org/wiki/Named-entity_recognition) competition as opposed to classification, the dataset contains 11,403 additional essays and 70,763 additional essay sections.\n",
    "\n",
    "I have done some analysis on that dataset [here](https://www.kaggle.com/code/lextoumbourou/feedback-prize-inference-on-2021-dataset).\n",
    "\n",
    "* [1st solution with code(cv:0.748 lb:0.742)](https://www.kaggle.com/c/feedback-prize-2021/discussion/313177)\n",
    "* [2nd Place - Weighted Box Fusion and Post Process](https://www.kaggle.com/competitions/feedback-prize-2021/discussion/313389)\n",
    "* [3rd Place Solution w code and notebook](https://www.kaggle.com/competitions/feedback-prize-2021/discussion/313235)\n",
    "* [4th place solution - 🎖️ my first gold medal 🎖️ (+source code available!)](https://www.kaggle.com/competitions/feedback-prize-2021/discussion/313330)\n",
    "* [5'th place : simultaneous span segmentation and classification + WBF](https://www.kaggle.com/competitions/feedback-prize-2021/discussion/313478)\n",
    "* [6th place solution. A YOLO-like text span detector.](https://www.kaggle.com/c/feedback-prize-2021/discussion/313424)\n",
    "* [7th place solution](https://www.kaggle.com/competitions/feedback-prize-2021/discussion/315887)\n",
    "* [9th solution, deberta is the king, pure ensemble of bert models](https://www.kaggle.com/competitions/feedback-prize-2021/discussion/313201)\n",
    "* [10th solution](https://www.kaggle.com/c/feedback-prize-2021/discussion/313718)\n",
    "\n",
    "## U.S. Patent Phrase to Phrase Matching\n",
    "\n",
    "https://www.kaggle.com/competitions/us-patent-phrase-to-phrase-matching\n",
    "\n",
    "An NLP competition that finished very recently on June 20.\n",
    "\n",
    "* [1st place solution](https://www.kaggle.com/competitions/us-patent-phrase-to-phrase-matching/discussion/332243)\n",
    "* [2nd Place Solution](https://www.kaggle.com/competitions/us-patent-phrase-to-phrase-matching/discussion/332234)\n",
    "* [3rd place solution](https://www.kaggle.com/competitions/us-patent-phrase-to-phrase-matching/discussion/332420)\n",
    "* [5th solution: prompt is all you need](https://www.kaggle.com/competitions/us-patent-phrase-to-phrase-matching/discussion/332418)\n",
    "* [7th place solution - the power of randomness](https://www.kaggle.com/competitions/us-patent-phrase-to-phrase-matching/discussion/332928)\n",
    "* [8th place solution: Predicting Targets at Once Led Us to Gold](https://www.kaggle.com/competitions/us-patent-phrase-to-phrase-matching/discussion/332492)\n",
    "* [10th place Solution : Single model public lb 0.8562, private lb 0.8717](https://www.kaggle.com/competitions/us-patent-phrase-to-phrase-matching/discussion/332273)\n",
    "* [12th Place Solution](https://www.kaggle.com/competitions/us-patent-phrase-to-phrase-matching/discussion/332567)\n",
    "\n",
    "## NBME Score Clinical Patients\n",
    "\n",
    "https://www.kaggle.com/competitions/nbme-score-clinical-patient-notes\n",
    "\n",
    "A recent NLP competition that finished in May 2022.\n",
    "\n",
    "* [1st solution](https://www.kaggle.com/competitions/nbme-score-clinical-patient-notes/discussion/323095)\n",
    "* [#2 solution](https://www.kaggle.com/competitions/nbme-score-clinical-patient-notes/discussion/323085)\n",
    "* [3rd Place Solution: Meta Pseudo Labels + Knowledge Distillation](https://www.kaggle.com/competitions/nbme-score-clinical-patient-notes/discussion/322832)\n",
    "* [4th place solution: Deberta models & postprocess](https://www.kaggle.com/competitions/nbme-score-clinical-patient-notes/discussion/322799)\n",
    "* [5th place solution](https://www.kaggle.com/competitions/nbme-score-clinical-patient-notes/discussion/322875)\n",
    "* [6th place solution](https://www.kaggle.com/competitions/nbme-score-clinical-patient-notes/discussion/323237)\n",
    "* [7th place solution: Get 0.892 in just 10 minutes](https://www.kaggle.com/competitions/nbme-score-clinical-patient-notes/discussion/322829)\n",
    "* [8th place solution](https://www.kaggle.com/competitions/nbme-score-clinical-patient-notes/discussion/322962)\n",
    "* [9th Weight search and threshold modification](https://www.kaggle.com/competitions/nbme-score-clinical-patient-notes/discussion/322891)\n",
    "\n",
    "## Jigsaw Rate Severity of Toxic Comments\n",
    "\n",
    "https://www.kaggle.com/competitions/jigsaw-toxic-severity-rating\n",
    "\n",
    "Another recent NLP competition with a similar problem statement that finished in February 2022. \n",
    "\n",
    "* [1st place solution with code](https://www.kaggle.com/competitions/jigsaw-toxic-severity-rating/discussion/306274)\n",
    "* [Toxic Solution and Review (2nd Place)](https://www.kaggle.com/competitions/jigsaw-toxic-severity-rating/discussion/308938)\n",
    "* [4th - This is Great! - Shared Solution](https://www.kaggle.com/competitions/jigsaw-toxic-severity-rating/discussion/306084)\n",
    "* [5th place solution](https://www.kaggle.com/competitions/jigsaw-toxic-severity-rating/discussion/306390)\n",
    "* [7th Place Solution](https://www.kaggle.com/competitions/jigsaw-toxic-severity-rating/discussion/306366)\n",
    "\n",
    "See also: [Every single Jigsaw competition solution write up in history](https://www.kaggle.com/competitions/jigsaw-toxic-severity-rating/discussion/286333)\n",
    "\n"
   ]
  },
  {
   "cell_type": "markdown",
   "id": "4524c66b",
   "metadata": {
    "papermill": {
     "duration": 0.092678,
     "end_time": "2022-08-20T21:02:36.039785",
     "exception": false,
     "start_time": "2022-08-20T21:02:35.947107",
     "status": "completed"
    },
    "tags": []
   },
   "source": [
    "# Competition Metric"
   ]
  },
  {
   "cell_type": "markdown",
   "id": "329bb66d",
   "metadata": {
    "papermill": {
     "duration": 0.094492,
     "end_time": "2022-08-20T21:02:36.227008",
     "exception": false,
     "start_time": "2022-08-20T21:02:36.132516",
     "status": "completed"
    },
    "tags": []
   },
   "source": [
    "Solutions are evaluated using multi-class log loss (also known as negative log-likelihood).\n",
    "\n",
    "$$\\text{log loss} = -\\frac{1}{\\color{magenta}{N}} \\sum\\limits_{i=1}^{\\color{magenta}{N}} \\sum\\limits_{j=1}^{\\color{purple}{M}} \\color{olive}{y_{ij}} \\color{orange}{\\log}(\\color{teal}{p_{ij}})$$\n",
    "\n",
    "Where:\n",
    "* $\\color{magenta}{N}$ = number of rows.\n",
    "* $\\color{purple}{M}$ = number of class labels.\n",
    "* $\\color{olive}{y_{ij}}$ = 1 if $i$ is in class $j$, else 0.\n",
    "* $\\color{orange}{\\log}$ = natural logarithm.\n",
    "* $\\color{teal}{p_{ij}}$ is the predicted probability that $i$ belongs to class $j$.\n",
    "\n",
    "\n",
    "You can think of log loss as the negative log of your prediction for the correct class.\n",
    "\n",
    "The negative log has a range where at 0 the function returns ∞ `−log(0)= ∞` and at 1 returns 0 `−log(1) = 0`\n",
    "\n",
    "This means confidentally wrong answers are heavily penalised.\n",
    "\n",
    "Here I plot the range of the `-log(x)` function."
   ]
  },
  {
   "cell_type": "code",
   "execution_count": 1,
   "id": "fb0726b0",
   "metadata": {
    "_kg_hide-input": true,
    "execution": {
     "iopub.execute_input": "2022-08-20T21:02:36.419316Z",
     "iopub.status.busy": "2022-08-20T21:02:36.418334Z",
     "iopub.status.idle": "2022-08-20T21:02:36.644904Z",
     "shell.execute_reply": "2022-08-20T21:02:36.644196Z"
    },
    "papermill": {
     "duration": 0.324027,
     "end_time": "2022-08-20T21:02:36.647464",
     "exception": false,
     "start_time": "2022-08-20T21:02:36.323437",
     "status": "completed"
    },
    "tags": []
   },
   "outputs": [
    {
     "data": {
      "image/png": "[encoded data removed]",
      "text/plain": [
       "<Figure size 432x288 with 1 Axes>"
      ]
     },
     "metadata": {
      "needs_background": "light"
     },
     "output_type": "display_data"
    }
   ],
   "source": [
    "import numpy as np\n",
    "import matplotlib.pyplot as plt\n",
    "\n",
    "x = np.arange(0.001, 1.0, 0.001)\n",
    "y = -np.log(x)\n",
    "\n",
    "fig,ax = plt.subplots(figsize=(6,4))\n",
    "ax.plot(x,y)\n",
    "plt.ylabel('-log(x)')\n",
    "plt.xlabel('x')\n",
    "plt.title('Range of negative log-likelihood function')\n",
    "plt.show()"
   ]
  },
  {
   "cell_type": "markdown",
   "id": "1108f0a9",
   "metadata": {
    "papermill": {
     "duration": 0.09454,
     "end_time": "2022-08-20T21:02:36.839147",
     "exception": false,
     "start_time": "2022-08-20T21:02:36.744607",
     "status": "completed"
    },
    "tags": []
   },
   "source": [
    "# Imports\n",
    "\n",
    "On top of the standard data science libraries: Pandas, Numpy and Matplotlib, I'm importing these additional libraries for training neural networks:\n",
    "\n",
    "* [HuggingFace Transfomers](https://github.com/huggingface/transformers) library for pre-trained models and training framework.\n",
    "* [PyTorch](https://pytorch.org/) for GPU computation.\n",
    "* [Weights and Biases](https://wandb.ai) for experiment tracking."
   ]
  },
  {
   "cell_type": "code",
   "execution_count": 2,
   "id": "830083dc",
   "metadata": {
    "_kg_hide-input": false,
    "execution": {
     "iopub.execute_input": "2022-08-20T21:02:37.029836Z",
     "iopub.status.busy": "2022-08-20T21:02:37.029128Z",
     "iopub.status.idle": "2022-08-20T21:02:45.769191Z",
     "shell.execute_reply": "2022-08-20T21:02:45.768302Z"
    },
    "papermill": {
     "duration": 8.837539,
     "end_time": "2022-08-20T21:02:45.771724",
     "exception": false,
     "start_time": "2022-08-20T21:02:36.934185",
     "status": "completed"
    },
    "tags": []
   },
   "outputs": [],
   "source": [
    "import os\n",
    "\n",
    "run_type = os.environ.get('KAGGLE_KERNEL_RUN_TYPE', '')\n",
    "\n",
    "import logging\n",
    "from types import SimpleNamespace\n",
    "from pathlib import Path\n",
    "from datetime import datetime\n",
    "import math\n",
    "\n",
    "import pandas as pd\n",
    "import numpy as np\n",
    "import seaborn as sns\n",
    "from sklearn.model_selection import StratifiedKFold\n",
    "from sklearn.metrics import log_loss\n",
    "from torch.utils.data import DataLoader, Dataset\n",
    "from transformers import AutoModelForSequenceClassification, AutoTokenizer, AutoConfig\n",
    "from transformers import TrainingArguments, Trainer\n",
    "from tqdm import tqdm\n",
    "from scipy.special import softmax\n",
    "from IPython.core.display import display, HTML\n",
    "\n",
    "from transformers import DataCollatorWithPadding\n",
    "from datasets import Dataset, load_metric\n",
    "\n",
    "import wandb\n",
    "\n",
    "# From this Gist: https://gist.github.com/ihoromi4/b681a9088f348942b01711f251e5f964\n",
    "def seed_everything(seed: int):\n",
    "    import random, os\n",
    "    import numpy as np\n",
    "    import torch\n",
    "    \n",
    "    random.seed(seed)\n",
    "    os.environ['PYTHONHASHSEED'] = str(seed)\n",
    "    np.random.seed(seed)\n",
    "    torch.manual_seed(seed)\n",
    "    torch.cuda.manual_seed(seed)\n",
    "    torch.backends.cudnn.deterministic = True\n",
    "    torch.backends.cudnn.benchmark = True"
   ]
  },
  {
   "cell_type": "markdown",
   "id": "ca789a78",
   "metadata": {
    "papermill": {
     "duration": 0.093955,
     "end_time": "2022-08-20T21:02:45.961073",
     "exception": false,
     "start_time": "2022-08-20T21:02:45.867118",
     "status": "completed"
    },
    "tags": []
   },
   "source": [
    "# Load Data\n",
    "\n",
    "The competition data includes a training CSV file which includes metadata for each essay element, and a folder containing the full essay texts.\n",
    "\n",
    "Let's start by loading these and looking at an example from the train and test set."
   ]
  },
  {
   "cell_type": "code",
   "execution_count": 3,
   "id": "84a99c83",
   "metadata": {
    "execution": {
     "iopub.execute_input": "2022-08-20T21:02:46.150129Z",
     "iopub.status.busy": "2022-08-20T21:02:46.149461Z",
     "iopub.status.idle": "2022-08-20T21:02:46.540000Z",
     "shell.execute_reply": "2022-08-20T21:02:46.539226Z"
    },
    "papermill": {
     "duration": 0.488306,
     "end_time": "2022-08-20T21:02:46.542892",
     "exception": false,
     "start_time": "2022-08-20T21:02:46.054586",
     "status": "completed"
    },
    "tags": []
   },
   "outputs": [],
   "source": [
    "train_df = pd.read_csv('../input/feedback-prize-effectiveness/train.csv')\n",
    "test_df = pd.read_csv('../input/feedback-prize-effectiveness/test.csv')"
   ]
  },
  {
   "cell_type": "code",
   "execution_count": 4,
   "id": "821411da",
   "metadata": {
    "execution": {
     "iopub.execute_input": "2022-08-20T21:02:46.863507Z",
     "iopub.status.busy": "2022-08-20T21:02:46.862991Z",
     "iopub.status.idle": "2022-08-20T21:02:46.881189Z",
     "shell.execute_reply": "2022-08-20T21:02:46.880348Z"
    },
    "papermill": {
     "duration": 0.173082,
     "end_time": "2022-08-20T21:02:46.883788",
     "exception": false,
     "start_time": "2022-08-20T21:02:46.710706",
     "status": "completed"
    },
    "tags": []
   },
   "outputs": [
    {
     "data": {
      "text/html": [
       "<div>\n",
       "<style scoped>\n",
       "    .dataframe tbody tr th:only-of-type {\n",
       "        vertical-align: middle;\n",
       "    }\n",
       "\n",
       "    .dataframe tbody tr th {\n",
       "        vertical-align: top;\n",
       "    }\n",
       "\n",
       "    .dataframe thead th {\n",
       "        text-align: right;\n",
       "    }\n",
       "</style>\n",
       "<table border=\"1\" class=\"dataframe\">\n",
       "  <thead>\n",
       "    <tr style=\"text-align: right;\">\n",
       "      <th></th>\n",
       "      <th>discourse_id</th>\n",
       "      <th>essay_id</th>\n",
       "      <th>discourse_text</th>\n",
       "      <th>discourse_type</th>\n",
       "      <th>discourse_effectiveness</th>\n",
       "    </tr>\n",
       "  </thead>\n",
       "  <tbody>\n",
       "    <tr>\n",
       "      <th>0</th>\n",
       "      <td>0013cc385424</td>\n",
       "      <td>007ACE74B050</td>\n",
       "      <td>Hi, i'm Isaac, i'm going to be writing about h...</td>\n",
       "      <td>Lead</td>\n",
       "      <td>Adequate</td>\n",
       "    </tr>\n",
       "  </tbody>\n",
       "</table>\n",
       "</div>"
      ],
      "text/plain": [
       "   discourse_id      essay_id  \\\n",
       "0  0013cc385424  007ACE74B050   \n",
       "\n",
       "                                      discourse_text discourse_type  \\\n",
       "0  Hi, i'm Isaac, i'm going to be writing about h...           Lead   \n",
       "\n",
       "  discourse_effectiveness  \n",
       "0                Adequate  "
      ]
     },
     "execution_count": 4,
     "metadata": {},
     "output_type": "execute_result"
    }
   ],
   "source": [
    "train_df.head(1)"
   ]
  },
  {
   "cell_type": "code",
   "execution_count": 5,
   "id": "c899f819",
   "metadata": {
    "execution": {
     "iopub.execute_input": "2022-08-20T21:02:47.107019Z",
     "iopub.status.busy": "2022-08-20T21:02:47.106761Z",
     "iopub.status.idle": "2022-08-20T21:02:47.115958Z",
     "shell.execute_reply": "2022-08-20T21:02:47.115326Z"
    },
    "papermill": {
     "duration": 0.106471,
     "end_time": "2022-08-20T21:02:47.117926",
     "exception": false,
     "start_time": "2022-08-20T21:02:47.011455",
     "status": "completed"
    },
    "tags": []
   },
   "outputs": [
    {
     "data": {
      "text/html": [
       "<div>\n",
       "<style scoped>\n",
       "    .dataframe tbody tr th:only-of-type {\n",
       "        vertical-align: middle;\n",
       "    }\n",
       "\n",
       "    .dataframe tbody tr th {\n",
       "        vertical-align: top;\n",
       "    }\n",
       "\n",
       "    .dataframe thead th {\n",
       "        text-align: right;\n",
       "    }\n",
       "</style>\n",
       "<table border=\"1\" class=\"dataframe\">\n",
       "  <thead>\n",
       "    <tr style=\"text-align: right;\">\n",
       "      <th></th>\n",
       "      <th>discourse_id</th>\n",
       "      <th>essay_id</th>\n",
       "      <th>discourse_text</th>\n",
       "      <th>discourse_type</th>\n",
       "    </tr>\n",
       "  </thead>\n",
       "  <tbody>\n",
       "    <tr>\n",
       "      <th>0</th>\n",
       "      <td>a261b6e14276</td>\n",
       "      <td>D72CB1C11673</td>\n",
       "      <td>Making choices in life can be very difficult. ...</td>\n",
       "      <td>Lead</td>\n",
       "    </tr>\n",
       "  </tbody>\n",
       "</table>\n",
       "</div>"
      ],
      "text/plain": [
       "   discourse_id      essay_id  \\\n",
       "0  a261b6e14276  D72CB1C11673   \n",
       "\n",
       "                                      discourse_text discourse_type  \n",
       "0  Making choices in life can be very difficult. ...           Lead  "
      ]
     },
     "execution_count": 5,
     "metadata": {},
     "output_type": "execute_result"
    }
   ],
   "source": [
    "test_df.head(1)"
   ]
  },
  {
   "cell_type": "code",
   "execution_count": 6,
   "id": "a3758313",
   "metadata": {
    "execution": {
     "iopub.execute_input": "2022-08-20T21:02:47.311223Z",
     "iopub.status.busy": "2022-08-20T21:02:47.310584Z",
     "iopub.status.idle": "2022-08-20T21:02:47.315980Z",
     "shell.execute_reply": "2022-08-20T21:02:47.315329Z"
    },
    "papermill": {
     "duration": 0.10486,
     "end_time": "2022-08-20T21:02:47.318024",
     "exception": false,
     "start_time": "2022-08-20T21:02:47.213164",
     "status": "completed"
    },
    "tags": []
   },
   "outputs": [
    {
     "data": {
      "text/plain": [
       "(36765, 10)"
      ]
     },
     "execution_count": 6,
     "metadata": {},
     "output_type": "execute_result"
    }
   ],
   "source": [
    "len(train_df), len(test_df)"
   ]
  },
  {
   "cell_type": "markdown",
   "id": "99065624",
   "metadata": {
    "papermill": {
     "duration": 0.097189,
     "end_time": "2022-08-20T21:02:47.512424",
     "exception": false,
     "start_time": "2022-08-20T21:02:47.415235",
     "status": "completed"
    },
    "tags": []
   },
   "source": [
    "The train set contains **36,756** essay elements.\n",
    "\n",
    "The test set CSV only contains **10** elements, as the notebook needs to be submitted to run against the entire test set."
   ]
  },
  {
   "cell_type": "markdown",
   "id": "a84caa33",
   "metadata": {
    "papermill": {
     "duration": 0.097445,
     "end_time": "2022-08-20T21:02:47.705619",
     "exception": false,
     "start_time": "2022-08-20T21:02:47.608174",
     "status": "completed"
    },
    "tags": []
   },
   "source": [
    "# Essay Texts"
   ]
  },
  {
   "cell_type": "markdown",
   "id": "216f58c4",
   "metadata": {
    "papermill": {
     "duration": 0.096099,
     "end_time": "2022-08-20T21:02:47.897667",
     "exception": false,
     "start_time": "2022-08-20T21:02:47.801568",
     "status": "completed"
    },
    "tags": []
   },
   "source": [
    "Let's see the first 200 characters of a few essay examples."
   ]
  },
  {
   "cell_type": "code",
   "execution_count": 7,
   "id": "6f8dfc23",
   "metadata": {
    "_kg_hide-input": true,
    "execution": {
     "iopub.execute_input": "2022-08-20T21:02:48.091524Z",
     "iopub.status.busy": "2022-08-20T21:02:48.090769Z",
     "iopub.status.idle": "2022-08-20T21:02:48.169977Z",
     "shell.execute_reply": "2022-08-20T21:02:48.169316Z"
    },
    "papermill": {
     "duration": 0.178214,
     "end_time": "2022-08-20T21:02:48.171972",
     "exception": false,
     "start_time": "2022-08-20T21:02:47.993758",
     "status": "completed"
    },
    "tags": []
   },
   "outputs": [
    {
     "data": {
      "text/html": [
       "\n",
       "<table style=\"font-family: monospace;\">\n",
       "    <tr>\n",
       "         <td style=\"vertical-align:top; border-right: 1px solid #7accd8\">Hi, i'm Isaac, i'm going to be writing about how this face on Mars is a natural landform or if there is life on Mars that made it. The story is about how NASA took a picture of Mars and a face was see</td><td style=\"vertical-align:top; border-right: 1px solid #7accd8\">Limiting the usage of cars has personal and professional support all across the globe and yet it has yet to be embraced everywhere. Statistical proof show where it may help and real life examples of s</td><td style=\"vertical-align:top; border-right: 1px solid #7accd8\">Should computers read the emotional expressions of students in a classroom? No because, why should a computer know how your feeling? It wouldn't change the emotion the students feeling. It also wouldn</td><td style=\"vertical-align:top; border-right: 1px solid #7accd8\">I think that it wouldn't be valueable to have technology be able to read emotions because the fact that its really easy for someone else to get into your phone or tablet through face reconition. Peopl</td><td style=\"vertical-align:top; border-right: 1px solid #7accd8\">What is that thing on Mars?\n",
       "\n",
       "Well, some people believe that it was something made by aliens. I am here to prove that it was not.\n",
       "\n",
       "The thing on Mars first was photographed in 1976. It is a huge rock fo</td><td style=\"vertical-align:top; border-right: 1px solid #7accd8\">Students around the world are forgetting more and more from their past school year, due to their long summer vacation. Because of this, many teachers are debating whether or not they should simply giv</td><td style=\"vertical-align:top; border-right: 1px solid #7accd8\">Have you ever been bored in a class room such as your highschool english classes? Well do to a brand new algorithum made by Dr. Paull Eckman, creator of the FACS(Facial Action Coding System), you can </td><td style=\"vertical-align:top; border-right: 1px solid #7accd8\">Do you really thing a land form could make a face ? To me that seems something is very unlikely. A planet that we do not look alike can make a face as a organism on earth? Well i don't think so and he</td><td style=\"vertical-align:top; border-right: 1px solid #7accd8\">Being in a car is how we transport ourselves to and from places. Now what would you do if you had to give up your car. Yes, some people didnt mind giving up their cars but not everyone would be ok wit</td><td style=\"vertical-align:top; border-right: 1px solid #7accd8\">President Obama has done nothing to improve our society.  If anything, he has created the worst society this world has ever seen.\n",
       "\n",
       "Limiting our usage of any type of motorized vehicle, would not only d</td>\n",
       "    </tr>\n",
       "</table>\n"
      ],
      "text/plain": [
       "<IPython.core.display.HTML object>"
      ]
     },
     "metadata": {},
     "output_type": "display_data"
    }
   ],
   "source": [
    "essays = train_df.essay_id.unique()\n",
    "\n",
    "texts = []\n",
    "for essay_id in essays[:10]:\n",
    "    texts.append(open(f'../input/feedback-prize-effectiveness/train/{essay_id}.txt').read())\n",
    "\n",
    "inner_html = \"\"\n",
    "for text in texts:\n",
    "    inner_html += f'<td style=\"vertical-align:top; border-right: 1px solid #7accd8\">{text[:200]}</td>'\n",
    "display(HTML(f\"\"\"\n",
    "<table style=\"font-family: monospace;\">\n",
    "    <tr>\n",
    "         {inner_html}\n",
    "    </tr>\n",
    "</table>\n",
    "\"\"\"))"
   ]
  },
  {
   "cell_type": "markdown",
   "id": "6d8cee36",
   "metadata": {
    "papermill": {
     "duration": 0.096174,
     "end_time": "2022-08-20T21:02:48.364857",
     "exception": false,
     "start_time": "2022-08-20T21:02:48.268683",
     "status": "completed"
    },
    "tags": []
   },
   "source": [
    "Let's count the number of unique essays in the folder."
   ]
  },
  {
   "cell_type": "code",
   "execution_count": 8,
   "id": "c138fccc",
   "metadata": {
    "_kg_hide-input": true,
    "execution": {
     "iopub.execute_input": "2022-08-20T21:02:48.558475Z",
     "iopub.status.busy": "2022-08-20T21:02:48.558050Z",
     "iopub.status.idle": "2022-08-20T21:02:48.704198Z",
     "shell.execute_reply": "2022-08-20T21:02:48.703350Z"
    },
    "papermill": {
     "duration": 0.246273,
     "end_time": "2022-08-20T21:02:48.706451",
     "exception": false,
     "start_time": "2022-08-20T21:02:48.460178",
     "status": "completed"
    },
    "tags": []
   },
   "outputs": [
    {
     "data": {
      "text/plain": [
       "4191"
      ]
     },
     "execution_count": 8,
     "metadata": {},
     "output_type": "execute_result"
    }
   ],
   "source": [
    "from pathlib import Path\n",
    "\n",
    "essay_ids_in_folder = set()\n",
    "for path in Path('../input/feedback-prize-effectiveness/train').iterdir():\n",
    "    essay_ids_in_folder.add(path.name[:-4])\n",
    "len(essay_ids_in_folder)"
   ]
  },
  {
   "cell_type": "markdown",
   "id": "7c911347",
   "metadata": {
    "papermill": {
     "duration": 0.096422,
     "end_time": "2022-08-20T21:02:48.899118",
     "exception": false,
     "start_time": "2022-08-20T21:02:48.802696",
     "status": "completed"
    },
    "tags": []
   },
   "source": [
    "There are **4,191** unique essays. Not a huge dataset at all!"
   ]
  },
  {
   "cell_type": "markdown",
   "id": "7e53cd3b",
   "metadata": {
    "papermill": {
     "duration": 0.095234,
     "end_time": "2022-08-20T21:02:49.090493",
     "exception": false,
     "start_time": "2022-08-20T21:02:48.995259",
     "status": "completed"
    },
    "tags": []
   },
   "source": [
    "Compared with number of essays in the CSV?"
   ]
  },
  {
   "cell_type": "code",
   "execution_count": 9,
   "id": "23eb406d",
   "metadata": {
    "_kg_hide-input": true,
    "_kg_hide-output": true,
    "execution": {
     "iopub.execute_input": "2022-08-20T21:02:49.283838Z",
     "iopub.status.busy": "2022-08-20T21:02:49.283155Z",
     "iopub.status.idle": "2022-08-20T21:02:49.292360Z",
     "shell.execute_reply": "2022-08-20T21:02:49.291448Z"
    },
    "papermill": {
     "duration": 0.108194,
     "end_time": "2022-08-20T21:02:49.294254",
     "exception": false,
     "start_time": "2022-08-20T21:02:49.186060",
     "status": "completed"
    },
    "tags": []
   },
   "outputs": [
    {
     "data": {
      "text/plain": [
       "4191"
      ]
     },
     "execution_count": 9,
     "metadata": {},
     "output_type": "execute_result"
    }
   ],
   "source": [
    "train_df.essay_id.nunique()"
   ]
  },
  {
   "cell_type": "code",
   "execution_count": 10,
   "id": "cfc4dea4",
   "metadata": {
    "execution": {
     "iopub.execute_input": "2022-08-20T21:02:49.502964Z",
     "iopub.status.busy": "2022-08-20T21:02:49.502684Z",
     "iopub.status.idle": "2022-08-20T21:02:49.515183Z",
     "shell.execute_reply": "2022-08-20T21:02:49.514395Z"
    },
    "papermill": {
     "duration": 0.111659,
     "end_time": "2022-08-20T21:02:49.517077",
     "exception": false,
     "start_time": "2022-08-20T21:02:49.405418",
     "status": "completed"
    },
    "tags": []
   },
   "outputs": [
    {
     "data": {
      "text/plain": [
       "(set(), set())"
      ]
     },
     "execution_count": 10,
     "metadata": {},
     "output_type": "execute_result"
    }
   ],
   "source": [
    "essay_ids_in_folder - set(train_df.essay_id.unique()), set(train_df.essay_id.unique()) - essay_ids_in_folder"
   ]
  },
  {
   "cell_type": "markdown",
   "id": "e8d4cb38",
   "metadata": {
    "papermill": {
     "duration": 0.097368,
     "end_time": "2022-08-20T21:02:49.711339",
     "exception": false,
     "start_time": "2022-08-20T21:02:49.613971",
     "status": "completed"
    },
    "tags": []
   },
   "source": [
    "So every essay in the CSV is represented in the folder. At least for the train set."
   ]
  },
  {
   "cell_type": "markdown",
   "id": "26e9b9ff",
   "metadata": {
    "papermill": {
     "duration": 0.097285,
     "end_time": "2022-08-20T21:02:49.904873",
     "exception": false,
     "start_time": "2022-08-20T21:02:49.807588",
     "status": "completed"
    },
    "tags": []
   },
   "source": [
    "# Topics/Prompts\n",
    "\n",
    "[@jdoesv](https://www.kaggle.com/jdoesv) put together a really useful [notebook](https://www.kaggle.com/code/jdoesv/topics-identification), which runs [BERTopic](https://maartengr.github.io/BERTopic/index.html) across each of the training examples. This uncovers the essay prompts used for each of the training examples.\n",
    "\n",
    "jdoesv determines that there are [15 essay prompts used in the dataset](https://www.kaggle.com/competitions/feedback-prize-effectiveness/discussion/327514). The topic information is useful for data analysis, and will potentially be useful in the final model, so I'm joining it with the competition dataset."
   ]
  },
  {
   "cell_type": "code",
   "execution_count": 11,
   "id": "a8e0bd4e",
   "metadata": {
    "_kg_hide-input": true,
    "execution": {
     "iopub.execute_input": "2022-08-20T21:02:50.098215Z",
     "iopub.status.busy": "2022-08-20T21:02:50.097936Z",
     "iopub.status.idle": "2022-08-20T21:02:50.180011Z",
     "shell.execute_reply": "2022-08-20T21:02:50.179291Z"
    },
    "papermill": {
     "duration": 0.181131,
     "end_time": "2022-08-20T21:02:50.182219",
     "exception": false,
     "start_time": "2022-08-20T21:02:50.001088",
     "status": "completed"
    },
    "tags": []
   },
   "outputs": [],
   "source": [
    "topic_pred_df = pd.read_csv('../input/feedback-topics-identification-with-bertopic/topic_model_feedback.csv')\n",
    "topic_pred_df = topic_pred_df.drop(columns={'prob'})\n",
    "topic_pred_df = topic_pred_df.rename(columns={'id': 'essay_id'})\n",
    "\n",
    "topic_meta_df = pd.read_csv('../input/feedback-topics-identification-with-bertopic/topic_model_metadata.csv')\n",
    "topic_meta_df = topic_meta_df.rename(columns={'Topic': 'topic', 'Name': 'topic_name'}).drop(columns=['Count'])\n",
    "topic_meta_df.topic_name = topic_meta_df.topic_name.apply(lambda n: ' '.join(n.split('_')[1:]))\n",
    "\n",
    "topic_pred_df = topic_pred_df.merge(topic_meta_df, on='topic', how='left')\n",
    "\n",
    "train_df = train_df.merge(topic_pred_df, on='essay_id', how='left')"
   ]
  },
  {
   "cell_type": "code",
   "execution_count": 12,
   "id": "f95d132d",
   "metadata": {
    "_kg_hide-input": true,
    "execution": {
     "iopub.execute_input": "2022-08-20T21:02:50.378001Z",
     "iopub.status.busy": "2022-08-20T21:02:50.377299Z",
     "iopub.status.idle": "2022-08-20T21:02:50.697875Z",
     "shell.execute_reply": "2022-08-20T21:02:50.697135Z"
    },
    "papermill": {
     "duration": 0.421219,
     "end_time": "2022-08-20T21:02:50.700350",
     "exception": false,
     "start_time": "2022-08-20T21:02:50.279131",
     "status": "completed"
    },
    "tags": []
   },
   "outputs": [
    {
     "data": {
      "image/png": "[encoded data removed]",
      "text/plain": [
       "<Figure size 720x360 with 1 Axes>"
      ]
     },
     "metadata": {
      "needs_background": "light"
     },
     "output_type": "display_data"
    }
   ],
   "source": [
    "fig = plt.figure(figsize=(10, 5))\n",
    "ax = fig.add_subplot()\n",
    " \n",
    "sns.countplot(y=\"topic_name\", data=train_df, linewidth=1.25, alpha=1, ax=ax, zorder=2, orient='v')\n",
    "ax.set_title(\"Topic distribution\")\n",
    "\n",
    "for tick in ax.get_xticklabels():\n",
    "    tick.set_rotation(90)\n",
    "fig.show()"
   ]
  },
  {
   "cell_type": "markdown",
   "id": "aa8ae228",
   "metadata": {
    "papermill": {
     "duration": 0.098973,
     "end_time": "2022-08-20T21:02:50.898654",
     "exception": false,
     "start_time": "2022-08-20T21:02:50.799681",
     "status": "completed"
    },
    "tags": []
   },
   "source": [
    "Next, let's take a look at the competition metadata and start speculating on how it could be useful."
   ]
  },
  {
   "cell_type": "markdown",
   "id": "94697a5a",
   "metadata": {
    "papermill": {
     "duration": 0.098017,
     "end_time": "2022-08-20T21:02:51.096961",
     "exception": false,
     "start_time": "2022-08-20T21:02:50.998944",
     "status": "completed"
    },
    "tags": []
   },
   "source": [
    "## Discourse Type\n",
    "\n",
    "Each essay element contains discourse type metadata. There are 7 `discourse_type` values with explainations taken from the [data page](https://www.kaggle.com/competitions/feedback-prize-effectiveness/data).\n",
    "\n",
    "* `Lead` - an introduction that begins with a statistic, a quotation, a description, or some other device to grab the reader’s attention and point toward the thesis\n",
    "* `Position` - an opinion or conclusion on the main question\n",
    "* `Claim` - a claim that supports the position\n",
    "* `Counterclaim` - a claim that refutes another claim or gives an opposing reason to the position\n",
    "* `Rebuttal` - a claim that refutes a counterclaim\n",
    "* `Evidence` - ideas or examples that support claims, counterclaims, or rebuttals.\n",
    "* `Concluding Statement` - a concluding statement that restates the claims.\n",
    "\n",
    "Let's look at the distribution across the whole dataset."
   ]
  },
  {
   "cell_type": "code",
   "execution_count": 13,
   "id": "0bef5eaf",
   "metadata": {
    "_kg_hide-input": true,
    "execution": {
     "iopub.execute_input": "2022-08-20T21:02:51.296983Z",
     "iopub.status.busy": "2022-08-20T21:02:51.296728Z",
     "iopub.status.idle": "2022-08-20T21:02:51.517924Z",
     "shell.execute_reply": "2022-08-20T21:02:51.517215Z"
    },
    "papermill": {
     "duration": 0.324604,
     "end_time": "2022-08-20T21:02:51.519832",
     "exception": false,
     "start_time": "2022-08-20T21:02:51.195228",
     "status": "completed"
    },
    "tags": []
   },
   "outputs": [
    {
     "data": {
      "image/png": "[encoded data removed]",
      "text/plain": [
       "<Figure size 720x360 with 1 Axes>"
      ]
     },
     "metadata": {
      "needs_background": "light"
     },
     "output_type": "display_data"
    }
   ],
   "source": [
    "fig = plt.figure(figsize=(10, 5))\n",
    "ax = fig.add_subplot()\n",
    "sns.countplot(x=\"discourse_type\", data=train_df, linewidth=1.25, alpha=1, ax=ax, zorder=2)\n",
    "ax.set_title(\"Discourse type distribution\")\n",
    "fig.show()"
   ]
  },
  {
   "cell_type": "markdown",
   "id": "933a519d",
   "metadata": {
    "papermill": {
     "duration": 0.099369,
     "end_time": "2022-08-20T21:02:51.718759",
     "exception": false,
     "start_time": "2022-08-20T21:02:51.619390",
     "status": "completed"
    },
    "tags": []
   },
   "source": [
    "In the next section, we'll explore the Discourse Effectiveness field. For now, it's sufficient to know there are three possible values: `Adequate`, `Efficient`, and `Ineffective`. Let's see the distribution of Discourse Type across Discourse Effectiveness."
   ]
  },
  {
   "cell_type": "code",
   "execution_count": 14,
   "id": "debb955d",
   "metadata": {
    "execution": {
     "iopub.execute_input": "2022-08-20T21:02:51.917828Z",
     "iopub.status.busy": "2022-08-20T21:02:51.917563Z",
     "iopub.status.idle": "2022-08-20T21:02:51.921489Z",
     "shell.execute_reply": "2022-08-20T21:02:51.920658Z"
    },
    "papermill": {
     "duration": 0.105476,
     "end_time": "2022-08-20T21:02:51.924001",
     "exception": false,
     "start_time": "2022-08-20T21:02:51.818525",
     "status": "completed"
    },
    "tags": []
   },
   "outputs": [],
   "source": [
    "labels = ['Adequate', 'Effective', 'Ineffective']"
   ]
  },
  {
   "cell_type": "code",
   "execution_count": 15,
   "id": "627a10f9",
   "metadata": {
    "_kg_hide-input": true,
    "execution": {
     "iopub.execute_input": "2022-08-20T21:02:52.124347Z",
     "iopub.status.busy": "2022-08-20T21:02:52.124059Z",
     "iopub.status.idle": "2022-08-20T21:02:52.729031Z",
     "shell.execute_reply": "2022-08-20T21:02:52.728345Z"
    },
    "papermill": {
     "duration": 0.707417,
     "end_time": "2022-08-20T21:02:52.731006",
     "exception": false,
     "start_time": "2022-08-20T21:02:52.023589",
     "status": "completed"
    },
    "tags": []
   },
   "outputs": [
    {
     "data": {
      "image/png": "[encoded data removed]",
      "text/plain": [
       "<Figure size 1800x216 with 7 Axes>"
      ]
     },
     "metadata": {
      "needs_background": "light"
     },
     "output_type": "display_data"
    }
   ],
   "source": [
    "discourse_types = train_df.discourse_type.unique()\n",
    "\n",
    "fig, axes = plt.subplots(1, len(discourse_types), sharex='col', sharey='row', figsize=(25, 3))\n",
    "for i, discourse_type in enumerate(discourse_types):\n",
    "    ax = axes[i]\n",
    "    filtered_df = train_df[train_df.discourse_type == discourse_type]\n",
    "    sns.countplot(x=\"discourse_effectiveness\", data=filtered_df, linewidth=1.25, alpha=1, ax=ax, zorder=2, order=labels)\n",
    "    ax.set_title(discourse_type)\n",
    "    ax.set(xlabel=None, ylabel=None)\n",
    "    \n",
    "fig.suptitle('Discourse Effectiveness distribution per Discourse Type', y=1.08)\n",
    "plt.show()"
   ]
  },
  {
   "cell_type": "markdown",
   "id": "495e3a15",
   "metadata": {
    "papermill": {
     "duration": 0.099276,
     "end_time": "2022-08-20T21:02:52.929952",
     "exception": false,
     "start_time": "2022-08-20T21:02:52.830676",
     "status": "completed"
    },
    "tags": []
   },
   "source": [
    "It seems that you have highest probability of having your section marked `Ineffective` within the `Evidence` Discourse Type.\n",
    "\n",
    "That makes sense as the degree of Evidence seems more objectively quantifiable."
   ]
  },
  {
   "cell_type": "markdown",
   "id": "aaa6d10b",
   "metadata": {
    "papermill": {
     "duration": 0.099213,
     "end_time": "2022-08-20T21:02:53.128247",
     "exception": false,
     "start_time": "2022-08-20T21:02:53.029034",
     "status": "completed"
    },
    "tags": []
   },
   "source": [
    "## Discourse Effectiveness (label)"
   ]
  },
  {
   "cell_type": "markdown",
   "id": "45984fa7",
   "metadata": {
    "papermill": {
     "duration": 0.112017,
     "end_time": "2022-08-20T21:02:53.340167",
     "exception": false,
     "start_time": "2022-08-20T21:02:53.228150",
     "status": "completed"
    },
    "tags": []
   },
   "source": [
    "Each essay section is labelled from one of three labels: `Adequate`, `Effective`, and `Ineffective`."
   ]
  },
  {
   "cell_type": "code",
   "execution_count": 16,
   "id": "45af042d",
   "metadata": {
    "execution": {
     "iopub.execute_input": "2022-08-20T21:02:53.541117Z",
     "iopub.status.busy": "2022-08-20T21:02:53.540310Z",
     "iopub.status.idle": "2022-08-20T21:02:53.547689Z",
     "shell.execute_reply": "2022-08-20T21:02:53.546971Z"
    },
    "papermill": {
     "duration": 0.108992,
     "end_time": "2022-08-20T21:02:53.549408",
     "exception": false,
     "start_time": "2022-08-20T21:02:53.440416",
     "status": "completed"
    },
    "tags": []
   },
   "outputs": [
    {
     "data": {
      "text/plain": [
       "['Adequate', 'Effective', 'Ineffective']"
      ]
     },
     "execution_count": 16,
     "metadata": {},
     "output_type": "execute_result"
    }
   ],
   "source": [
    "labels"
   ]
  },
  {
   "cell_type": "markdown",
   "id": "68bbcf2e",
   "metadata": {
    "papermill": {
     "duration": 0.099046,
     "end_time": "2022-08-20T21:02:53.749118",
     "exception": false,
     "start_time": "2022-08-20T21:02:53.650072",
     "status": "completed"
    },
    "tags": []
   },
   "source": [
    "Let's explore the distribution."
   ]
  },
  {
   "cell_type": "code",
   "execution_count": 17,
   "id": "d547ae9a",
   "metadata": {
    "_kg_hide-input": true,
    "execution": {
     "iopub.execute_input": "2022-08-20T21:02:53.951034Z",
     "iopub.status.busy": "2022-08-20T21:02:53.950348Z",
     "iopub.status.idle": "2022-08-20T21:02:54.156940Z",
     "shell.execute_reply": "2022-08-20T21:02:54.156121Z"
    },
    "papermill": {
     "duration": 0.310286,
     "end_time": "2022-08-20T21:02:54.158857",
     "exception": false,
     "start_time": "2022-08-20T21:02:53.848571",
     "status": "completed"
    },
    "tags": []
   },
   "outputs": [
    {
     "data": {
      "image/png": "[encoded data removed]",
      "text/plain": [
       "<Figure size 720x360 with 1 Axes>"
      ]
     },
     "metadata": {
      "needs_background": "light"
     },
     "output_type": "display_data"
    }
   ],
   "source": [
    "fig = plt.figure(figsize=(10, 5))\n",
    "ax = fig.add_subplot()\n",
    " \n",
    "sns.countplot(x=\"discourse_effectiveness\", data=train_df, linewidth=1.25, alpha=1, ax=ax, zorder=2)\n",
    "ax.set_title(\"Discourse type distribution\")\n",
    "fig.show()"
   ]
  },
  {
   "cell_type": "markdown",
   "id": "37bbec05",
   "metadata": {
    "papermill": {
     "duration": 0.102624,
     "end_time": "2022-08-20T21:02:54.364225",
     "exception": false,
     "start_time": "2022-08-20T21:02:54.261601",
     "status": "completed"
    },
    "tags": []
   },
   "source": [
    "As we can see, quite an imbalanced dataset. We may want to use some kind of weighting, or perhaps up or downsampling within the solution."
   ]
  },
  {
   "cell_type": "code",
   "execution_count": 18,
   "id": "1eccb6f3",
   "metadata": {
    "_kg_hide-input": true,
    "execution": {
     "iopub.execute_input": "2022-08-20T21:02:54.566877Z",
     "iopub.status.busy": "2022-08-20T21:02:54.566173Z",
     "iopub.status.idle": "2022-08-20T21:02:54.571415Z",
     "shell.execute_reply": "2022-08-20T21:02:54.570697Z"
    },
    "papermill": {
     "duration": 0.108157,
     "end_time": "2022-08-20T21:02:54.573176",
     "exception": false,
     "start_time": "2022-08-20T21:02:54.465019",
     "status": "completed"
    },
    "tags": []
   },
   "outputs": [],
   "source": [
    "from IPython.core.display import display, HTML\n",
    "\n",
    "def show_examples_for_discourse_type(discourse_type, topic):\n",
    "    filt = train_df.query(f'discourse_type == \"{discourse_type}\"').query(f'topic == {topic}').sample(frac=1, random_state=420)\n",
    "    display(HTML(\n",
    "        f\"\"\"\n",
    "        <h4><code>{discourse_type}</code> examples</h4>\n",
    "        <table>\n",
    "            <tr>\n",
    "              <th width=33%>Ineffective</th>\n",
    "              <th width=33%>Adequate</th>\n",
    "              <th width=33%>Effective</th>\n",
    "            </tr>\n",
    "            <tr>\n",
    "              <td>{filt.query(\"discourse_effectiveness == 'Ineffective'\").iloc[0].discourse_text}</td>\n",
    "              <td>{filt.query(\"discourse_effectiveness == 'Adequate'\").iloc[0].discourse_text}</td>\n",
    "              <td>{filt.query(\"discourse_effectiveness == 'Effective'\").iloc[0].discourse_text}</td>\n",
    "            </tr>\n",
    "        </table>\n",
    "        \"\"\"\n",
    "    ))"
   ]
  },
  {
   "cell_type": "markdown",
   "id": "8c242816",
   "metadata": {
    "papermill": {
     "duration": 0.100034,
     "end_time": "2022-08-20T21:02:54.773935",
     "exception": false,
     "start_time": "2022-08-20T21:02:54.673901",
     "status": "completed"
    },
    "tags": []
   },
   "source": [
    "## Examples"
   ]
  },
  {
   "cell_type": "markdown",
   "id": "29e8b896",
   "metadata": {
    "papermill": {
     "duration": 0.101533,
     "end_time": "2022-08-20T21:02:54.975654",
     "exception": false,
     "start_time": "2022-08-20T21:02:54.874121",
     "status": "completed"
    },
    "tags": []
   },
   "source": [
    "Let's see examples of each for each discourse type from topic: `face mars landform aliens`"
   ]
  },
  {
   "cell_type": "markdown",
   "id": "04a26ee7",
   "metadata": {
    "papermill": {
     "duration": 0.100423,
     "end_time": "2022-08-20T21:02:55.176881",
     "exception": false,
     "start_time": "2022-08-20T21:02:55.076458",
     "status": "completed"
    },
    "tags": []
   },
   "source": [
    "# Word Count"
   ]
  },
  {
   "cell_type": "markdown",
   "id": "332c6d54",
   "metadata": {
    "papermill": {
     "duration": 0.103091,
     "end_time": "2022-08-20T21:02:55.384106",
     "exception": false,
     "start_time": "2022-08-20T21:02:55.281015",
     "status": "completed"
    },
    "tags": []
   },
   "source": [
    "Let's look at the word count distribution across the dataset. The token count will inform settings for our model, like max sequence length and the types of model architectures we can use. Only some are suitable for very long sequences."
   ]
  },
  {
   "cell_type": "code",
   "execution_count": 19,
   "id": "1c682bf6",
   "metadata": {
    "_kg_hide-input": true,
    "execution": {
     "iopub.execute_input": "2022-08-20T21:02:55.586332Z",
     "iopub.status.busy": "2022-08-20T21:02:55.585750Z",
     "iopub.status.idle": "2022-08-20T21:02:56.369876Z",
     "shell.execute_reply": "2022-08-20T21:02:56.369144Z"
    },
    "papermill": {
     "duration": 0.88735,
     "end_time": "2022-08-20T21:02:56.371768",
     "exception": false,
     "start_time": "2022-08-20T21:02:55.484418",
     "status": "completed"
    },
    "tags": []
   },
   "outputs": [
    {
     "data": {
      "image/png": "[encoded data removed]",
      "text/plain": [
       "<Figure size 1080x360 with 1 Axes>"
      ]
     },
     "metadata": {
      "needs_background": "light"
     },
     "output_type": "display_data"
    }
   ],
   "source": [
    "fig = plt.figure(figsize=(15, 5))\n",
    "train_df['word_count'] = train_df.discourse_text.apply(lambda x: len(x.split()))\n",
    "sns.histplot(data=train_df, x=\"word_count\")\n",
    "plt.show()"
   ]
  },
  {
   "cell_type": "markdown",
   "id": "96d9c5b1",
   "metadata": {
    "papermill": {
     "duration": 0.101556,
     "end_time": "2022-08-20T21:02:56.574442",
     "exception": false,
     "start_time": "2022-08-20T21:02:56.472886",
     "status": "completed"
    },
    "tags": []
   },
   "source": [
    "The mean word count is 44.65 words:"
   ]
  },
  {
   "cell_type": "code",
   "execution_count": 20,
   "id": "c924c085",
   "metadata": {
    "execution": {
     "iopub.execute_input": "2022-08-20T21:02:56.778926Z",
     "iopub.status.busy": "2022-08-20T21:02:56.778194Z",
     "iopub.status.idle": "2022-08-20T21:02:56.785057Z",
     "shell.execute_reply": "2022-08-20T21:02:56.784338Z"
    },
    "papermill": {
     "duration": 0.111754,
     "end_time": "2022-08-20T21:02:56.786851",
     "exception": false,
     "start_time": "2022-08-20T21:02:56.675097",
     "status": "completed"
    },
    "tags": []
   },
   "outputs": [
    {
     "data": {
      "text/plain": [
       "44.65407316741466"
      ]
     },
     "execution_count": 20,
     "metadata": {},
     "output_type": "execute_result"
    }
   ],
   "source": [
    "train_df['word_count'].mean()"
   ]
  },
  {
   "cell_type": "markdown",
   "id": "5bd7b005",
   "metadata": {
    "papermill": {
     "duration": 0.101271,
     "end_time": "2022-08-20T21:02:56.991185",
     "exception": false,
     "start_time": "2022-08-20T21:02:56.889914",
     "status": "completed"
    },
    "tags": []
   },
   "source": [
    "The max word count is 836."
   ]
  },
  {
   "cell_type": "code",
   "execution_count": 21,
   "id": "7ad86d3f",
   "metadata": {
    "execution": {
     "iopub.execute_input": "2022-08-20T21:02:57.196920Z",
     "iopub.status.busy": "2022-08-20T21:02:57.196650Z",
     "iopub.status.idle": "2022-08-20T21:02:57.202402Z",
     "shell.execute_reply": "2022-08-20T21:02:57.201686Z"
    },
    "papermill": {
     "duration": 0.111259,
     "end_time": "2022-08-20T21:02:57.204369",
     "exception": false,
     "start_time": "2022-08-20T21:02:57.093110",
     "status": "completed"
    },
    "tags": []
   },
   "outputs": [
    {
     "data": {
      "text/plain": [
       "836"
      ]
     },
     "execution_count": 21,
     "metadata": {},
     "output_type": "execute_result"
    }
   ],
   "source": [
    "train_df['word_count'].max()"
   ]
  },
  {
   "cell_type": "markdown",
   "id": "731542a9",
   "metadata": {
    "papermill": {
     "duration": 0.188506,
     "end_time": "2022-08-20T21:02:57.496802",
     "exception": false,
     "start_time": "2022-08-20T21:02:57.308296",
     "status": "completed"
    },
    "tags": []
   },
   "source": [
    "Let's see the first 1000 characters:"
   ]
  },
  {
   "cell_type": "code",
   "execution_count": 22,
   "id": "e9886db2",
   "metadata": {
    "execution": {
     "iopub.execute_input": "2022-08-20T21:02:57.806914Z",
     "iopub.status.busy": "2022-08-20T21:02:57.806595Z",
     "iopub.status.idle": "2022-08-20T21:02:57.816054Z",
     "shell.execute_reply": "2022-08-20T21:02:57.815443Z"
    },
    "papermill": {
     "duration": 0.165511,
     "end_time": "2022-08-20T21:02:57.818302",
     "exception": false,
     "start_time": "2022-08-20T21:02:57.652791",
     "status": "completed"
    },
    "tags": []
   },
   "outputs": [
    {
     "data": {
      "text/plain": [
       "\"You can search the website up so that you can finished it the assignment to handle it in to your teacher if you missing anything from your others class you can finished with your others class you have with your schdule. If you stuck on the question go asked your teacher to helped you out now go to any comptuer that you wanted to be in you have to sign in thorugh your computer to logn in now you hace to wait unitl the screen show up and now go to the website that is on your paper to finished on your assignment on your homework.\\n\\nFirst now go to any comptuer that you wanted to be in you have to sign in thorugh your computer to logn in now you hace to wait unitl the screen is done. Now listen to your teachers to follow the dirction how to go in the website. If you didn't finished the assignment that you can finished it at home. When you take your worksheet home you have to bring it back if you didn't finished it your assignment it be came homework. Now the teacher said now sign off the co\""
      ]
     },
     "execution_count": 22,
     "metadata": {},
     "output_type": "execute_result"
    }
   ],
   "source": [
    "train_df.iloc[train_df['word_count'].idxmax()].discourse_text[:1000]"
   ]
  },
  {
   "cell_type": "markdown",
   "id": "d0e717d1",
   "metadata": {
    "papermill": {
     "duration": 0.102443,
     "end_time": "2022-08-20T21:02:58.063807",
     "exception": false,
     "start_time": "2022-08-20T21:02:57.961364",
     "status": "completed"
    },
    "tags": []
   },
   "source": [
    "Let's see the word count per Discourse Type"
   ]
  },
  {
   "cell_type": "code",
   "execution_count": 23,
   "id": "8a2d7213",
   "metadata": {
    "_kg_hide-input": true,
    "execution": {
     "iopub.execute_input": "2022-08-20T21:02:58.273961Z",
     "iopub.status.busy": "2022-08-20T21:02:58.273655Z",
     "iopub.status.idle": "2022-08-20T21:03:00.067862Z",
     "shell.execute_reply": "2022-08-20T21:03:00.067162Z"
    },
    "papermill": {
     "duration": 1.903321,
     "end_time": "2022-08-20T21:03:00.069915",
     "exception": false,
     "start_time": "2022-08-20T21:02:58.166594",
     "status": "completed"
    },
    "tags": []
   },
   "outputs": [
    {
     "data": {
      "image/png": "[encoded data removed]",
      "text/plain": [
       "<Figure size 1800x360 with 7 Axes>"
      ]
     },
     "metadata": {
      "needs_background": "light"
     },
     "output_type": "display_data"
    }
   ],
   "source": [
    "discourse_types = train_df.discourse_type.unique()\n",
    "\n",
    "fig, axes = plt.subplots(1, len(discourse_types), sharex='col', sharey='row', figsize=(25, 5))\n",
    "for i, discourse_type in enumerate(discourse_types):\n",
    "    filtered_df = train_df[train_df.discourse_type == discourse_type]\n",
    "    sns.histplot(data=filtered_df, x=\"word_count\", ax=axes[i])\n",
    "    axes[i].set_title(discourse_type)\n",
    "    \n",
    "fig.suptitle('Word count distribution per discourse_type', y=1.08)\n",
    "plt.show()"
   ]
  },
  {
   "cell_type": "markdown",
   "id": "72fea462",
   "metadata": {
    "papermill": {
     "duration": 0.103774,
     "end_time": "2022-08-20T21:03:00.277604",
     "exception": false,
     "start_time": "2022-08-20T21:03:00.173830",
     "status": "completed"
    },
    "tags": []
   },
   "source": [
    "So `Claim` and `Evidence` appear to have the largest word count."
   ]
  },
  {
   "cell_type": "markdown",
   "id": "bfe0a642",
   "metadata": {
    "papermill": {
     "duration": 0.104226,
     "end_time": "2022-08-20T21:03:00.486851",
     "exception": false,
     "start_time": "2022-08-20T21:03:00.382625",
     "status": "completed"
    },
    "tags": []
   },
   "source": [
    "# 2021 Data"
   ]
  },
  {
   "cell_type": "markdown",
   "id": "bc3735dc",
   "metadata": {
    "papermill": {
     "duration": 0.156898,
     "end_time": "2022-08-20T21:03:00.842545",
     "exception": false,
     "start_time": "2022-08-20T21:03:00.685647",
     "status": "completed"
    },
    "tags": []
   },
   "source": [
    "In [this](https://www.kaggle.com/code/lextoumbourou/feedback-prize-inference-on-2021-dataset) notebook, I made predictions on the full 2021 set from the original Feedback competition.\n",
    "\n",
    "Let's load them here. I'll exclude any that are in the 2022 subset."
   ]
  },
  {
   "cell_type": "code",
   "execution_count": 24,
   "id": "21925d87",
   "metadata": {
    "execution": {
     "iopub.execute_input": "2022-08-20T21:03:01.159984Z",
     "iopub.status.busy": "2022-08-20T21:03:01.159684Z",
     "iopub.status.idle": "2022-08-20T21:03:02.695454Z",
     "shell.execute_reply": "2022-08-20T21:03:02.694685Z"
    },
    "papermill": {
     "duration": 1.702174,
     "end_time": "2022-08-20T21:03:02.697645",
     "exception": false,
     "start_time": "2022-08-20T21:03:00.995471",
     "status": "completed"
    },
    "tags": []
   },
   "outputs": [],
   "source": [
    "train_2021_preds_df = pd.read_csv('../input/feedback-pseudo-labelling-full-2021-dataset/train_2021_preds.csv')\n",
    "train_2021_preds_df = train_2021_preds_df[train_2021_preds_df.in_2022 == False]"
   ]
  },
  {
   "cell_type": "code",
   "execution_count": null,
   "id": "218ab1f4",
   "metadata": {
    "papermill": {
     "duration": 0.104454,
     "end_time": "2022-08-20T21:03:02.906084",
     "exception": false,
     "start_time": "2022-08-20T21:03:02.801630",
     "status": "completed"
    },
    "tags": []
   },
   "outputs": [],
   "source": []
  },
  {
   "cell_type": "code",
   "execution_count": 25,
   "id": "cb86c560",
   "metadata": {
    "execution": {
     "iopub.execute_input": "2022-08-20T21:03:03.122165Z",
     "iopub.status.busy": "2022-08-20T21:03:03.121390Z",
     "iopub.status.idle": "2022-08-20T21:03:03.375458Z",
     "shell.execute_reply": "2022-08-20T21:03:03.374778Z"
    },
    "papermill": {
     "duration": 0.359541,
     "end_time": "2022-08-20T21:03:03.377348",
     "exception": false,
     "start_time": "2022-08-20T21:03:03.017807",
     "status": "completed"
    },
    "tags": []
   },
   "outputs": [
    {
     "data": {
      "image/png": "[encoded data removed]",
      "text/plain": [
       "<Figure size 720x360 with 1 Axes>"
      ]
     },
     "metadata": {
      "needs_background": "light"
     },
     "output_type": "display_data"
    }
   ],
   "source": [
    "fig = plt.figure(figsize=(10, 5))\n",
    "ax = fig.add_subplot()\n",
    " \n",
    "sns.countplot(x=\"discourse_effectiveness\", data=train_2021_preds_df, linewidth=1.25, alpha=1, ax=ax, zorder=2)\n",
    "ax.set_title(\"Discourse Effectiveness distribution\")\n",
    "fig.show()"
   ]
  },
  {
   "cell_type": "markdown",
   "id": "43b76404",
   "metadata": {
    "papermill": {
     "duration": 0.104777,
     "end_time": "2022-08-20T21:03:03.586722",
     "exception": false,
     "start_time": "2022-08-20T21:03:03.481945",
     "status": "completed"
    },
    "tags": []
   },
   "source": [
    "I'm going to get essays that contain the most confident predictions.\n",
    "\n",
    "That should maintain the same distribution of discourse types."
   ]
  },
  {
   "cell_type": "code",
   "execution_count": 26,
   "id": "37f86306",
   "metadata": {
    "execution": {
     "iopub.execute_input": "2022-08-20T21:03:03.796115Z",
     "iopub.status.busy": "2022-08-20T21:03:03.795854Z",
     "iopub.status.idle": "2022-08-20T21:03:03.799429Z",
     "shell.execute_reply": "2022-08-20T21:03:03.798741Z"
    },
    "papermill": {
     "duration": 0.111297,
     "end_time": "2022-08-20T21:03:03.801335",
     "exception": false,
     "start_time": "2022-08-20T21:03:03.690038",
     "status": "completed"
    },
    "tags": []
   },
   "outputs": [],
   "source": [
    "num_essays = 3000"
   ]
  },
  {
   "cell_type": "code",
   "execution_count": 27,
   "id": "87ee0184",
   "metadata": {
    "execution": {
     "iopub.execute_input": "2022-08-20T21:03:04.010971Z",
     "iopub.status.busy": "2022-08-20T21:03:04.010699Z",
     "iopub.status.idle": "2022-08-20T21:03:04.019795Z",
     "shell.execute_reply": "2022-08-20T21:03:04.019115Z"
    },
    "papermill": {
     "duration": 0.116414,
     "end_time": "2022-08-20T21:03:04.021587",
     "exception": false,
     "start_time": "2022-08-20T21:03:03.905173",
     "status": "completed"
    },
    "tags": []
   },
   "outputs": [],
   "source": [
    "train_2021_preds_df['label_prob'] = train_2021_preds_df[labels].max(axis=1)"
   ]
  },
  {
   "cell_type": "code",
   "execution_count": 28,
   "id": "1257e663",
   "metadata": {
    "execution": {
     "iopub.execute_input": "2022-08-20T21:03:04.232411Z",
     "iopub.status.busy": "2022-08-20T21:03:04.231692Z",
     "iopub.status.idle": "2022-08-20T21:03:04.235734Z",
     "shell.execute_reply": "2022-08-20T21:03:04.234960Z"
    },
    "papermill": {
     "duration": 0.111367,
     "end_time": "2022-08-20T21:03:04.237612",
     "exception": false,
     "start_time": "2022-08-20T21:03:04.126245",
     "status": "completed"
    },
    "tags": []
   },
   "outputs": [],
   "source": [
    "# train_2021_preds_df = train_2021_preds_df.merge(topic_pred_df, on='essay_id', how='l"
   ]
  },
  {
   "cell_type": "code",
   "execution_count": 29,
   "id": "2eba3d3d",
   "metadata": {
    "execution": {
     "iopub.execute_input": "2022-08-20T21:03:04.450386Z",
     "iopub.status.busy": "2022-08-20T21:03:04.450042Z",
     "iopub.status.idle": "2022-08-20T21:03:04.481917Z",
     "shell.execute_reply": "2022-08-20T21:03:04.481163Z"
    },
    "papermill": {
     "duration": 0.140326,
     "end_time": "2022-08-20T21:03:04.484465",
     "exception": false,
     "start_time": "2022-08-20T21:03:04.344139",
     "status": "completed"
    },
    "tags": []
   },
   "outputs": [],
   "source": [
    "confident_essays = train_2021_preds_df[['essay_id', 'label_prob']].groupby('essay_id').mean().sort_values('label_prob', ascending=False)[:num_essays]"
   ]
  },
  {
   "cell_type": "code",
   "execution_count": 30,
   "id": "766ad0a4",
   "metadata": {
    "execution": {
     "iopub.execute_input": "2022-08-20T21:03:04.697984Z",
     "iopub.status.busy": "2022-08-20T21:03:04.697235Z",
     "iopub.status.idle": "2022-08-20T21:03:04.709813Z",
     "shell.execute_reply": "2022-08-20T21:03:04.709125Z"
    },
    "papermill": {
     "duration": 0.121392,
     "end_time": "2022-08-20T21:03:04.711598",
     "exception": false,
     "start_time": "2022-08-20T21:03:04.590206",
     "status": "completed"
    },
    "tags": []
   },
   "outputs": [
    {
     "data": {
      "text/html": [
       "<div>\n",
       "<style scoped>\n",
       "    .dataframe tbody tr th:only-of-type {\n",
       "        vertical-align: middle;\n",
       "    }\n",
       "\n",
       "    .dataframe tbody tr th {\n",
       "        vertical-align: top;\n",
       "    }\n",
       "\n",
       "    .dataframe thead th {\n",
       "        text-align: right;\n",
       "    }\n",
       "</style>\n",
       "<table border=\"1\" class=\"dataframe\">\n",
       "  <thead>\n",
       "    <tr style=\"text-align: right;\">\n",
       "      <th></th>\n",
       "      <th>label_prob</th>\n",
       "    </tr>\n",
       "    <tr>\n",
       "      <th>essay_id</th>\n",
       "      <th></th>\n",
       "    </tr>\n",
       "  </thead>\n",
       "  <tbody>\n",
       "    <tr>\n",
       "      <th>C0B8D39964F8</th>\n",
       "      <td>0.991536</td>\n",
       "    </tr>\n",
       "    <tr>\n",
       "      <th>4CB2DD6AF013</th>\n",
       "      <td>0.987630</td>\n",
       "    </tr>\n",
       "    <tr>\n",
       "      <th>BD45F6A61711</th>\n",
       "      <td>0.986979</td>\n",
       "    </tr>\n",
       "    <tr>\n",
       "      <th>48C1CBC6D003</th>\n",
       "      <td>0.986979</td>\n",
       "    </tr>\n",
       "    <tr>\n",
       "      <th>4FE725215AC3</th>\n",
       "      <td>0.986979</td>\n",
       "    </tr>\n",
       "    <tr>\n",
       "      <th>...</th>\n",
       "      <td>...</td>\n",
       "    </tr>\n",
       "    <tr>\n",
       "      <th>8737264DDCD4</th>\n",
       "      <td>0.803487</td>\n",
       "    </tr>\n",
       "    <tr>\n",
       "      <th>EA8FC87D0CF6</th>\n",
       "      <td>0.803467</td>\n",
       "    </tr>\n",
       "    <tr>\n",
       "      <th>DA67A738611E</th>\n",
       "      <td>0.803446</td>\n",
       "    </tr>\n",
       "    <tr>\n",
       "      <th>6AA91C1058ED</th>\n",
       "      <td>0.803397</td>\n",
       "    </tr>\n",
       "    <tr>\n",
       "      <th>315B09492FB4</th>\n",
       "      <td>0.803385</td>\n",
       "    </tr>\n",
       "  </tbody>\n",
       "</table>\n",
       "<p>3000 rows × 1 columns</p>\n",
       "</div>"
      ],
      "text/plain": [
       "              label_prob\n",
       "essay_id                \n",
       "C0B8D39964F8    0.991536\n",
       "4CB2DD6AF013    0.987630\n",
       "BD45F6A61711    0.986979\n",
       "48C1CBC6D003    0.986979\n",
       "4FE725215AC3    0.986979\n",
       "...                  ...\n",
       "8737264DDCD4    0.803487\n",
       "EA8FC87D0CF6    0.803467\n",
       "DA67A738611E    0.803446\n",
       "6AA91C1058ED    0.803397\n",
       "315B09492FB4    0.803385\n",
       "\n",
       "[3000 rows x 1 columns]"
      ]
     },
     "execution_count": 30,
     "metadata": {},
     "output_type": "execute_result"
    }
   ],
   "source": [
    "confident_essays"
   ]
  },
  {
   "cell_type": "code",
   "execution_count": 31,
   "id": "3d031fa6",
   "metadata": {
    "execution": {
     "iopub.execute_input": "2022-08-20T21:03:04.925323Z",
     "iopub.status.busy": "2022-08-20T21:03:04.925043Z",
     "iopub.status.idle": "2022-08-20T21:03:04.929506Z",
     "shell.execute_reply": "2022-08-20T21:03:04.928809Z"
    },
    "papermill": {
     "duration": 0.112305,
     "end_time": "2022-08-20T21:03:04.931155",
     "exception": false,
     "start_time": "2022-08-20T21:03:04.818850",
     "status": "completed"
    },
    "tags": []
   },
   "outputs": [],
   "source": [
    "essay_ids = set(confident_essays.index)"
   ]
  },
  {
   "cell_type": "code",
   "execution_count": 32,
   "id": "d0c103ba",
   "metadata": {
    "execution": {
     "iopub.execute_input": "2022-08-20T21:03:05.146581Z",
     "iopub.status.busy": "2022-08-20T21:03:05.146308Z",
     "iopub.status.idle": "2022-08-20T21:03:05.166091Z",
     "shell.execute_reply": "2022-08-20T21:03:05.165395Z"
    },
    "papermill": {
     "duration": 0.130663,
     "end_time": "2022-08-20T21:03:05.168018",
     "exception": false,
     "start_time": "2022-08-20T21:03:05.037355",
     "status": "completed"
    },
    "tags": []
   },
   "outputs": [],
   "source": [
    "train_2021_filt_df = train_2021_preds_df[train_2021_preds_df.essay_id.isin(essay_ids)].reset_index(drop=True)"
   ]
  },
  {
   "cell_type": "code",
   "execution_count": 33,
   "id": "edbc1448",
   "metadata": {
    "execution": {
     "iopub.execute_input": "2022-08-20T21:03:05.382677Z",
     "iopub.status.busy": "2022-08-20T21:03:05.382405Z",
     "iopub.status.idle": "2022-08-20T21:03:05.408723Z",
     "shell.execute_reply": "2022-08-20T21:03:05.408054Z"
    },
    "papermill": {
     "duration": 0.136142,
     "end_time": "2022-08-20T21:03:05.410644",
     "exception": false,
     "start_time": "2022-08-20T21:03:05.274502",
     "status": "completed"
    },
    "tags": []
   },
   "outputs": [
    {
     "data": {
      "text/html": [
       "<div>\n",
       "<style scoped>\n",
       "    .dataframe tbody tr th:only-of-type {\n",
       "        vertical-align: middle;\n",
       "    }\n",
       "\n",
       "    .dataframe tbody tr th {\n",
       "        vertical-align: top;\n",
       "    }\n",
       "\n",
       "    .dataframe thead th {\n",
       "        text-align: right;\n",
       "    }\n",
       "</style>\n",
       "<table border=\"1\" class=\"dataframe\">\n",
       "  <thead>\n",
       "    <tr style=\"text-align: right;\">\n",
       "      <th></th>\n",
       "      <th>essay_id</th>\n",
       "      <th>discourse_id</th>\n",
       "      <th>discourse_text</th>\n",
       "      <th>discourse_type</th>\n",
       "      <th>in_2022</th>\n",
       "      <th>topic</th>\n",
       "      <th>topic_name</th>\n",
       "      <th>essay_fn</th>\n",
       "      <th>Adequate</th>\n",
       "      <th>Effective</th>\n",
       "      <th>Ineffective</th>\n",
       "      <th>discourse_effectiveness</th>\n",
       "      <th>label_prob</th>\n",
       "    </tr>\n",
       "  </thead>\n",
       "  <tbody>\n",
       "    <tr>\n",
       "      <th>0</th>\n",
       "      <td>A8445CABFECE</td>\n",
       "      <td>1.622576e+12</td>\n",
       "      <td>Drivers should not be able to use phones while...</td>\n",
       "      <td>Position</td>\n",
       "      <td>False</td>\n",
       "      <td>13</td>\n",
       "      <td>driving phone phones cell</td>\n",
       "      <td>../input/feedback-prize-2021/train/A8445CABFEC...</td>\n",
       "      <td>0.908040</td>\n",
       "      <td>0.009265</td>\n",
       "      <td>0.082794</td>\n",
       "      <td>Adequate</td>\n",
       "      <td>0.908040</td>\n",
       "    </tr>\n",
       "    <tr>\n",
       "      <th>1</th>\n",
       "      <td>A8445CABFECE</td>\n",
       "      <td>1.622576e+12</td>\n",
       "      <td>Drivers who used their phone while operating a...</td>\n",
       "      <td>Claim</td>\n",
       "      <td>False</td>\n",
       "      <td>13</td>\n",
       "      <td>driving phone phones cell</td>\n",
       "      <td>../input/feedback-prize-2021/train/A8445CABFEC...</td>\n",
       "      <td>0.945964</td>\n",
       "      <td>0.016406</td>\n",
       "      <td>0.037720</td>\n",
       "      <td>Adequate</td>\n",
       "      <td>0.945964</td>\n",
       "    </tr>\n",
       "    <tr>\n",
       "      <th>2</th>\n",
       "      <td>A8445CABFECE</td>\n",
       "      <td>1.622576e+12</td>\n",
       "      <td>According to an article by the Edgar Snyder Fi...</td>\n",
       "      <td>Evidence</td>\n",
       "      <td>False</td>\n",
       "      <td>13</td>\n",
       "      <td>driving phone phones cell</td>\n",
       "      <td>../input/feedback-prize-2021/train/A8445CABFEC...</td>\n",
       "      <td>0.607747</td>\n",
       "      <td>0.366536</td>\n",
       "      <td>0.025772</td>\n",
       "      <td>Adequate</td>\n",
       "      <td>0.607747</td>\n",
       "    </tr>\n",
       "    <tr>\n",
       "      <th>3</th>\n",
       "      <td>A8445CABFECE</td>\n",
       "      <td>1.622576e+12</td>\n",
       "      <td>In conclusion, drivers should not able to work...</td>\n",
       "      <td>Concluding Statement</td>\n",
       "      <td>False</td>\n",
       "      <td>13</td>\n",
       "      <td>driving phone phones cell</td>\n",
       "      <td>../input/feedback-prize-2021/train/A8445CABFEC...</td>\n",
       "      <td>0.888509</td>\n",
       "      <td>0.005264</td>\n",
       "      <td>0.106262</td>\n",
       "      <td>Adequate</td>\n",
       "      <td>0.888509</td>\n",
       "    </tr>\n",
       "    <tr>\n",
       "      <th>4</th>\n",
       "      <td>810B70E80E1D</td>\n",
       "      <td>1.622657e+12</td>\n",
       "      <td>I believe that drivers shouldn't use cell phon...</td>\n",
       "      <td>Position</td>\n",
       "      <td>False</td>\n",
       "      <td>13</td>\n",
       "      <td>driving phone phones cell</td>\n",
       "      <td>../input/feedback-prize-2021/train/810B70E80E1...</td>\n",
       "      <td>0.930501</td>\n",
       "      <td>0.012850</td>\n",
       "      <td>0.056717</td>\n",
       "      <td>Adequate</td>\n",
       "      <td>0.930501</td>\n",
       "    </tr>\n",
       "    <tr>\n",
       "      <th>...</th>\n",
       "      <td>...</td>\n",
       "      <td>...</td>\n",
       "      <td>...</td>\n",
       "      <td>...</td>\n",
       "      <td>...</td>\n",
       "      <td>...</td>\n",
       "      <td>...</td>\n",
       "      <td>...</td>\n",
       "      <td>...</td>\n",
       "      <td>...</td>\n",
       "      <td>...</td>\n",
       "      <td>...</td>\n",
       "      <td>...</td>\n",
       "    </tr>\n",
       "    <tr>\n",
       "      <th>27684</th>\n",
       "      <td>408A7D3D2EEC</td>\n",
       "      <td>1.618325e+12</td>\n",
       "      <td>see the persons point of view.</td>\n",
       "      <td>Claim</td>\n",
       "      <td>False</td>\n",
       "      <td>1</td>\n",
       "      <td>advice people ask multiple</td>\n",
       "      <td>../input/feedback-prize-2021/train/408A7D3D2EE...</td>\n",
       "      <td>0.752116</td>\n",
       "      <td>0.176473</td>\n",
       "      <td>0.071187</td>\n",
       "      <td>Adequate</td>\n",
       "      <td>0.752116</td>\n",
       "    </tr>\n",
       "    <tr>\n",
       "      <th>27685</th>\n",
       "      <td>408A7D3D2EEC</td>\n",
       "      <td>1.618325e+12</td>\n",
       "      <td>Let's say this person needs to ask their teach...</td>\n",
       "      <td>Evidence</td>\n",
       "      <td>False</td>\n",
       "      <td>1</td>\n",
       "      <td>advice people ask multiple</td>\n",
       "      <td>../input/feedback-prize-2021/train/408A7D3D2EE...</td>\n",
       "      <td>0.835449</td>\n",
       "      <td>0.104228</td>\n",
       "      <td>0.060160</td>\n",
       "      <td>Adequate</td>\n",
       "      <td>0.835449</td>\n",
       "    </tr>\n",
       "    <tr>\n",
       "      <th>27686</th>\n",
       "      <td>408A7D3D2EEC</td>\n",
       "      <td>1.618325e+12</td>\n",
       "      <td>For instance, they need help picking a collag...</td>\n",
       "      <td>Evidence</td>\n",
       "      <td>False</td>\n",
       "      <td>1</td>\n",
       "      <td>advice people ask multiple</td>\n",
       "      <td>../input/feedback-prize-2021/train/408A7D3D2EE...</td>\n",
       "      <td>0.736979</td>\n",
       "      <td>0.234172</td>\n",
       "      <td>0.028798</td>\n",
       "      <td>Adequate</td>\n",
       "      <td>0.736979</td>\n",
       "    </tr>\n",
       "    <tr>\n",
       "      <th>27687</th>\n",
       "      <td>408A7D3D2EEC</td>\n",
       "      <td>1.618325e+12</td>\n",
       "      <td>For example, they can see what other people ha...</td>\n",
       "      <td>Evidence</td>\n",
       "      <td>False</td>\n",
       "      <td>1</td>\n",
       "      <td>advice people ask multiple</td>\n",
       "      <td>../input/feedback-prize-2021/train/408A7D3D2EE...</td>\n",
       "      <td>0.812663</td>\n",
       "      <td>0.146301</td>\n",
       "      <td>0.041336</td>\n",
       "      <td>Adequate</td>\n",
       "      <td>0.812663</td>\n",
       "    </tr>\n",
       "    <tr>\n",
       "      <th>27688</th>\n",
       "      <td>408A7D3D2EEC</td>\n",
       "      <td>1.618325e+12</td>\n",
       "      <td>In conclusion, asking advice can help someone ...</td>\n",
       "      <td>Concluding Statement</td>\n",
       "      <td>False</td>\n",
       "      <td>1</td>\n",
       "      <td>advice people ask multiple</td>\n",
       "      <td>../input/feedback-prize-2021/train/408A7D3D2EE...</td>\n",
       "      <td>0.812663</td>\n",
       "      <td>0.153361</td>\n",
       "      <td>0.033991</td>\n",
       "      <td>Adequate</td>\n",
       "      <td>0.812663</td>\n",
       "    </tr>\n",
       "  </tbody>\n",
       "</table>\n",
       "<p>27689 rows × 13 columns</p>\n",
       "</div>"
      ],
      "text/plain": [
       "           essay_id  discourse_id  \\\n",
       "0      A8445CABFECE  1.622576e+12   \n",
       "1      A8445CABFECE  1.622576e+12   \n",
       "2      A8445CABFECE  1.622576e+12   \n",
       "3      A8445CABFECE  1.622576e+12   \n",
       "4      810B70E80E1D  1.622657e+12   \n",
       "...             ...           ...   \n",
       "27684  408A7D3D2EEC  1.618325e+12   \n",
       "27685  408A7D3D2EEC  1.618325e+12   \n",
       "27686  408A7D3D2EEC  1.618325e+12   \n",
       "27687  408A7D3D2EEC  1.618325e+12   \n",
       "27688  408A7D3D2EEC  1.618325e+12   \n",
       "\n",
       "                                          discourse_text  \\\n",
       "0      Drivers should not be able to use phones while...   \n",
       "1      Drivers who used their phone while operating a...   \n",
       "2      According to an article by the Edgar Snyder Fi...   \n",
       "3      In conclusion, drivers should not able to work...   \n",
       "4      I believe that drivers shouldn't use cell phon...   \n",
       "...                                                  ...   \n",
       "27684                     see the persons point of view.   \n",
       "27685  Let's say this person needs to ask their teach...   \n",
       "27686   For instance, they need help picking a collag...   \n",
       "27687  For example, they can see what other people ha...   \n",
       "27688  In conclusion, asking advice can help someone ...   \n",
       "\n",
       "             discourse_type  in_2022  topic                  topic_name  \\\n",
       "0                  Position    False     13   driving phone phones cell   \n",
       "1                     Claim    False     13   driving phone phones cell   \n",
       "2                  Evidence    False     13   driving phone phones cell   \n",
       "3      Concluding Statement    False     13   driving phone phones cell   \n",
       "4                  Position    False     13   driving phone phones cell   \n",
       "...                     ...      ...    ...                         ...   \n",
       "27684                 Claim    False      1  advice people ask multiple   \n",
       "27685              Evidence    False      1  advice people ask multiple   \n",
       "27686              Evidence    False      1  advice people ask multiple   \n",
       "27687              Evidence    False      1  advice people ask multiple   \n",
       "27688  Concluding Statement    False      1  advice people ask multiple   \n",
       "\n",
       "                                                essay_fn  Adequate  Effective  \\\n",
       "0      ../input/feedback-prize-2021/train/A8445CABFEC...  0.908040   0.009265   \n",
       "1      ../input/feedback-prize-2021/train/A8445CABFEC...  0.945964   0.016406   \n",
       "2      ../input/feedback-prize-2021/train/A8445CABFEC...  0.607747   0.366536   \n",
       "3      ../input/feedback-prize-2021/train/A8445CABFEC...  0.888509   0.005264   \n",
       "4      ../input/feedback-prize-2021/train/810B70E80E1...  0.930501   0.012850   \n",
       "...                                                  ...       ...        ...   \n",
       "27684  ../input/feedback-prize-2021/train/408A7D3D2EE...  0.752116   0.176473   \n",
       "27685  ../input/feedback-prize-2021/train/408A7D3D2EE...  0.835449   0.104228   \n",
       "27686  ../input/feedback-prize-2021/train/408A7D3D2EE...  0.736979   0.234172   \n",
       "27687  ../input/feedback-prize-2021/train/408A7D3D2EE...  0.812663   0.146301   \n",
       "27688  ../input/feedback-prize-2021/train/408A7D3D2EE...  0.812663   0.153361   \n",
       "\n",
       "       Ineffective discourse_effectiveness  label_prob  \n",
       "0         0.082794                Adequate    0.908040  \n",
       "1         0.037720                Adequate    0.945964  \n",
       "2         0.025772                Adequate    0.607747  \n",
       "3         0.106262                Adequate    0.888509  \n",
       "4         0.056717                Adequate    0.930501  \n",
       "...            ...                     ...         ...  \n",
       "27684     0.071187                Adequate    0.752116  \n",
       "27685     0.060160                Adequate    0.835449  \n",
       "27686     0.028798                Adequate    0.736979  \n",
       "27687     0.041336                Adequate    0.812663  \n",
       "27688     0.033991                Adequate    0.812663  \n",
       "\n",
       "[27689 rows x 13 columns]"
      ]
     },
     "execution_count": 33,
     "metadata": {},
     "output_type": "execute_result"
    }
   ],
   "source": [
    "train_2021_filt_df"
   ]
  },
  {
   "cell_type": "code",
   "execution_count": 34,
   "id": "bae42c3f",
   "metadata": {
    "execution": {
     "iopub.execute_input": "2022-08-20T21:03:05.629732Z",
     "iopub.status.busy": "2022-08-20T21:03:05.629466Z",
     "iopub.status.idle": "2022-08-20T21:03:05.634627Z",
     "shell.execute_reply": "2022-08-20T21:03:05.633952Z"
    },
    "papermill": {
     "duration": 0.11595,
     "end_time": "2022-08-20T21:03:05.636342",
     "exception": false,
     "start_time": "2022-08-20T21:03:05.520392",
     "status": "completed"
    },
    "tags": []
   },
   "outputs": [
    {
     "data": {
      "text/plain": [
       "(27689, 13)"
      ]
     },
     "execution_count": 34,
     "metadata": {},
     "output_type": "execute_result"
    }
   ],
   "source": [
    "train_2021_filt_df.shape"
   ]
  },
  {
   "cell_type": "markdown",
   "id": "619bd31b",
   "metadata": {
    "papermill": {
     "duration": 0.106187,
     "end_time": "2022-08-20T21:03:05.849419",
     "exception": false,
     "start_time": "2022-08-20T21:03:05.743232",
     "status": "completed"
    },
    "tags": []
   },
   "source": [
    "Okay, let's get to training a model!"
   ]
  },
  {
   "cell_type": "markdown",
   "id": "f7c24f24",
   "metadata": {
    "papermill": {
     "duration": 0.106901,
     "end_time": "2022-08-20T21:03:06.062974",
     "exception": false,
     "start_time": "2022-08-20T21:03:05.956073",
     "status": "completed"
    },
    "tags": []
   },
   "source": [
    "# Config"
   ]
  },
  {
   "cell_type": "markdown",
   "id": "94c1ab6d",
   "metadata": {
    "papermill": {
     "duration": 0.108133,
     "end_time": "2022-08-20T21:03:06.279034",
     "exception": false,
     "start_time": "2022-08-20T21:03:06.170901",
     "status": "completed"
    },
    "tags": []
   },
   "source": [
    "I include some additional dropout in the config as the model tends to overfit as well as label smoothing, as it seems to work slightly better in the tests I've performed."
   ]
  },
  {
   "cell_type": "code",
   "execution_count": 35,
   "id": "697eb199",
   "metadata": {
    "execution": {
     "iopub.execute_input": "2022-08-20T21:03:06.493888Z",
     "iopub.status.busy": "2022-08-20T21:03:06.493600Z",
     "iopub.status.idle": "2022-08-20T21:03:06.502942Z",
     "shell.execute_reply": "2022-08-20T21:03:06.502284Z"
    },
    "papermill": {
     "duration": 0.118499,
     "end_time": "2022-08-20T21:03:06.504964",
     "exception": false,
     "start_time": "2022-08-20T21:03:06.386465",
     "status": "completed"
    },
    "tags": []
   },
   "outputs": [],
   "source": [
    "config = SimpleNamespace()\n",
    "\n",
    "config.seed = 42\n",
    "config.model_name = 'microsoft/deberta-large'\n",
    "\n",
    "config.output_path = Path('./')\n",
    "config.input_path = Path('../input/feedback-prize-effectiveness')\n",
    "\n",
    "config.n_folds = 5\n",
    "config.lr = 1e-6\n",
    "config.weight_decay = 0.01\n",
    "config.epochs = 2\n",
    "config.batch_size = 4\n",
    "config.gradient_accumulation_steps = 1\n",
    "config.warm_up_ratio = 0.1\n",
    "config.max_len = 384\n",
    "config.hidden_dropout_prob = 0.1\n",
    "config.label_smoothing_factor = 0.1\n",
    "config.eval_per_epoch = 2\n",
    "\n",
    "logging.disable(logging.WARNING)\n",
    "\n",
    "seed_everything(config.seed)"
   ]
  },
  {
   "cell_type": "markdown",
   "id": "eecf9be4",
   "metadata": {
    "papermill": {
     "duration": 0.107233,
     "end_time": "2022-08-20T21:03:06.720083",
     "exception": false,
     "start_time": "2022-08-20T21:03:06.612850",
     "status": "completed"
    },
    "tags": []
   },
   "source": [
    "# WanDB"
   ]
  },
  {
   "cell_type": "code",
   "execution_count": 36,
   "id": "4d2f6436",
   "metadata": {
    "execution": {
     "iopub.execute_input": "2022-08-20T21:03:06.934639Z",
     "iopub.status.busy": "2022-08-20T21:03:06.934366Z",
     "iopub.status.idle": "2022-08-20T21:03:06.938376Z",
     "shell.execute_reply": "2022-08-20T21:03:06.937647Z"
    },
    "papermill": {
     "duration": 0.1131,
     "end_time": "2022-08-20T21:03:06.940165",
     "exception": false,
     "start_time": "2022-08-20T21:03:06.827065",
     "status": "completed"
    },
    "tags": []
   },
   "outputs": [],
   "source": [
    "if run_type == 'Interactive':\n",
    "    print('Wandb in offline mode.')\n",
    "    os.environ['WANDB_MODE'] = 'offline'"
   ]
  },
  {
   "cell_type": "markdown",
   "id": "0d542126",
   "metadata": {
    "papermill": {
     "duration": 0.10839,
     "end_time": "2022-08-20T21:03:07.156182",
     "exception": false,
     "start_time": "2022-08-20T21:03:07.047792",
     "status": "completed"
    },
    "tags": []
   },
   "source": [
    "The following lines of code assumes that you have a [User Secret](https://www.kaggle.com/product-feedback/114053) setup called `wandb` with your wandb API key."
   ]
  },
  {
   "cell_type": "code",
   "execution_count": 37,
   "id": "72af9d0a",
   "metadata": {
    "execution": {
     "iopub.execute_input": "2022-08-20T21:03:07.378238Z",
     "iopub.status.busy": "2022-08-20T21:03:07.377972Z",
     "iopub.status.idle": "2022-08-20T21:03:10.177236Z",
     "shell.execute_reply": "2022-08-20T21:03:10.176329Z"
    },
    "papermill": {
     "duration": 2.914467,
     "end_time": "2022-08-20T21:03:10.179629",
     "exception": false,
     "start_time": "2022-08-20T21:03:07.265162",
     "status": "completed"
    },
    "tags": []
   },
   "outputs": [
    {
     "name": "stdout",
     "output_type": "stream",
     "text": [
      "Authenticating with wandb.\n",
      "\u001b[34m\u001b[1mwandb\u001b[0m: Appending key for api.wandb.ai to your netrc file: /root/.netrc\r\n"
     ]
    }
   ],
   "source": [
    "print('Authenticating with wandb.')\n",
    "from kaggle_secrets import UserSecretsClient\n",
    "user_secrets = UserSecretsClient()\n",
    "wandb_creds = user_secrets.get_secret(\"wandb\")\n",
    "\n",
    "!wandb login {wandb_creds}"
   ]
  },
  {
   "cell_type": "code",
   "execution_count": 38,
   "id": "b595879e",
   "metadata": {
    "execution": {
     "iopub.execute_input": "2022-08-20T21:03:10.399953Z",
     "iopub.status.busy": "2022-08-20T21:03:10.399155Z",
     "iopub.status.idle": "2022-08-20T21:03:10.403859Z",
     "shell.execute_reply": "2022-08-20T21:03:10.403005Z"
    },
    "papermill": {
     "duration": 0.116646,
     "end_time": "2022-08-20T21:03:10.405722",
     "exception": false,
     "start_time": "2022-08-20T21:03:10.289076",
     "status": "completed"
    },
    "tags": []
   },
   "outputs": [],
   "source": [
    "wandb.config = config.__dict__"
   ]
  },
  {
   "cell_type": "code",
   "execution_count": 39,
   "id": "290ca01d",
   "metadata": {
    "execution": {
     "iopub.execute_input": "2022-08-20T21:03:10.621270Z",
     "iopub.status.busy": "2022-08-20T21:03:10.620970Z",
     "iopub.status.idle": "2022-08-20T21:03:15.907713Z",
     "shell.execute_reply": "2022-08-20T21:03:15.906871Z"
    },
    "papermill": {
     "duration": 5.397097,
     "end_time": "2022-08-20T21:03:15.909647",
     "exception": false,
     "start_time": "2022-08-20T21:03:10.512550",
     "status": "completed"
    },
    "tags": []
   },
   "outputs": [
    {
     "name": "stderr",
     "output_type": "stream",
     "text": [
      "\u001b[34m\u001b[1mwandb\u001b[0m: Currently logged in as: \u001b[33mharshitkmr\u001b[0m. Use \u001b[1m`wandb login --relogin`\u001b[0m to force relogin\n"
     ]
    },
    {
     "data": {
      "text/html": [
       "wandb version 0.13.1 is available!  To upgrade, please run:\n",
       " $ pip install wandb --upgrade"
      ],
      "text/plain": [
       "<IPython.core.display.HTML object>"
      ]
     },
     "metadata": {},
     "output_type": "display_data"
    },
    {
     "data": {
      "text/html": [
       "Tracking run with wandb version 0.12.16"
      ],
      "text/plain": [
       "<IPython.core.display.HTML object>"
      ]
     },
     "metadata": {},
     "output_type": "display_data"
    },
    {
     "data": {
      "text/html": [
       "Run data is saved locally in <code>/kaggle/working/wandb/run-20220820_210311-2vzl5kxw</code>"
      ],
      "text/plain": [
       "<IPython.core.display.HTML object>"
      ]
     },
     "metadata": {},
     "output_type": "display_data"
    },
    {
     "data": {
      "text/html": [
       "Syncing run <strong><a href=\"https://wandb.ai/harshitkmr/feedback-prize-effectiveness/runs/2vzl5kxw\" target=\"_blank\">cool-cherry-15</a></strong> to <a href=\"https://wandb.ai/harshitkmr/feedback-prize-effectiveness\" target=\"_blank\">Weights & Biases</a> (<a href=\"https://wandb.me/run\" target=\"_blank\">docs</a>)<br/>"
      ],
      "text/plain": [
       "<IPython.core.display.HTML object>"
      ]
     },
     "metadata": {},
     "output_type": "display_data"
    },
    {
     "data": {
      "text/html": [
       "<button onClick=\"this.nextSibling.style.display='block';this.style.display='none';\">Display W&B run</button><iframe src=\"https://wandb.ai/harshitkmr/feedback-prize-effectiveness/runs/2vzl5kxw?jupyter=true\" style=\"border:none;width:100%;height:420px;display:none;\"></iframe>"
      ],
      "text/plain": [
       "<wandb.sdk.wandb_run.Run at 0x7f64479bc9d0>"
      ]
     },
     "execution_count": 39,
     "metadata": {},
     "output_type": "execute_result"
    }
   ],
   "source": [
    "wandb.init(project=\"feedback-prize-effectiveness\")"
   ]
  },
  {
   "cell_type": "markdown",
   "id": "33bbc937",
   "metadata": {
    "papermill": {
     "duration": 0.110333,
     "end_time": "2022-08-20T21:03:16.143390",
     "exception": false,
     "start_time": "2022-08-20T21:03:16.033057",
     "status": "completed"
    },
    "tags": []
   },
   "source": [
    "# Setup CV"
   ]
  },
  {
   "cell_type": "markdown",
   "id": "e7e90fd9",
   "metadata": {
    "papermill": {
     "duration": 0.111778,
     "end_time": "2022-08-20T21:03:16.365128",
     "exception": false,
     "start_time": "2022-08-20T21:03:16.253350",
     "status": "completed"
    },
    "tags": []
   },
   "source": [
    "Note that I am using `StratifiedKFold` instead of `StratifiedGroupKFold` here, as it performs better on the LB. This comes at the expense of an accurate CV score."
   ]
  },
  {
   "cell_type": "code",
   "execution_count": 40,
   "id": "3f85c79a",
   "metadata": {
    "execution": {
     "iopub.execute_input": "2022-08-20T21:03:16.587215Z",
     "iopub.status.busy": "2022-08-20T21:03:16.586930Z",
     "iopub.status.idle": "2022-08-20T21:03:16.592549Z",
     "shell.execute_reply": "2022-08-20T21:03:16.591833Z"
    },
    "papermill": {
     "duration": 0.119889,
     "end_time": "2022-08-20T21:03:16.595043",
     "exception": false,
     "start_time": "2022-08-20T21:03:16.475154",
     "status": "completed"
    },
    "tags": []
   },
   "outputs": [],
   "source": [
    "from sklearn.model_selection import StratifiedGroupKFold\n",
    "cv = StratifiedGroupKFold(n_splits=config.n_folds, shuffle=True, random_state=config.seed)"
   ]
  },
  {
   "cell_type": "code",
   "execution_count": 41,
   "id": "5be2914a",
   "metadata": {
    "execution": {
     "iopub.execute_input": "2022-08-20T21:03:16.823008Z",
     "iopub.status.busy": "2022-08-20T21:03:16.822734Z",
     "iopub.status.idle": "2022-08-20T21:03:18.360482Z",
     "shell.execute_reply": "2022-08-20T21:03:18.359716Z"
    },
    "papermill": {
     "duration": 1.651312,
     "end_time": "2022-08-20T21:03:18.362659",
     "exception": false,
     "start_time": "2022-08-20T21:03:16.711347",
     "status": "completed"
    },
    "tags": []
   },
   "outputs": [],
   "source": [
    "train_df['fold'] = -1\n",
    "for fold_num, (train_idxs, test_idxs) in enumerate(cv.split(train_df.index, train_df.discourse_effectiveness, train_df.essay_id)):\n",
    "    train_df.loc[test_idxs, ['fold']] = fold_num"
   ]
  },
  {
   "cell_type": "code",
   "execution_count": 42,
   "id": "51dd9345",
   "metadata": {
    "execution": {
     "iopub.execute_input": "2022-08-20T21:03:18.592619Z",
     "iopub.status.busy": "2022-08-20T21:03:18.592345Z",
     "iopub.status.idle": "2022-08-20T21:03:18.607306Z",
     "shell.execute_reply": "2022-08-20T21:03:18.606062Z"
    },
    "papermill": {
     "duration": 0.133603,
     "end_time": "2022-08-20T21:03:18.612155",
     "exception": false,
     "start_time": "2022-08-20T21:03:18.478552",
     "status": "completed"
    },
    "tags": []
   },
   "outputs": [
    {
     "data": {
      "text/html": [
       "<div>\n",
       "<style scoped>\n",
       "    .dataframe tbody tr th:only-of-type {\n",
       "        vertical-align: middle;\n",
       "    }\n",
       "\n",
       "    .dataframe tbody tr th {\n",
       "        vertical-align: top;\n",
       "    }\n",
       "\n",
       "    .dataframe thead th {\n",
       "        text-align: right;\n",
       "    }\n",
       "</style>\n",
       "<table border=\"1\" class=\"dataframe\">\n",
       "  <thead>\n",
       "    <tr style=\"text-align: right;\">\n",
       "      <th></th>\n",
       "      <th>discourse_id</th>\n",
       "      <th>essay_id</th>\n",
       "      <th>discourse_text</th>\n",
       "      <th>discourse_type</th>\n",
       "      <th>discourse_effectiveness</th>\n",
       "      <th>topic</th>\n",
       "      <th>topic_name</th>\n",
       "      <th>word_count</th>\n",
       "      <th>fold</th>\n",
       "    </tr>\n",
       "  </thead>\n",
       "  <tbody>\n",
       "    <tr>\n",
       "      <th>0</th>\n",
       "      <td>0013cc385424</td>\n",
       "      <td>007ACE74B050</td>\n",
       "      <td>Hi, i'm Isaac, i'm going to be writing about h...</td>\n",
       "      <td>Lead</td>\n",
       "      <td>Adequate</td>\n",
       "      <td>11</td>\n",
       "      <td>face mars landform aliens</td>\n",
       "      <td>67</td>\n",
       "      <td>2</td>\n",
       "    </tr>\n",
       "    <tr>\n",
       "      <th>1</th>\n",
       "      <td>9704a709b505</td>\n",
       "      <td>007ACE74B050</td>\n",
       "      <td>On my perspective, I think that the face is a ...</td>\n",
       "      <td>Position</td>\n",
       "      <td>Adequate</td>\n",
       "      <td>11</td>\n",
       "      <td>face mars landform aliens</td>\n",
       "      <td>41</td>\n",
       "      <td>2</td>\n",
       "    </tr>\n",
       "    <tr>\n",
       "      <th>2</th>\n",
       "      <td>c22adee811b6</td>\n",
       "      <td>007ACE74B050</td>\n",
       "      <td>I think that the face is a natural landform be...</td>\n",
       "      <td>Claim</td>\n",
       "      <td>Adequate</td>\n",
       "      <td>11</td>\n",
       "      <td>face mars landform aliens</td>\n",
       "      <td>21</td>\n",
       "      <td>2</td>\n",
       "    </tr>\n",
       "    <tr>\n",
       "      <th>3</th>\n",
       "      <td>a10d361e54e4</td>\n",
       "      <td>007ACE74B050</td>\n",
       "      <td>If life was on Mars, we would know by now. The...</td>\n",
       "      <td>Evidence</td>\n",
       "      <td>Adequate</td>\n",
       "      <td>11</td>\n",
       "      <td>face mars landform aliens</td>\n",
       "      <td>72</td>\n",
       "      <td>2</td>\n",
       "    </tr>\n",
       "    <tr>\n",
       "      <th>4</th>\n",
       "      <td>db3e453ec4e2</td>\n",
       "      <td>007ACE74B050</td>\n",
       "      <td>People thought that the face was formed by ali...</td>\n",
       "      <td>Counterclaim</td>\n",
       "      <td>Adequate</td>\n",
       "      <td>11</td>\n",
       "      <td>face mars landform aliens</td>\n",
       "      <td>18</td>\n",
       "      <td>2</td>\n",
       "    </tr>\n",
       "  </tbody>\n",
       "</table>\n",
       "</div>"
      ],
      "text/plain": [
       "   discourse_id      essay_id  \\\n",
       "0  0013cc385424  007ACE74B050   \n",
       "1  9704a709b505  007ACE74B050   \n",
       "2  c22adee811b6  007ACE74B050   \n",
       "3  a10d361e54e4  007ACE74B050   \n",
       "4  db3e453ec4e2  007ACE74B050   \n",
       "\n",
       "                                      discourse_text discourse_type  \\\n",
       "0  Hi, i'm Isaac, i'm going to be writing about h...           Lead   \n",
       "1  On my perspective, I think that the face is a ...       Position   \n",
       "2  I think that the face is a natural landform be...          Claim   \n",
       "3  If life was on Mars, we would know by now. The...       Evidence   \n",
       "4  People thought that the face was formed by ali...   Counterclaim   \n",
       "\n",
       "  discourse_effectiveness  topic                 topic_name  word_count  fold  \n",
       "0                Adequate     11  face mars landform aliens          67     2  \n",
       "1                Adequate     11  face mars landform aliens          41     2  \n",
       "2                Adequate     11  face mars landform aliens          21     2  \n",
       "3                Adequate     11  face mars landform aliens          72     2  \n",
       "4                Adequate     11  face mars landform aliens          18     2  "
      ]
     },
     "execution_count": 42,
     "metadata": {},
     "output_type": "execute_result"
    }
   ],
   "source": [
    "train_df.head()"
   ]
  },
  {
   "cell_type": "code",
   "execution_count": 43,
   "id": "a121ca2a",
   "metadata": {
    "execution": {
     "iopub.execute_input": "2022-08-20T21:03:18.838731Z",
     "iopub.status.busy": "2022-08-20T21:03:18.838461Z",
     "iopub.status.idle": "2022-08-20T21:03:19.119412Z",
     "shell.execute_reply": "2022-08-20T21:03:19.118598Z"
    },
    "papermill": {
     "duration": 0.395327,
     "end_time": "2022-08-20T21:03:19.121583",
     "exception": false,
     "start_time": "2022-08-20T21:03:18.726256",
     "status": "completed"
    },
    "tags": []
   },
   "outputs": [],
   "source": [
    "train_df.to_csv(config.output_path / 'train_folds.csv', index=False)"
   ]
  },
  {
   "cell_type": "markdown",
   "id": "c011bff3",
   "metadata": {
    "papermill": {
     "duration": 0.139813,
     "end_time": "2022-08-20T21:03:19.377328",
     "exception": false,
     "start_time": "2022-08-20T21:03:19.237515",
     "status": "completed"
    },
    "tags": []
   },
   "source": [
    "# Tokenizer"
   ]
  },
  {
   "cell_type": "code",
   "execution_count": 44,
   "id": "c6e007c5",
   "metadata": {
    "execution": {
     "iopub.execute_input": "2022-08-20T21:03:19.756572Z",
     "iopub.status.busy": "2022-08-20T21:03:19.756246Z",
     "iopub.status.idle": "2022-08-20T21:03:19.762434Z",
     "shell.execute_reply": "2022-08-20T21:03:19.761746Z"
    },
    "papermill": {
     "duration": 0.177871,
     "end_time": "2022-08-20T21:03:19.766414",
     "exception": false,
     "start_time": "2022-08-20T21:03:19.588543",
     "status": "completed"
    },
    "tags": []
   },
   "outputs": [
    {
     "data": {
      "text/plain": [
       "'microsoft/deberta-large'"
      ]
     },
     "execution_count": 44,
     "metadata": {},
     "output_type": "execute_result"
    }
   ],
   "source": [
    "config.model_name"
   ]
  },
  {
   "cell_type": "code",
   "execution_count": 45,
   "id": "598e7738",
   "metadata": {
    "execution": {
     "iopub.execute_input": "2022-08-20T21:03:20.063042Z",
     "iopub.status.busy": "2022-08-20T21:03:20.062785Z",
     "iopub.status.idle": "2022-08-20T21:03:22.027324Z",
     "shell.execute_reply": "2022-08-20T21:03:22.026510Z"
    },
    "papermill": {
     "duration": 2.085385,
     "end_time": "2022-08-20T21:03:22.029476",
     "exception": false,
     "start_time": "2022-08-20T21:03:19.944091",
     "status": "completed"
    },
    "tags": []
   },
   "outputs": [
    {
     "data": {
      "application/vnd.jupyter.widget-view+json": {
       "model_id": "61cbd3cb25b54557b8d3057e4d7b4146",
       "version_major": 2,
       "version_minor": 0
      },
      "text/plain": [
       "Downloading:   0%|          | 0.00/52.0 [00:00<?, ?B/s]"
      ]
     },
     "metadata": {},
     "output_type": "display_data"
    },
    {
     "data": {
      "application/vnd.jupyter.widget-view+json": {
       "model_id": "2da84b39b0dc49fb99654f1d463d8d06",
       "version_major": 2,
       "version_minor": 0
      },
      "text/plain": [
       "Downloading:   0%|          | 0.00/475 [00:00<?, ?B/s]"
      ]
     },
     "metadata": {},
     "output_type": "display_data"
    },
    {
     "data": {
      "application/vnd.jupyter.widget-view+json": {
       "model_id": "6f30f51303004f11b57406c24955e4ab",
       "version_major": 2,
       "version_minor": 0
      },
      "text/plain": [
       "Downloading:   0%|          | 0.00/878k [00:00<?, ?B/s]"
      ]
     },
     "metadata": {},
     "output_type": "display_data"
    },
    {
     "data": {
      "application/vnd.jupyter.widget-view+json": {
       "model_id": "2d8863204fa1496d931c57063c19f208",
       "version_major": 2,
       "version_minor": 0
      },
      "text/plain": [
       "Downloading:   0%|          | 0.00/446k [00:00<?, ?B/s]"
      ]
     },
     "metadata": {},
     "output_type": "display_data"
    }
   ],
   "source": [
    "tokenizer = AutoTokenizer.from_pretrained(config.model_name, use_fast=True)\n",
    "tokenizer.model_max_length = config.max_len"
   ]
  },
  {
   "cell_type": "code",
   "execution_count": 46,
   "id": "2d63e16a",
   "metadata": {
    "execution": {
     "iopub.execute_input": "2022-08-20T21:03:22.265905Z",
     "iopub.status.busy": "2022-08-20T21:03:22.265176Z",
     "iopub.status.idle": "2022-08-20T21:03:22.274171Z",
     "shell.execute_reply": "2022-08-20T21:03:22.273495Z"
    },
    "papermill": {
     "duration": 0.128405,
     "end_time": "2022-08-20T21:03:22.277065",
     "exception": false,
     "start_time": "2022-08-20T21:03:22.148660",
     "status": "completed"
    },
    "tags": []
   },
   "outputs": [
    {
     "data": {
      "text/plain": [
       "PreTrainedTokenizerFast(name_or_path='microsoft/deberta-large', vocab_size=50265, model_max_len=384, is_fast=True, padding_side='right', truncation_side='right', special_tokens={'bos_token': AddedToken(\"[CLS]\", rstrip=False, lstrip=False, single_word=False, normalized=True), 'eos_token': AddedToken(\"[SEP]\", rstrip=False, lstrip=False, single_word=False, normalized=True), 'unk_token': AddedToken(\"[UNK]\", rstrip=False, lstrip=False, single_word=False, normalized=True), 'sep_token': AddedToken(\"[SEP]\", rstrip=False, lstrip=False, single_word=False, normalized=True), 'pad_token': AddedToken(\"[PAD]\", rstrip=False, lstrip=False, single_word=False, normalized=True), 'cls_token': AddedToken(\"[CLS]\", rstrip=False, lstrip=False, single_word=False, normalized=True), 'mask_token': AddedToken(\"[MASK]\", rstrip=False, lstrip=True, single_word=False, normalized=True)})"
      ]
     },
     "execution_count": 46,
     "metadata": {},
     "output_type": "execute_result"
    }
   ],
   "source": [
    "tokenizer"
   ]
  },
  {
   "cell_type": "code",
   "execution_count": 47,
   "id": "3f14198b",
   "metadata": {
    "execution": {
     "iopub.execute_input": "2022-08-20T21:03:22.514158Z",
     "iopub.status.busy": "2022-08-20T21:03:22.513880Z",
     "iopub.status.idle": "2022-08-20T21:03:22.520633Z",
     "shell.execute_reply": "2022-08-20T21:03:22.519904Z"
    },
    "papermill": {
     "duration": 0.125893,
     "end_time": "2022-08-20T21:03:22.522927",
     "exception": false,
     "start_time": "2022-08-20T21:03:22.397034",
     "status": "completed"
    },
    "tags": []
   },
   "outputs": [],
   "source": [
    "def get_essay(essay_fns):\n",
    "    essay_cache = {}\n",
    "\n",
    "    output = []\n",
    "    for essay_fn in essay_fns:\n",
    "        if essay_fn not in essay_cache:\n",
    "            essay_txt = open(essay_fn).read().strip().lower()\n",
    "            essay_cache[essay_fn] = essay_txt\n",
    "        output.append(essay_cache[essay_fn])\n",
    "\n",
    "    return output"
   ]
  },
  {
   "cell_type": "markdown",
   "id": "1a53afe5",
   "metadata": {
    "papermill": {
     "duration": 0.11548,
     "end_time": "2022-08-20T21:03:22.757591",
     "exception": false,
     "start_time": "2022-08-20T21:03:22.642111",
     "status": "completed"
    },
    "tags": []
   },
   "source": [
    "The essay string is passed as the `text_pair` argument to the tokenisation function. I got this idea from [this](https://www.kaggle.com/code/abhishek/tez-for-feedback-v2-0) kernel. I can't tell you exactly why it helps to pass as `text_pair` instead of concatenating onto the sequence, but it seems to work a bit."
   ]
  },
  {
   "cell_type": "code",
   "execution_count": 48,
   "id": "19d2143a",
   "metadata": {
    "execution": {
     "iopub.execute_input": "2022-08-20T21:03:22.992171Z",
     "iopub.status.busy": "2022-08-20T21:03:22.991456Z",
     "iopub.status.idle": "2022-08-20T21:03:22.997605Z",
     "shell.execute_reply": "2022-08-20T21:03:22.995437Z"
    },
    "papermill": {
     "duration": 0.129421,
     "end_time": "2022-08-20T21:03:23.002249",
     "exception": false,
     "start_time": "2022-08-20T21:03:22.872828",
     "status": "completed"
    },
    "tags": []
   },
   "outputs": [],
   "source": [
    "def tokenizer_func(x):\n",
    "    return tokenizer(x[\"inputs\"], get_essay(x['essay_fn']), truncation=True, max_length=config.max_len)"
   ]
  },
  {
   "cell_type": "markdown",
   "id": "e5714bf4",
   "metadata": {
    "papermill": {
     "duration": 0.116785,
     "end_time": "2022-08-20T21:03:23.237817",
     "exception": false,
     "start_time": "2022-08-20T21:03:23.121032",
     "status": "completed"
    },
    "tags": []
   },
   "source": [
    "Since the `discourse_type` will be potentially valuable information, I'll concatenate it to the essay elements.\n",
    "\n",
    "I'm also concatenating the topic information.\n",
    "\n",
    "Lastly, converting all text to lowercase as it performs better on CV and LB."
   ]
  },
  {
   "cell_type": "code",
   "execution_count": 49,
   "id": "03939aeb",
   "metadata": {
    "execution": {
     "iopub.execute_input": "2022-08-20T21:03:23.508859Z",
     "iopub.status.busy": "2022-08-20T21:03:23.508594Z",
     "iopub.status.idle": "2022-08-20T21:03:23.518615Z",
     "shell.execute_reply": "2022-08-20T21:03:23.517870Z"
    },
    "papermill": {
     "duration": 0.129173,
     "end_time": "2022-08-20T21:03:23.521078",
     "exception": false,
     "start_time": "2022-08-20T21:03:23.391905",
     "status": "completed"
    },
    "tags": []
   },
   "outputs": [],
   "source": [
    "def add_inputs(df, basepath):\n",
    "    df['essay_fn'] = basepath + '/' + df.essay_id + '.txt'\n",
    "    df['inputs'] = df.discourse_type.str.lower() + ' ' + tokenizer.sep_token + ' ' + df.topic_name + ' ' + tokenizer.sep_token + ' ' + df.discourse_text.str.lower()\n",
    "    return df"
   ]
  },
  {
   "cell_type": "code",
   "execution_count": 50,
   "id": "ee4c17f8",
   "metadata": {
    "execution": {
     "iopub.execute_input": "2022-08-20T21:03:23.753100Z",
     "iopub.status.busy": "2022-08-20T21:03:23.752414Z",
     "iopub.status.idle": "2022-08-20T21:03:23.907408Z",
     "shell.execute_reply": "2022-08-20T21:03:23.906620Z"
    },
    "papermill": {
     "duration": 0.272722,
     "end_time": "2022-08-20T21:03:23.909581",
     "exception": false,
     "start_time": "2022-08-20T21:03:23.636859",
     "status": "completed"
    },
    "tags": []
   },
   "outputs": [],
   "source": [
    "train_df = add_inputs(train_df, str(config.input_path / 'train'))\n",
    "train_2021_filt_df = add_inputs(train_2021_filt_df, '../input/feedback-prize-2021/train')"
   ]
  },
  {
   "cell_type": "code",
   "execution_count": 51,
   "id": "457dd702",
   "metadata": {
    "execution": {
     "iopub.execute_input": "2022-08-20T21:03:24.146998Z",
     "iopub.status.busy": "2022-08-20T21:03:24.146290Z",
     "iopub.status.idle": "2022-08-20T21:03:24.178798Z",
     "shell.execute_reply": "2022-08-20T21:03:24.178011Z"
    },
    "papermill": {
     "duration": 0.151794,
     "end_time": "2022-08-20T21:03:24.180559",
     "exception": false,
     "start_time": "2022-08-20T21:03:24.028765",
     "status": "completed"
    },
    "tags": []
   },
   "outputs": [
    {
     "data": {
      "text/html": [
       "<div>\n",
       "<style scoped>\n",
       "    .dataframe tbody tr th:only-of-type {\n",
       "        vertical-align: middle;\n",
       "    }\n",
       "\n",
       "    .dataframe tbody tr th {\n",
       "        vertical-align: top;\n",
       "    }\n",
       "\n",
       "    .dataframe thead th {\n",
       "        text-align: right;\n",
       "    }\n",
       "</style>\n",
       "<table border=\"1\" class=\"dataframe\">\n",
       "  <thead>\n",
       "    <tr style=\"text-align: right;\">\n",
       "      <th></th>\n",
       "      <th>essay_id</th>\n",
       "      <th>discourse_id</th>\n",
       "      <th>discourse_text</th>\n",
       "      <th>discourse_type</th>\n",
       "      <th>in_2022</th>\n",
       "      <th>topic</th>\n",
       "      <th>topic_name</th>\n",
       "      <th>essay_fn</th>\n",
       "      <th>Adequate</th>\n",
       "      <th>Effective</th>\n",
       "      <th>Ineffective</th>\n",
       "      <th>discourse_effectiveness</th>\n",
       "      <th>label_prob</th>\n",
       "      <th>inputs</th>\n",
       "    </tr>\n",
       "  </thead>\n",
       "  <tbody>\n",
       "    <tr>\n",
       "      <th>0</th>\n",
       "      <td>A8445CABFECE</td>\n",
       "      <td>1.622576e+12</td>\n",
       "      <td>Drivers should not be able to use phones while...</td>\n",
       "      <td>Position</td>\n",
       "      <td>False</td>\n",
       "      <td>13</td>\n",
       "      <td>driving phone phones cell</td>\n",
       "      <td>../input/feedback-prize-2021/train/A8445CABFEC...</td>\n",
       "      <td>0.908040</td>\n",
       "      <td>0.009265</td>\n",
       "      <td>0.082794</td>\n",
       "      <td>Adequate</td>\n",
       "      <td>0.908040</td>\n",
       "      <td>position [SEP] driving phone phones cell [SEP]...</td>\n",
       "    </tr>\n",
       "    <tr>\n",
       "      <th>1</th>\n",
       "      <td>A8445CABFECE</td>\n",
       "      <td>1.622576e+12</td>\n",
       "      <td>Drivers who used their phone while operating a...</td>\n",
       "      <td>Claim</td>\n",
       "      <td>False</td>\n",
       "      <td>13</td>\n",
       "      <td>driving phone phones cell</td>\n",
       "      <td>../input/feedback-prize-2021/train/A8445CABFEC...</td>\n",
       "      <td>0.945964</td>\n",
       "      <td>0.016406</td>\n",
       "      <td>0.037720</td>\n",
       "      <td>Adequate</td>\n",
       "      <td>0.945964</td>\n",
       "      <td>claim [SEP] driving phone phones cell [SEP] dr...</td>\n",
       "    </tr>\n",
       "    <tr>\n",
       "      <th>2</th>\n",
       "      <td>A8445CABFECE</td>\n",
       "      <td>1.622576e+12</td>\n",
       "      <td>According to an article by the Edgar Snyder Fi...</td>\n",
       "      <td>Evidence</td>\n",
       "      <td>False</td>\n",
       "      <td>13</td>\n",
       "      <td>driving phone phones cell</td>\n",
       "      <td>../input/feedback-prize-2021/train/A8445CABFEC...</td>\n",
       "      <td>0.607747</td>\n",
       "      <td>0.366536</td>\n",
       "      <td>0.025772</td>\n",
       "      <td>Adequate</td>\n",
       "      <td>0.607747</td>\n",
       "      <td>evidence [SEP] driving phone phones cell [SEP]...</td>\n",
       "    </tr>\n",
       "    <tr>\n",
       "      <th>3</th>\n",
       "      <td>A8445CABFECE</td>\n",
       "      <td>1.622576e+12</td>\n",
       "      <td>In conclusion, drivers should not able to work...</td>\n",
       "      <td>Concluding Statement</td>\n",
       "      <td>False</td>\n",
       "      <td>13</td>\n",
       "      <td>driving phone phones cell</td>\n",
       "      <td>../input/feedback-prize-2021/train/A8445CABFEC...</td>\n",
       "      <td>0.888509</td>\n",
       "      <td>0.005264</td>\n",
       "      <td>0.106262</td>\n",
       "      <td>Adequate</td>\n",
       "      <td>0.888509</td>\n",
       "      <td>concluding statement [SEP] driving phone phone...</td>\n",
       "    </tr>\n",
       "    <tr>\n",
       "      <th>4</th>\n",
       "      <td>810B70E80E1D</td>\n",
       "      <td>1.622657e+12</td>\n",
       "      <td>I believe that drivers shouldn't use cell phon...</td>\n",
       "      <td>Position</td>\n",
       "      <td>False</td>\n",
       "      <td>13</td>\n",
       "      <td>driving phone phones cell</td>\n",
       "      <td>../input/feedback-prize-2021/train/810B70E80E1...</td>\n",
       "      <td>0.930501</td>\n",
       "      <td>0.012850</td>\n",
       "      <td>0.056717</td>\n",
       "      <td>Adequate</td>\n",
       "      <td>0.930501</td>\n",
       "      <td>position [SEP] driving phone phones cell [SEP]...</td>\n",
       "    </tr>\n",
       "    <tr>\n",
       "      <th>...</th>\n",
       "      <td>...</td>\n",
       "      <td>...</td>\n",
       "      <td>...</td>\n",
       "      <td>...</td>\n",
       "      <td>...</td>\n",
       "      <td>...</td>\n",
       "      <td>...</td>\n",
       "      <td>...</td>\n",
       "      <td>...</td>\n",
       "      <td>...</td>\n",
       "      <td>...</td>\n",
       "      <td>...</td>\n",
       "      <td>...</td>\n",
       "      <td>...</td>\n",
       "    </tr>\n",
       "    <tr>\n",
       "      <th>27684</th>\n",
       "      <td>408A7D3D2EEC</td>\n",
       "      <td>1.618325e+12</td>\n",
       "      <td>see the persons point of view.</td>\n",
       "      <td>Claim</td>\n",
       "      <td>False</td>\n",
       "      <td>1</td>\n",
       "      <td>advice people ask multiple</td>\n",
       "      <td>../input/feedback-prize-2021/train/408A7D3D2EE...</td>\n",
       "      <td>0.752116</td>\n",
       "      <td>0.176473</td>\n",
       "      <td>0.071187</td>\n",
       "      <td>Adequate</td>\n",
       "      <td>0.752116</td>\n",
       "      <td>claim [SEP] advice people ask multiple [SEP] s...</td>\n",
       "    </tr>\n",
       "    <tr>\n",
       "      <th>27685</th>\n",
       "      <td>408A7D3D2EEC</td>\n",
       "      <td>1.618325e+12</td>\n",
       "      <td>Let's say this person needs to ask their teach...</td>\n",
       "      <td>Evidence</td>\n",
       "      <td>False</td>\n",
       "      <td>1</td>\n",
       "      <td>advice people ask multiple</td>\n",
       "      <td>../input/feedback-prize-2021/train/408A7D3D2EE...</td>\n",
       "      <td>0.835449</td>\n",
       "      <td>0.104228</td>\n",
       "      <td>0.060160</td>\n",
       "      <td>Adequate</td>\n",
       "      <td>0.835449</td>\n",
       "      <td>evidence [SEP] advice people ask multiple [SEP...</td>\n",
       "    </tr>\n",
       "    <tr>\n",
       "      <th>27686</th>\n",
       "      <td>408A7D3D2EEC</td>\n",
       "      <td>1.618325e+12</td>\n",
       "      <td>For instance, they need help picking a collag...</td>\n",
       "      <td>Evidence</td>\n",
       "      <td>False</td>\n",
       "      <td>1</td>\n",
       "      <td>advice people ask multiple</td>\n",
       "      <td>../input/feedback-prize-2021/train/408A7D3D2EE...</td>\n",
       "      <td>0.736979</td>\n",
       "      <td>0.234172</td>\n",
       "      <td>0.028798</td>\n",
       "      <td>Adequate</td>\n",
       "      <td>0.736979</td>\n",
       "      <td>evidence [SEP] advice people ask multiple [SEP...</td>\n",
       "    </tr>\n",
       "    <tr>\n",
       "      <th>27687</th>\n",
       "      <td>408A7D3D2EEC</td>\n",
       "      <td>1.618325e+12</td>\n",
       "      <td>For example, they can see what other people ha...</td>\n",
       "      <td>Evidence</td>\n",
       "      <td>False</td>\n",
       "      <td>1</td>\n",
       "      <td>advice people ask multiple</td>\n",
       "      <td>../input/feedback-prize-2021/train/408A7D3D2EE...</td>\n",
       "      <td>0.812663</td>\n",
       "      <td>0.146301</td>\n",
       "      <td>0.041336</td>\n",
       "      <td>Adequate</td>\n",
       "      <td>0.812663</td>\n",
       "      <td>evidence [SEP] advice people ask multiple [SEP...</td>\n",
       "    </tr>\n",
       "    <tr>\n",
       "      <th>27688</th>\n",
       "      <td>408A7D3D2EEC</td>\n",
       "      <td>1.618325e+12</td>\n",
       "      <td>In conclusion, asking advice can help someone ...</td>\n",
       "      <td>Concluding Statement</td>\n",
       "      <td>False</td>\n",
       "      <td>1</td>\n",
       "      <td>advice people ask multiple</td>\n",
       "      <td>../input/feedback-prize-2021/train/408A7D3D2EE...</td>\n",
       "      <td>0.812663</td>\n",
       "      <td>0.153361</td>\n",
       "      <td>0.033991</td>\n",
       "      <td>Adequate</td>\n",
       "      <td>0.812663</td>\n",
       "      <td>concluding statement [SEP] advice people ask m...</td>\n",
       "    </tr>\n",
       "  </tbody>\n",
       "</table>\n",
       "<p>27689 rows × 14 columns</p>\n",
       "</div>"
      ],
      "text/plain": [
       "           essay_id  discourse_id  \\\n",
       "0      A8445CABFECE  1.622576e+12   \n",
       "1      A8445CABFECE  1.622576e+12   \n",
       "2      A8445CABFECE  1.622576e+12   \n",
       "3      A8445CABFECE  1.622576e+12   \n",
       "4      810B70E80E1D  1.622657e+12   \n",
       "...             ...           ...   \n",
       "27684  408A7D3D2EEC  1.618325e+12   \n",
       "27685  408A7D3D2EEC  1.618325e+12   \n",
       "27686  408A7D3D2EEC  1.618325e+12   \n",
       "27687  408A7D3D2EEC  1.618325e+12   \n",
       "27688  408A7D3D2EEC  1.618325e+12   \n",
       "\n",
       "                                          discourse_text  \\\n",
       "0      Drivers should not be able to use phones while...   \n",
       "1      Drivers who used their phone while operating a...   \n",
       "2      According to an article by the Edgar Snyder Fi...   \n",
       "3      In conclusion, drivers should not able to work...   \n",
       "4      I believe that drivers shouldn't use cell phon...   \n",
       "...                                                  ...   \n",
       "27684                     see the persons point of view.   \n",
       "27685  Let's say this person needs to ask their teach...   \n",
       "27686   For instance, they need help picking a collag...   \n",
       "27687  For example, they can see what other people ha...   \n",
       "27688  In conclusion, asking advice can help someone ...   \n",
       "\n",
       "             discourse_type  in_2022  topic                  topic_name  \\\n",
       "0                  Position    False     13   driving phone phones cell   \n",
       "1                     Claim    False     13   driving phone phones cell   \n",
       "2                  Evidence    False     13   driving phone phones cell   \n",
       "3      Concluding Statement    False     13   driving phone phones cell   \n",
       "4                  Position    False     13   driving phone phones cell   \n",
       "...                     ...      ...    ...                         ...   \n",
       "27684                 Claim    False      1  advice people ask multiple   \n",
       "27685              Evidence    False      1  advice people ask multiple   \n",
       "27686              Evidence    False      1  advice people ask multiple   \n",
       "27687              Evidence    False      1  advice people ask multiple   \n",
       "27688  Concluding Statement    False      1  advice people ask multiple   \n",
       "\n",
       "                                                essay_fn  Adequate  Effective  \\\n",
       "0      ../input/feedback-prize-2021/train/A8445CABFEC...  0.908040   0.009265   \n",
       "1      ../input/feedback-prize-2021/train/A8445CABFEC...  0.945964   0.016406   \n",
       "2      ../input/feedback-prize-2021/train/A8445CABFEC...  0.607747   0.366536   \n",
       "3      ../input/feedback-prize-2021/train/A8445CABFEC...  0.888509   0.005264   \n",
       "4      ../input/feedback-prize-2021/train/810B70E80E1...  0.930501   0.012850   \n",
       "...                                                  ...       ...        ...   \n",
       "27684  ../input/feedback-prize-2021/train/408A7D3D2EE...  0.752116   0.176473   \n",
       "27685  ../input/feedback-prize-2021/train/408A7D3D2EE...  0.835449   0.104228   \n",
       "27686  ../input/feedback-prize-2021/train/408A7D3D2EE...  0.736979   0.234172   \n",
       "27687  ../input/feedback-prize-2021/train/408A7D3D2EE...  0.812663   0.146301   \n",
       "27688  ../input/feedback-prize-2021/train/408A7D3D2EE...  0.812663   0.153361   \n",
       "\n",
       "       Ineffective discourse_effectiveness  label_prob  \\\n",
       "0         0.082794                Adequate    0.908040   \n",
       "1         0.037720                Adequate    0.945964   \n",
       "2         0.025772                Adequate    0.607747   \n",
       "3         0.106262                Adequate    0.888509   \n",
       "4         0.056717                Adequate    0.930501   \n",
       "...            ...                     ...         ...   \n",
       "27684     0.071187                Adequate    0.752116   \n",
       "27685     0.060160                Adequate    0.835449   \n",
       "27686     0.028798                Adequate    0.736979   \n",
       "27687     0.041336                Adequate    0.812663   \n",
       "27688     0.033991                Adequate    0.812663   \n",
       "\n",
       "                                                  inputs  \n",
       "0      position [SEP] driving phone phones cell [SEP]...  \n",
       "1      claim [SEP] driving phone phones cell [SEP] dr...  \n",
       "2      evidence [SEP] driving phone phones cell [SEP]...  \n",
       "3      concluding statement [SEP] driving phone phone...  \n",
       "4      position [SEP] driving phone phones cell [SEP]...  \n",
       "...                                                  ...  \n",
       "27684  claim [SEP] advice people ask multiple [SEP] s...  \n",
       "27685  evidence [SEP] advice people ask multiple [SEP...  \n",
       "27686  evidence [SEP] advice people ask multiple [SEP...  \n",
       "27687  evidence [SEP] advice people ask multiple [SEP...  \n",
       "27688  concluding statement [SEP] advice people ask m...  \n",
       "\n",
       "[27689 rows x 14 columns]"
      ]
     },
     "execution_count": 51,
     "metadata": {},
     "output_type": "execute_result"
    }
   ],
   "source": [
    "train_2021_filt_df"
   ]
  },
  {
   "cell_type": "markdown",
   "id": "4ad15bf8",
   "metadata": {
    "papermill": {
     "duration": 0.116809,
     "end_time": "2022-08-20T21:03:24.421550",
     "exception": false,
     "start_time": "2022-08-20T21:03:24.304741",
     "status": "completed"
    },
    "tags": []
   },
   "source": [
    "# Model"
   ]
  },
  {
   "cell_type": "markdown",
   "id": "88969c55",
   "metadata": {
    "papermill": {
     "duration": 0.115004,
     "end_time": "2022-08-20T21:03:24.652584",
     "exception": false,
     "start_time": "2022-08-20T21:03:24.537580",
     "status": "completed"
    },
    "tags": []
   },
   "source": [
    "For maximum experimentation flexibility, I've setup a custom head.\n",
    "\n",
    "I've included an implementation of [Multi-Sample Dropout](https://arxiv.org/abs/1905.09788) as the model is overfitting quite quickly.\n",
    "\n",
    "When using HuggingFace Transformers, the [Trainer](https://huggingface.co/docs/transformers/main_classes/trainer) class has a few rules you need to follow when creating custom models:\n",
    "\n",
    "* your model always return tuples or subclasses of ModelOutput.\n",
    "* your model can compute the loss if a labels argument is provided and that loss is returned as the first element of the tuple (if your model returns tuples)\n",
    "* your model can accept multiple label arguments (use the label_names in your TrainingArguments to indicate their name to the Trainer) but none of them should be named \"label\".\n",
    "\n",
    "I've also replaced the `ContextPooler` with a mean pooling layer, as it works better in the tests I've run outside of Kaggle."
   ]
  },
  {
   "cell_type": "code",
   "execution_count": 52,
   "id": "51b42133",
   "metadata": {
    "execution": {
     "iopub.execute_input": "2022-08-20T21:03:24.886380Z",
     "iopub.status.busy": "2022-08-20T21:03:24.886096Z",
     "iopub.status.idle": "2022-08-20T21:03:24.925807Z",
     "shell.execute_reply": "2022-08-20T21:03:24.925001Z"
    },
    "papermill": {
     "duration": 0.158648,
     "end_time": "2022-08-20T21:03:24.927784",
     "exception": false,
     "start_time": "2022-08-20T21:03:24.769136",
     "status": "completed"
    },
    "tags": []
   },
   "outputs": [],
   "source": [
    "import torch\n",
    "from torch import nn\n",
    "from transformers import AutoConfig, AutoModelForSequenceClassification\n",
    "from transformers.models.deberta_v2.modeling_deberta_v2 import ContextPooler\n",
    "from transformers.models.deberta_v2.modeling_deberta_v2 import StableDropout\n",
    "from transformers.modeling_outputs import TokenClassifierOutput\n",
    "\n",
    "def get_dropouts(num, start_prob, increment):\n",
    "    return [StableDropout(start_prob + (increment * i)) for i in range(num)]  \n",
    "\n",
    "class MeanPooling(nn.Module):\n",
    "    def __init__(self):\n",
    "        super(MeanPooling, self).__init__()\n",
    "        \n",
    "    def forward(self, last_hidden_state, attention_mask):\n",
    "        input_mask_expanded = attention_mask.unsqueeze(-1).expand(last_hidden_state.size()).float()\n",
    "        sum_embeddings = torch.sum(last_hidden_state * input_mask_expanded, 1)\n",
    "        sum_mask = input_mask_expanded.sum(1)\n",
    "        sum_mask = torch.clamp(sum_mask, min=1e-9)\n",
    "        mean_embeddings = sum_embeddings / sum_mask\n",
    "        return mean_embeddings\n",
    "\n",
    "class CustomModel(nn.Module):\n",
    "    def __init__(self, backbone):\n",
    "        super(CustomModel, self).__init__()\n",
    "        \n",
    "        self.model = backbone\n",
    "        self.config = self.model.config\n",
    "        self.num_labels = self.config.num_labels\n",
    "\n",
    "        # self.pooler = ContextPooler(self.config)\n",
    "        self.pooler = MeanPooling()\n",
    "        \n",
    "        self.classifier = nn.Linear(self.config.hidden_size, self.num_labels)\n",
    "    \n",
    "        self.dropouts = get_dropouts(num=5, start_prob=config.hidden_dropout_prob - 0.02, increment=0.01)\n",
    "    \n",
    "    def forward(\n",
    "        self,\n",
    "        input_ids=None,\n",
    "        attention_mask=None,\n",
    "        token_type_ids=None,\n",
    "        position_ids=None,\n",
    "        inputs_embeds=None,\n",
    "        labels=None,\n",
    "        output_attentions=None,\n",
    "        output_hidden_states=None,\n",
    "        return_dict=None\n",
    "    ):\n",
    "        outputs = self.model.deberta(\n",
    "            input_ids,\n",
    "            token_type_ids=token_type_ids,\n",
    "            attention_mask=attention_mask,\n",
    "            position_ids=position_ids,\n",
    "            inputs_embeds=inputs_embeds,\n",
    "            output_attentions=output_attentions,\n",
    "            output_hidden_states=output_hidden_states,\n",
    "            return_dict=return_dict,\n",
    "        )\n",
    "        \n",
    "        encoder_layer = outputs[0]\n",
    "        pooled_output = self.pooler(encoder_layer, attention_mask)\n",
    "                      \n",
    "        # Multi-sample dropout.\n",
    "        num_dps = float(len(self.dropouts))\n",
    "        for ii, drop in enumerate(self.dropouts):\n",
    "            if ii == 0:\n",
    "                logits = (self.classifier(drop(pooled_output)) / num_dps)\n",
    "            else:\n",
    "                logits += (self.classifier(drop(pooled_output)) / num_dps)\n",
    "\n",
    "        loss = None\n",
    "        if labels is not None:\n",
    "            loss_fn = nn.CrossEntropyLoss()\n",
    "            logits = logits.view(-1, self.num_labels)\n",
    "            loss = loss_fn(logits, labels.view(-1))\n",
    "\n",
    "        output = (logits,) + outputs[1:]\n",
    "\n",
    "        return TokenClassifierOutput(loss=loss, logits=logits, hidden_states=outputs.hidden_states, attentions=outputs.attentions)"
   ]
  },
  {
   "cell_type": "code",
   "execution_count": 53,
   "id": "4cf67882",
   "metadata": {
    "execution": {
     "iopub.execute_input": "2022-08-20T21:03:25.168035Z",
     "iopub.status.busy": "2022-08-20T21:03:25.167325Z",
     "iopub.status.idle": "2022-08-20T21:03:25.173692Z",
     "shell.execute_reply": "2022-08-20T21:03:25.172903Z"
    },
    "papermill": {
     "duration": 0.128756,
     "end_time": "2022-08-20T21:03:25.176171",
     "exception": false,
     "start_time": "2022-08-20T21:03:25.047415",
     "status": "completed"
    },
    "tags": []
   },
   "outputs": [],
   "source": [
    "def get_backbone_config():\n",
    "    model_config = AutoConfig.from_pretrained(config.model_name, num_labels=3)\n",
    "    model_config.hidden_dropout_prob = config.hidden_dropout_prob\n",
    "    return model_config"
   ]
  },
  {
   "cell_type": "code",
   "execution_count": 54,
   "id": "a450a258",
   "metadata": {
    "execution": {
     "iopub.execute_input": "2022-08-20T21:03:25.416372Z",
     "iopub.status.busy": "2022-08-20T21:03:25.415496Z",
     "iopub.status.idle": "2022-08-20T21:03:25.420853Z",
     "shell.execute_reply": "2022-08-20T21:03:25.420158Z"
    },
    "papermill": {
     "duration": 0.124976,
     "end_time": "2022-08-20T21:03:25.423589",
     "exception": false,
     "start_time": "2022-08-20T21:03:25.298613",
     "status": "completed"
    },
    "tags": []
   },
   "outputs": [],
   "source": [
    "def get_model():\n",
    "    model_config = get_backbone_config()\n",
    "\n",
    "    model = AutoModelForSequenceClassification.from_pretrained(\n",
    "        config.model_name,\n",
    "        config=model_config,\n",
    "    )\n",
    "    return CustomModel(model)"
   ]
  },
  {
   "cell_type": "markdown",
   "id": "5495528b",
   "metadata": {
    "papermill": {
     "duration": 0.170099,
     "end_time": "2022-08-20T21:03:25.713922",
     "exception": false,
     "start_time": "2022-08-20T21:03:25.543823",
     "status": "completed"
    },
    "tags": []
   },
   "source": [
    "Need to save this to generate the backbone offline."
   ]
  },
  {
   "cell_type": "code",
   "execution_count": 55,
   "id": "8745500c",
   "metadata": {
    "execution": {
     "iopub.execute_input": "2022-08-20T21:03:25.946977Z",
     "iopub.status.busy": "2022-08-20T21:03:25.946717Z",
     "iopub.status.idle": "2022-08-20T21:03:26.055061Z",
     "shell.execute_reply": "2022-08-20T21:03:26.054321Z"
    },
    "papermill": {
     "duration": 0.22851,
     "end_time": "2022-08-20T21:03:26.057883",
     "exception": false,
     "start_time": "2022-08-20T21:03:25.829373",
     "status": "completed"
    },
    "tags": []
   },
   "outputs": [],
   "source": [
    "backbone_config = get_backbone_config()\n",
    "backbone_config.save_pretrained('./backbone_config')"
   ]
  },
  {
   "cell_type": "code",
   "execution_count": 56,
   "id": "85086029",
   "metadata": {
    "execution": {
     "iopub.execute_input": "2022-08-20T21:03:26.300074Z",
     "iopub.status.busy": "2022-08-20T21:03:26.299811Z",
     "iopub.status.idle": "2022-08-20T21:05:14.508074Z",
     "shell.execute_reply": "2022-08-20T21:05:14.507324Z"
    },
    "papermill": {
     "duration": 108.331764,
     "end_time": "2022-08-20T21:05:14.510203",
     "exception": false,
     "start_time": "2022-08-20T21:03:26.178439",
     "status": "completed"
    },
    "tags": []
   },
   "outputs": [
    {
     "data": {
      "application/vnd.jupyter.widget-view+json": {
       "model_id": "aeef3e3697704aad942e6ff9c314cfbb",
       "version_major": 2,
       "version_minor": 0
      },
      "text/plain": [
       "Downloading:   0%|          | 0.00/1.52G [00:00<?, ?B/s]"
      ]
     },
     "metadata": {},
     "output_type": "display_data"
    }
   ],
   "source": [
    "model = get_model()"
   ]
  },
  {
   "cell_type": "markdown",
   "id": "8997e30a",
   "metadata": {
    "papermill": {
     "duration": 0.114329,
     "end_time": "2022-08-20T21:05:14.746930",
     "exception": false,
     "start_time": "2022-08-20T21:05:14.632601",
     "status": "completed"
    },
    "tags": []
   },
   "source": [
    "# Training"
   ]
  },
  {
   "cell_type": "markdown",
   "id": "81be0f52",
   "metadata": {
    "papermill": {
     "duration": 0.114816,
     "end_time": "2022-08-20T21:05:14.975848",
     "exception": false,
     "start_time": "2022-08-20T21:05:14.861032",
     "status": "completed"
    },
    "tags": []
   },
   "source": [
    "The loss function Cross-Entropy is identical to the competition metric when running the model output through Softmax.\n",
    "\n",
    "I'll include accuracy as an additional metric as it tends to be human interpretable."
   ]
  },
  {
   "cell_type": "code",
   "execution_count": 57,
   "id": "f3a498b9",
   "metadata": {
    "execution": {
     "iopub.execute_input": "2022-08-20T21:05:15.207752Z",
     "iopub.status.busy": "2022-08-20T21:05:15.207250Z",
     "iopub.status.idle": "2022-08-20T21:05:15.660201Z",
     "shell.execute_reply": "2022-08-20T21:05:15.659462Z"
    },
    "papermill": {
     "duration": 0.571624,
     "end_time": "2022-08-20T21:05:15.662371",
     "exception": false,
     "start_time": "2022-08-20T21:05:15.090747",
     "status": "completed"
    },
    "tags": []
   },
   "outputs": [
    {
     "data": {
      "application/vnd.jupyter.widget-view+json": {
       "model_id": "e6979718be274efb915b9d2f9afeb258",
       "version_major": 2,
       "version_minor": 0
      },
      "text/plain": [
       "Downloading builder script:   0%|          | 0.00/1.41k [00:00<?, ?B/s]"
      ]
     },
     "metadata": {},
     "output_type": "display_data"
    }
   ],
   "source": [
    "metric = load_metric('accuracy')\n",
    "\n",
    "def compute_metrics(eval_pred):\n",
    "    predictions, labels = eval_pred\n",
    "    predictions = np.argmax(predictions, axis=1)\n",
    "    return metric.compute(predictions=predictions, references=labels)"
   ]
  },
  {
   "cell_type": "code",
   "execution_count": 58,
   "id": "2065628d",
   "metadata": {
    "execution": {
     "iopub.execute_input": "2022-08-20T21:05:15.898069Z",
     "iopub.status.busy": "2022-08-20T21:05:15.897813Z",
     "iopub.status.idle": "2022-08-20T21:05:15.904631Z",
     "shell.execute_reply": "2022-08-20T21:05:15.903947Z"
    },
    "papermill": {
     "duration": 0.125211,
     "end_time": "2022-08-20T21:05:15.907091",
     "exception": false,
     "start_time": "2022-08-20T21:05:15.781880",
     "status": "completed"
    },
    "tags": []
   },
   "outputs": [],
   "source": [
    "# train_df = train_df.sample(n=150)\n",
    "# config.epochs = 1"
   ]
  },
  {
   "cell_type": "code",
   "execution_count": 59,
   "id": "da442ec7",
   "metadata": {
    "execution": {
     "iopub.execute_input": "2022-08-20T21:05:16.139107Z",
     "iopub.status.busy": "2022-08-20T21:05:16.138846Z",
     "iopub.status.idle": "2022-08-20T21:05:16.157051Z",
     "shell.execute_reply": "2022-08-20T21:05:16.156069Z"
    },
    "papermill": {
     "duration": 0.136359,
     "end_time": "2022-08-20T21:05:16.159454",
     "exception": false,
     "start_time": "2022-08-20T21:05:16.023095",
     "status": "completed"
    },
    "tags": []
   },
   "outputs": [],
   "source": [
    "import gc\n",
    "def do_fold(fold_num):\n",
    "\n",
    "    gc.collect()\n",
    "    torch.cuda.empty_cache()\n",
    "    train_data  = train_df.query(f'fold != {fold_num}').reset_index(drop=True)\n",
    "\n",
    "    val_data  = train_df.query(f'fold == {fold_num}').reset_index(drop=True)\n",
    "    \n",
    "    # Add 2021 to train data.\n",
    "    train_data = pd.concat([train_data, train_2021_filt_df[['inputs', 'essay_fn', 'discourse_effectiveness']]]).sample(frac=1., random_state=config.seed).reset_index(drop=True)\n",
    "    print(f'Train data size: {train_data.shape}')\n",
    "\n",
    "    train_dataset = Dataset.from_pandas(train_data[['inputs', 'essay_fn', 'discourse_effectiveness']]).rename_column('discourse_effectiveness', 'label').class_encode_column(\"label\")\n",
    "    val_dataset = Dataset.from_pandas(val_data[['inputs', 'essay_fn', 'discourse_effectiveness']]).rename_column('discourse_effectiveness', 'label').class_encode_column(\"label\")\n",
    "\n",
    "    train_tok_dataset = train_dataset.map(tokenizer_func, batched=True, remove_columns=('inputs', 'essay_fn'))\n",
    "    val_tok_dataset = val_dataset.map(tokenizer_func, batched=True, remove_columns=('inputs', 'essay_fn'))\n",
    "\n",
    "    data_collator = DataCollatorWithPadding(tokenizer=tokenizer, padding='longest')\n",
    "\n",
    "    num_steps = len(train_data) / config.batch_size / config.gradient_accumulation_steps\n",
    "    eval_steps = num_steps // config.eval_per_epoch\n",
    "    print(f'Num steps: {num_steps}, eval steps: {eval_steps}')\n",
    "\n",
    "    args = TrainingArguments(\n",
    "        output_dir=config.output_path,\n",
    "        learning_rate=config.lr,\n",
    "        warmup_ratio=config.warm_up_ratio,\n",
    "        lr_scheduler_type='cosine',\n",
    "        fp16=True,\n",
    "        per_device_train_batch_size=config.batch_size,\n",
    "        per_device_eval_batch_size=config.batch_size * 2,\n",
    "        num_train_epochs=config.epochs,\n",
    "        weight_decay=config.weight_decay,\n",
    "        report_to=\"wandb\",\n",
    "\n",
    "        evaluation_strategy='steps',\n",
    "        eval_steps=eval_steps, \n",
    "        save_strategy='steps',\n",
    "        save_steps=eval_steps,\n",
    "        \n",
    "        load_best_model_at_end=True,\n",
    "        gradient_accumulation_steps=config.gradient_accumulation_steps,\n",
    "        label_smoothing_factor=config.label_smoothing_factor,\n",
    "        save_total_limit=3  # Prevents running out of disk space.\n",
    "    )\n",
    "\n",
    "    model = get_model()\n",
    "\n",
    "    trainer = Trainer(\n",
    "        model,\n",
    "        args,\n",
    "        train_dataset=train_tok_dataset,\n",
    "        eval_dataset=val_tok_dataset,\n",
    "        tokenizer=tokenizer,\n",
    "        data_collator=data_collator,\n",
    "        compute_metrics=compute_metrics\n",
    "    )\n",
    "\n",
    "    trainer.train()\n",
    "    \n",
    "    trainer.save_model(config.output_path / f'fold_{fold_num}')\n",
    "    \n",
    "    outputs = trainer.predict(val_tok_dataset)\n",
    "\n",
    "    val_data[labels] = softmax(outputs.predictions, axis=1)\n",
    "    \n",
    "    !rm -rf {config.output_path / 'checkpoint'}*\n",
    "    \n",
    "    return val_data"
   ]
  },
  {
   "cell_type": "code",
   "execution_count": 60,
   "id": "5470f9f7",
   "metadata": {
    "execution": {
     "iopub.execute_input": "2022-08-20T21:05:16.395586Z",
     "iopub.status.busy": "2022-08-20T21:05:16.395123Z",
     "iopub.status.idle": "2022-08-20T21:05:16.400320Z",
     "shell.execute_reply": "2022-08-20T21:05:16.399633Z"
    },
    "papermill": {
     "duration": 0.124282,
     "end_time": "2022-08-20T21:05:16.402689",
     "exception": false,
     "start_time": "2022-08-20T21:05:16.278407",
     "status": "completed"
    },
    "tags": []
   },
   "outputs": [],
   "source": [
    "val_preds_df = pd.DataFrame()\n",
    "\n",
    "#val_data = do_fold(0)\n",
    "\n",
    "#val_preds_df = pd.concat([val_preds_df, val_data])"
   ]
  },
  {
   "cell_type": "markdown",
   "id": "9b7740b4",
   "metadata": {
    "papermill": {
     "duration": 0.117136,
     "end_time": "2022-08-20T21:05:16.643786",
     "exception": false,
     "start_time": "2022-08-20T21:05:16.526650",
     "status": "completed"
    },
    "tags": []
   },
   "source": [
    "+All Folds"
   ]
  },
  {
   "cell_type": "code",
   "execution_count": 61,
   "id": "ff02bf7b",
   "metadata": {
    "execution": {
     "iopub.execute_input": "2022-08-20T21:05:16.877910Z",
     "iopub.status.busy": "2022-08-20T21:05:16.877630Z",
     "iopub.status.idle": "2022-08-21T04:48:08.877668Z",
     "shell.execute_reply": "2022-08-21T04:48:08.876777Z"
    },
    "papermill": {
     "duration": 27772.118649,
     "end_time": "2022-08-21T04:48:08.880127",
     "exception": false,
     "start_time": "2022-08-20T21:05:16.761478",
     "status": "completed"
    },
    "tags": []
   },
   "outputs": [
    {
     "name": "stdout",
     "output_type": "stream",
     "text": [
      "Train data size: (57082, 11)\n"
     ]
    },
    {
     "data": {
      "application/vnd.jupyter.widget-view+json": {
       "model_id": "d514fad262d5409dab9874fac4d5cbd7",
       "version_major": 2,
       "version_minor": 0
      },
      "text/plain": [
       "Casting to class labels:   0%|          | 0/58 [00:00<?, ?ba/s]"
      ]
     },
     "metadata": {},
     "output_type": "display_data"
    },
    {
     "data": {
      "application/vnd.jupyter.widget-view+json": {
       "model_id": "5f0ffe7f1d154b518cc5ad65396c942f",
       "version_major": 2,
       "version_minor": 0
      },
      "text/plain": [
       "Casting the dataset:   0%|          | 0/6 [00:00<?, ?ba/s]"
      ]
     },
     "metadata": {},
     "output_type": "display_data"
    },
    {
     "data": {
      "application/vnd.jupyter.widget-view+json": {
       "model_id": "15a0df93d5c54a5c86f61e3df1af2741",
       "version_major": 2,
       "version_minor": 0
      },
      "text/plain": [
       "Casting to class labels:   0%|          | 0/8 [00:00<?, ?ba/s]"
      ]
     },
     "metadata": {},
     "output_type": "display_data"
    },
    {
     "data": {
      "application/vnd.jupyter.widget-view+json": {
       "model_id": "266776712be245c7af24ba574b13382d",
       "version_major": 2,
       "version_minor": 0
      },
      "text/plain": [
       "Casting the dataset:   0%|          | 0/1 [00:00<?, ?ba/s]"
      ]
     },
     "metadata": {},
     "output_type": "display_data"
    },
    {
     "data": {
      "application/vnd.jupyter.widget-view+json": {
       "model_id": "a9b1c8e5203c459caa54208fee99fbd4",
       "version_major": 2,
       "version_minor": 0
      },
      "text/plain": [
       "  0%|          | 0/58 [00:00<?, ?ba/s]"
      ]
     },
     "metadata": {},
     "output_type": "display_data"
    },
    {
     "data": {
      "application/vnd.jupyter.widget-view+json": {
       "model_id": "960a5ef2b6df467eb9f2b48eefbcaeeb",
       "version_major": 2,
       "version_minor": 0
      },
      "text/plain": [
       "  0%|          | 0/8 [00:00<?, ?ba/s]"
      ]
     },
     "metadata": {},
     "output_type": "display_data"
    },
    {
     "name": "stdout",
     "output_type": "stream",
     "text": [
      "Num steps: 14270.5, eval steps: 7135.0\n"
     ]
    },
    {
     "name": "stderr",
     "output_type": "stream",
     "text": [
      "/opt/conda/lib/python3.7/site-packages/transformers/optimization.py:309: FutureWarning: This implementation of AdamW is deprecated and will be removed in a future version. Use the PyTorch implementation torch.optim.AdamW instead, or set `no_deprecation_warning=True` to disable this warning\n",
      "  FutureWarning,\n"
     ]
    },
    {
     "data": {
      "text/html": [
       "\n",
       "    <div>\n",
       "      \n",
       "      <progress value='28542' max='28542' style='width:300px; height:20px; vertical-align: middle;'></progress>\n",
       "      [28542/28542 7:32:30, Epoch 2/2]\n",
       "    </div>\n",
       "    <table border=\"1\" class=\"dataframe\">\n",
       "  <thead>\n",
       " <tr style=\"text-align: left;\">\n",
       "      <th>Step</th>\n",
       "      <th>Training Loss</th>\n",
       "      <th>Validation Loss</th>\n",
       "      <th>Accuracy</th>\n",
       "    </tr>\n",
       "  </thead>\n",
       "  <tbody>\n",
       "    <tr>\n",
       "      <td>7135</td>\n",
       "      <td>0.676300</td>\n",
       "      <td>0.892015</td>\n",
       "      <td>0.676072</td>\n",
       "    </tr>\n",
       "    <tr>\n",
       "      <td>14270</td>\n",
       "      <td>0.640000</td>\n",
       "      <td>0.946699</td>\n",
       "      <td>0.694113</td>\n",
       "    </tr>\n",
       "    <tr>\n",
       "      <td>21405</td>\n",
       "      <td>0.621900</td>\n",
       "      <td>0.936810</td>\n",
       "      <td>0.707406</td>\n",
       "    </tr>\n",
       "    <tr>\n",
       "      <td>28540</td>\n",
       "      <td>0.592000</td>\n",
       "      <td>0.944992</td>\n",
       "      <td>0.705236</td>\n",
       "    </tr>\n",
       "  </tbody>\n",
       "</table><p>"
      ],
      "text/plain": [
       "<IPython.core.display.HTML object>"
      ]
     },
     "metadata": {},
     "output_type": "display_data"
    },
    {
     "data": {
      "text/html": [
       "\n",
       "    <div>\n",
       "      \n",
       "      <progress value='922' max='922' style='width:300px; height:20px; vertical-align: middle;'></progress>\n",
       "      [922/922 07:16]\n",
       "    </div>\n",
       "    "
      ],
      "text/plain": [
       "<IPython.core.display.HTML object>"
      ]
     },
     "metadata": {},
     "output_type": "display_data"
    },
    {
     "name": "stdout",
     "output_type": "stream",
     "text": [
      "huggingface/tokenizers: The current process just got forked, after parallelism has already been used. Disabling parallelism to avoid deadlocks...\n",
      "To disable this warning, you can either:\n",
      "\t- Avoid using `tokenizers` before the fork if possible\n",
      "\t- Explicitly set the environment variable TOKENIZERS_PARALLELISM=(true | false)\n"
     ]
    }
   ],
   "source": [
    "for fold in range(2,3):\n",
    "    val_data = do_fold(fold)\n",
    "    val_preds_df = pd.concat([val_preds_df, val_data])"
   ]
  },
  {
   "cell_type": "code",
   "execution_count": 62,
   "id": "b411080a",
   "metadata": {
    "execution": {
     "iopub.execute_input": "2022-08-21T04:48:09.130532Z",
     "iopub.status.busy": "2022-08-21T04:48:09.128209Z",
     "iopub.status.idle": "2022-08-21T04:48:09.218515Z",
     "shell.execute_reply": "2022-08-21T04:48:09.217763Z"
    },
    "papermill": {
     "duration": 0.216349,
     "end_time": "2022-08-21T04:48:09.220613",
     "exception": false,
     "start_time": "2022-08-21T04:48:09.004264",
     "status": "completed"
    },
    "tags": []
   },
   "outputs": [],
   "source": [
    "val_preds_df.drop(columns=['inputs']).to_csv(config.output_path / 'val_preds.csv', index=False)"
   ]
  },
  {
   "cell_type": "code",
   "execution_count": 63,
   "id": "150f9829",
   "metadata": {
    "execution": {
     "iopub.execute_input": "2022-08-21T04:48:09.614809Z",
     "iopub.status.busy": "2022-08-21T04:48:09.614489Z",
     "iopub.status.idle": "2022-08-21T04:48:09.692002Z",
     "shell.execute_reply": "2022-08-21T04:48:09.691289Z"
    },
    "papermill": {
     "duration": 0.25814,
     "end_time": "2022-08-21T04:48:09.693851",
     "exception": false,
     "start_time": "2022-08-21T04:48:09.435711",
     "status": "completed"
    },
    "tags": []
   },
   "outputs": [],
   "source": [
    "val_preds_df = pd.read_csv(config.output_path / 'val_preds.csv')"
   ]
  },
  {
   "cell_type": "code",
   "execution_count": 64,
   "id": "d6ff57c0",
   "metadata": {
    "execution": {
     "iopub.execute_input": "2022-08-21T04:48:10.075563Z",
     "iopub.status.busy": "2022-08-21T04:48:10.075243Z",
     "iopub.status.idle": "2022-08-21T04:48:10.100982Z",
     "shell.execute_reply": "2022-08-21T04:48:10.100317Z"
    },
    "papermill": {
     "duration": 0.202701,
     "end_time": "2022-08-21T04:48:10.103165",
     "exception": false,
     "start_time": "2022-08-21T04:48:09.900464",
     "status": "completed"
    },
    "tags": []
   },
   "outputs": [
    {
     "data": {
      "text/html": [
       "<div>\n",
       "<style scoped>\n",
       "    .dataframe tbody tr th:only-of-type {\n",
       "        vertical-align: middle;\n",
       "    }\n",
       "\n",
       "    .dataframe tbody tr th {\n",
       "        vertical-align: top;\n",
       "    }\n",
       "\n",
       "    .dataframe thead th {\n",
       "        text-align: right;\n",
       "    }\n",
       "</style>\n",
       "<table border=\"1\" class=\"dataframe\">\n",
       "  <thead>\n",
       "    <tr style=\"text-align: right;\">\n",
       "      <th></th>\n",
       "      <th>discourse_id</th>\n",
       "      <th>essay_id</th>\n",
       "      <th>discourse_text</th>\n",
       "      <th>discourse_type</th>\n",
       "      <th>discourse_effectiveness</th>\n",
       "      <th>topic</th>\n",
       "      <th>topic_name</th>\n",
       "      <th>word_count</th>\n",
       "      <th>fold</th>\n",
       "      <th>essay_fn</th>\n",
       "      <th>Adequate</th>\n",
       "      <th>Effective</th>\n",
       "      <th>Ineffective</th>\n",
       "    </tr>\n",
       "  </thead>\n",
       "  <tbody>\n",
       "    <tr>\n",
       "      <th>0</th>\n",
       "      <td>0013cc385424</td>\n",
       "      <td>007ACE74B050</td>\n",
       "      <td>Hi, i'm Isaac, i'm going to be writing about h...</td>\n",
       "      <td>Lead</td>\n",
       "      <td>Adequate</td>\n",
       "      <td>11</td>\n",
       "      <td>face mars landform aliens</td>\n",
       "      <td>67</td>\n",
       "      <td>2</td>\n",
       "      <td>../input/feedback-prize-effectiveness/train/00...</td>\n",
       "      <td>0.824</td>\n",
       "      <td>0.05576</td>\n",
       "      <td>0.1197</td>\n",
       "    </tr>\n",
       "  </tbody>\n",
       "</table>\n",
       "</div>"
      ],
      "text/plain": [
       "   discourse_id      essay_id  \\\n",
       "0  0013cc385424  007ACE74B050   \n",
       "\n",
       "                                      discourse_text discourse_type  \\\n",
       "0  Hi, i'm Isaac, i'm going to be writing about h...           Lead   \n",
       "\n",
       "  discourse_effectiveness  topic                 topic_name  word_count  fold  \\\n",
       "0                Adequate     11  face mars landform aliens          67     2   \n",
       "\n",
       "                                            essay_fn  Adequate  Effective  \\\n",
       "0  ../input/feedback-prize-effectiveness/train/00...     0.824    0.05576   \n",
       "\n",
       "   Ineffective  \n",
       "0       0.1197  "
      ]
     },
     "execution_count": 64,
     "metadata": {},
     "output_type": "execute_result"
    }
   ],
   "source": [
    "val_preds_df.head(1)"
   ]
  },
  {
   "cell_type": "markdown",
   "id": "260ae237",
   "metadata": {
    "papermill": {
     "duration": 0.174657,
     "end_time": "2022-08-21T04:48:10.462995",
     "exception": false,
     "start_time": "2022-08-21T04:48:10.288338",
     "status": "completed"
    },
    "tags": []
   },
   "source": [
    "# CV Score"
   ]
  },
  {
   "cell_type": "code",
   "execution_count": 65,
   "id": "38c326b3",
   "metadata": {
    "execution": {
     "iopub.execute_input": "2022-08-21T04:48:10.746900Z",
     "iopub.status.busy": "2022-08-21T04:48:10.746623Z",
     "iopub.status.idle": "2022-08-21T04:48:10.779038Z",
     "shell.execute_reply": "2022-08-21T04:48:10.778116Z"
    },
    "papermill": {
     "duration": 0.155941,
     "end_time": "2022-08-21T04:48:10.780944",
     "exception": false,
     "start_time": "2022-08-21T04:48:10.625003",
     "status": "completed"
    },
    "tags": []
   },
   "outputs": [
    {
     "data": {
      "text/plain": [
       "0.7929519597613467"
      ]
     },
     "execution_count": 65,
     "metadata": {},
     "output_type": "execute_result"
    }
   ],
   "source": [
    "cv = log_loss(val_preds_df['discourse_effectiveness'], val_preds_df[labels])\n",
    "cv"
   ]
  },
  {
   "cell_type": "code",
   "execution_count": 66,
   "id": "572c85ff",
   "metadata": {
    "execution": {
     "iopub.execute_input": "2022-08-21T04:48:11.028166Z",
     "iopub.status.busy": "2022-08-21T04:48:11.027956Z",
     "iopub.status.idle": "2022-08-21T04:48:11.036733Z",
     "shell.execute_reply": "2022-08-21T04:48:11.036107Z"
    },
    "papermill": {
     "duration": 0.13343,
     "end_time": "2022-08-21T04:48:11.038866",
     "exception": false,
     "start_time": "2022-08-21T04:48:10.905436",
     "status": "completed"
    },
    "tags": []
   },
   "outputs": [],
   "source": [
    "wandb.log({\"cv\": cv})"
   ]
  },
  {
   "cell_type": "markdown",
   "id": "db666ed6",
   "metadata": {
    "papermill": {
     "duration": 0.12007,
     "end_time": "2022-08-21T04:48:11.313893",
     "exception": false,
     "start_time": "2022-08-21T04:48:11.193823",
     "status": "completed"
    },
    "tags": []
   },
   "source": [
    "# Model Interpretation"
   ]
  },
  {
   "cell_type": "markdown",
   "id": "86455b7f",
   "metadata": {
    "papermill": {
     "duration": 0.202382,
     "end_time": "2022-08-21T04:48:11.635847",
     "exception": false,
     "start_time": "2022-08-21T04:48:11.433465",
     "status": "completed"
    },
    "tags": []
   },
   "source": [
    "I'm going to explore some of the model's predictions. I hope to learn more about the dataset and its limitations by doing this."
   ]
  },
  {
   "cell_type": "markdown",
   "id": "78c621a0",
   "metadata": {
    "papermill": {
     "duration": 0.119326,
     "end_time": "2022-08-21T04:48:11.875591",
     "exception": false,
     "start_time": "2022-08-21T04:48:11.756265",
     "status": "completed"
    },
    "tags": []
   },
   "source": [
    "Firstly, I'll add a column to calculate the `-log` error per example."
   ]
  },
  {
   "cell_type": "code",
   "execution_count": 67,
   "id": "e72bcb9c",
   "metadata": {
    "execution": {
     "iopub.execute_input": "2022-08-21T04:48:12.116321Z",
     "iopub.status.busy": "2022-08-21T04:48:12.116032Z",
     "iopub.status.idle": "2022-08-21T04:48:12.247701Z",
     "shell.execute_reply": "2022-08-21T04:48:12.246972Z"
    },
    "papermill": {
     "duration": 0.25596,
     "end_time": "2022-08-21T04:48:12.249874",
     "exception": false,
     "start_time": "2022-08-21T04:48:11.993914",
     "status": "completed"
    },
    "tags": []
   },
   "outputs": [],
   "source": [
    "def compute_loss(row):\n",
    "    return -math.log(row[row.discourse_effectiveness])\n",
    "\n",
    "val_preds_df['loss'] = val_preds_df.apply(compute_loss, axis=1)"
   ]
  },
  {
   "cell_type": "markdown",
   "id": "3b4535c1",
   "metadata": {
    "papermill": {
     "duration": 0.120163,
     "end_time": "2022-08-21T04:48:12.495496",
     "exception": false,
     "start_time": "2022-08-21T04:48:12.375333",
     "status": "completed"
    },
    "tags": []
   },
   "source": [
    "And another boolean column to describe where the prediction was correct or not. "
   ]
  },
  {
   "cell_type": "code",
   "execution_count": 68,
   "id": "7ea88179",
   "metadata": {
    "execution": {
     "iopub.execute_input": "2022-08-21T04:48:12.746639Z",
     "iopub.status.busy": "2022-08-21T04:48:12.746148Z",
     "iopub.status.idle": "2022-08-21T04:48:12.767690Z",
     "shell.execute_reply": "2022-08-21T04:48:12.767021Z"
    },
    "papermill": {
     "duration": 0.153052,
     "end_time": "2022-08-21T04:48:12.769458",
     "exception": false,
     "start_time": "2022-08-21T04:48:12.616406",
     "status": "completed"
    },
    "tags": []
   },
   "outputs": [],
   "source": [
    "val_preds_df['predicted'] = val_preds_df[labels].idxmax(axis=1)\n",
    "val_preds_df['is_correct'] = val_preds_df.discourse_effectiveness == val_preds_df.predicted"
   ]
  },
  {
   "cell_type": "markdown",
   "id": "9886f8cd",
   "metadata": {
    "papermill": {
     "duration": 0.119893,
     "end_time": "2022-08-21T04:48:13.014735",
     "exception": false,
     "start_time": "2022-08-21T04:48:12.894842",
     "status": "completed"
    },
    "tags": []
   },
   "source": [
    "## Average error per class"
   ]
  },
  {
   "cell_type": "code",
   "execution_count": 69,
   "id": "9cd2a0b3",
   "metadata": {
    "_kg_hide-input": true,
    "execution": {
     "iopub.execute_input": "2022-08-21T04:48:13.255128Z",
     "iopub.status.busy": "2022-08-21T04:48:13.254896Z",
     "iopub.status.idle": "2022-08-21T04:48:13.272554Z",
     "shell.execute_reply": "2022-08-21T04:48:13.271851Z"
    },
    "papermill": {
     "duration": 0.13898,
     "end_time": "2022-08-21T04:48:13.274333",
     "exception": false,
     "start_time": "2022-08-21T04:48:13.135353",
     "status": "completed"
    },
    "tags": []
   },
   "outputs": [
    {
     "data": {
      "text/html": [
       "<div>\n",
       "<style scoped>\n",
       "    .dataframe tbody tr th:only-of-type {\n",
       "        vertical-align: middle;\n",
       "    }\n",
       "\n",
       "    .dataframe tbody tr th {\n",
       "        vertical-align: top;\n",
       "    }\n",
       "\n",
       "    .dataframe thead th {\n",
       "        text-align: right;\n",
       "    }\n",
       "</style>\n",
       "<table border=\"1\" class=\"dataframe\">\n",
       "  <thead>\n",
       "    <tr style=\"text-align: right;\">\n",
       "      <th></th>\n",
       "      <th>loss</th>\n",
       "    </tr>\n",
       "    <tr>\n",
       "      <th>discourse_effectiveness</th>\n",
       "      <th></th>\n",
       "    </tr>\n",
       "  </thead>\n",
       "  <tbody>\n",
       "    <tr>\n",
       "      <th>Adequate</th>\n",
       "      <td>0.547232</td>\n",
       "    </tr>\n",
       "    <tr>\n",
       "      <th>Effective</th>\n",
       "      <td>0.620222</td>\n",
       "    </tr>\n",
       "    <tr>\n",
       "      <th>Ineffective</th>\n",
       "      <td>1.771418</td>\n",
       "    </tr>\n",
       "  </tbody>\n",
       "</table>\n",
       "</div>"
      ],
      "text/plain": [
       "                             loss\n",
       "discourse_effectiveness          \n",
       "Adequate                 0.547232\n",
       "Effective                0.620222\n",
       "Ineffective              1.771418"
      ]
     },
     "execution_count": 69,
     "metadata": {},
     "output_type": "execute_result"
    }
   ],
   "source": [
    "loss_per_class = val_preds_df[['discourse_effectiveness', 'loss']].groupby('discourse_effectiveness').mean('loss')\n",
    "loss_per_class"
   ]
  },
  {
   "cell_type": "code",
   "execution_count": 70,
   "id": "22b4581a",
   "metadata": {
    "_kg_hide-input": true,
    "execution": {
     "iopub.execute_input": "2022-08-21T04:48:13.522597Z",
     "iopub.status.busy": "2022-08-21T04:48:13.522384Z",
     "iopub.status.idle": "2022-08-21T04:48:13.712931Z",
     "shell.execute_reply": "2022-08-21T04:48:13.712203Z"
    },
    "papermill": {
     "duration": 0.313214,
     "end_time": "2022-08-21T04:48:13.714950",
     "exception": false,
     "start_time": "2022-08-21T04:48:13.401736",
     "status": "completed"
    },
    "tags": []
   },
   "outputs": [
    {
     "data": {
      "image/png": "[encoded data removed]",
      "text/plain": [
       "<Figure size 720x360 with 1 Axes>"
      ]
     },
     "metadata": {
      "needs_background": "light"
     },
     "output_type": "display_data"
    }
   ],
   "source": [
    "fig = plt.figure(figsize=(10, 5))\n",
    "ax = fig.add_subplot()\n",
    "\n",
    "sns.barplot(x=loss_per_class.index, y=loss_per_class.loss, ax=ax)\n",
    "plt.show()"
   ]
  },
  {
   "cell_type": "markdown",
   "id": "88941176",
   "metadata": {
    "papermill": {
     "duration": 0.12152,
     "end_time": "2022-08-21T04:48:13.965299",
     "exception": false,
     "start_time": "2022-08-21T04:48:13.843779",
     "status": "completed"
    },
    "tags": []
   },
   "source": [
    "Clearly the ineffective classes are the most difficult to classify."
   ]
  },
  {
   "cell_type": "markdown",
   "id": "4b6ccd1d",
   "metadata": {
    "papermill": {
     "duration": 0.121579,
     "end_time": "2022-08-21T04:48:14.220831",
     "exception": false,
     "start_time": "2022-08-21T04:48:14.099252",
     "status": "completed"
    },
    "tags": []
   },
   "source": [
    "## Confusion Matrix\n",
    "\n",
    "A confusion matrix is a useful way of viewing which classes the model has the most difficulty with.\n",
    "\n",
    "A common practice to create a nice looking confusion matrix is to pass a scikit Confusion Matrix into a Seaborn Heatmap."
   ]
  },
  {
   "cell_type": "code",
   "execution_count": 71,
   "id": "facc9c7a",
   "metadata": {
    "_kg_hide-input": true,
    "execution": {
     "iopub.execute_input": "2022-08-21T04:48:14.465040Z",
     "iopub.status.busy": "2022-08-21T04:48:14.464788Z",
     "iopub.status.idle": "2022-08-21T04:48:14.747980Z",
     "shell.execute_reply": "2022-08-21T04:48:14.747298Z"
    },
    "papermill": {
     "duration": 0.407559,
     "end_time": "2022-08-21T04:48:14.749904",
     "exception": false,
     "start_time": "2022-08-21T04:48:14.342345",
     "status": "completed"
    },
    "tags": []
   },
   "outputs": [
    {
     "data": {
      "image/png": "[encoded data removed]",
      "text/plain": [
       "<Figure size 432x288 with 2 Axes>"
      ]
     },
     "metadata": {
      "needs_background": "light"
     },
     "output_type": "display_data"
    }
   ],
   "source": [
    "from sklearn.metrics import confusion_matrix\n",
    "from matplotlib import pyplot as plt\n",
    "import seaborn as sns\n",
    "\n",
    "labels = ['Ineffective', 'Adequate', 'Effective']\n",
    "\n",
    "def do_conf_matrix(y_true, y_pred, ax, title=None):\n",
    "    cm = confusion_matrix(y_true, y_pred, labels=labels)\n",
    "    cm\n",
    "\n",
    "    sns.heatmap(cm, annot=True, fmt='g', ax=ax, cmap='Blues');\n",
    "\n",
    "    # labels, title and ticks\n",
    "    ax.set_xlabel('Predicted labels');\n",
    "    ax.set_ylabel('True labels'); \n",
    "    ax.set_title('Confusion Matrix'); \n",
    "\n",
    "    ax.xaxis.set_ticklabels(labels)\n",
    "    ax.yaxis.set_ticklabels(labels);\n",
    "    \n",
    "\n",
    "y_true = val_preds_df.discourse_effectiveness.values\n",
    "y_pred = val_preds_df[labels].idxmax(axis=1).values\n",
    "ax= plt.subplot()\n",
    "do_conf_matrix(y_true, y_pred, ax=ax)"
   ]
  },
  {
   "cell_type": "markdown",
   "id": "4c150c31",
   "metadata": {
    "papermill": {
     "duration": 0.120578,
     "end_time": "2022-08-21T04:48:14.996643",
     "exception": false,
     "start_time": "2022-08-21T04:48:14.876065",
     "status": "completed"
    },
    "tags": []
   },
   "source": [
    "We can see again that the model is having a lot of difficulty with `Ineffective` labeled examples."
   ]
  },
  {
   "cell_type": "markdown",
   "id": "e29224d9",
   "metadata": {
    "papermill": {
     "duration": 0.12352,
     "end_time": "2022-08-21T04:48:15.241829",
     "exception": false,
     "start_time": "2022-08-21T04:48:15.118309",
     "status": "completed"
    },
    "tags": []
   },
   "source": [
    "## Confusion Matrix Per Discourse Type"
   ]
  },
  {
   "cell_type": "code",
   "execution_count": 72,
   "id": "fd1d4d19",
   "metadata": {
    "_kg_hide-input": true,
    "execution": {
     "iopub.execute_input": "2022-08-21T04:48:15.488048Z",
     "iopub.status.busy": "2022-08-21T04:48:15.487787Z",
     "iopub.status.idle": "2022-08-21T04:48:17.807769Z",
     "shell.execute_reply": "2022-08-21T04:48:17.807133Z"
    },
    "papermill": {
     "duration": 2.445934,
     "end_time": "2022-08-21T04:48:17.809644",
     "exception": false,
     "start_time": "2022-08-21T04:48:15.363710",
     "status": "completed"
    },
    "tags": []
   },
   "outputs": [
    {
     "data": {
      "image/png": "[encoded data removed]",
      "text/plain": [
       "<Figure size 2160x216 with 14 Axes>"
      ]
     },
     "metadata": {
      "needs_background": "light"
     },
     "output_type": "display_data"
    }
   ],
   "source": [
    "fig, axes = plt.subplots(1, len(discourse_types), figsize=(30, 3))\n",
    "for i, discourse_type in enumerate(discourse_types):\n",
    "    filtered_df = val_preds_df[val_preds_df.discourse_type == discourse_type]\n",
    "    y_true = filtered_df.discourse_effectiveness.values\n",
    "    y_pred = filtered_df[labels].idxmax(axis=1).values\n",
    "    ax = axes[i]\n",
    "    do_conf_matrix(y_true, y_pred, ax=ax)\n",
    "    axes[i].set_title(discourse_type)\n",
    "    \n",
    "fig.suptitle('Confusion matrix per discourse_type', y=1.08)\n",
    "plt.show()"
   ]
  },
  {
   "cell_type": "markdown",
   "id": "fde46db8",
   "metadata": {
    "papermill": {
     "duration": 0.123469,
     "end_time": "2022-08-21T04:48:18.061720",
     "exception": false,
     "start_time": "2022-08-21T04:48:17.938251",
     "status": "completed"
    },
    "tags": []
   },
   "source": [
    "## Confident wrong examples\n",
    "\n",
    "Let's see 5 examples where the model was very confident but wrong."
   ]
  },
  {
   "cell_type": "code",
   "execution_count": 73,
   "id": "95e4903a",
   "metadata": {
    "_kg_hide-input": true,
    "execution": {
     "iopub.execute_input": "2022-08-21T04:48:18.311958Z",
     "iopub.status.busy": "2022-08-21T04:48:18.311676Z",
     "iopub.status.idle": "2022-08-21T04:48:18.327207Z",
     "shell.execute_reply": "2022-08-21T04:48:18.326566Z"
    },
    "papermill": {
     "duration": 0.14363,
     "end_time": "2022-08-21T04:48:18.329267",
     "exception": false,
     "start_time": "2022-08-21T04:48:18.185637",
     "status": "completed"
    },
    "tags": []
   },
   "outputs": [
    {
     "data": {
      "text/html": [
       "\n",
       "<table style=\"font-family: monospace;\">\n",
       "    <tr>\n",
       "         \n",
       "    <td width=\"20%\" style=\"vertical-align:top; border-right: 1px solid #7accd8\"><p><b>Actual</b>: Ineffective <br><b>Predicted</b>: Adequate (0.4858) <p><i>Elections are held on Tuesday after the first Monday of November. The way voting is held is when you vote your acutally \"help\" chose your states electors other then choosing then person that you want. Also voting for canidates electors to choose them. </p></td>\n",
       "    \n",
       "    <td width=\"20%\" style=\"vertical-align:top; border-right: 1px solid #7accd8\"><p><b>Actual</b>: Adequate <br><b>Predicted</b>: Ineffective (0.4788) <p><i>DO YOU HAVE PROBLEMS WITH THE PRESIDENTIAL VOTE?\n",
       "\n",
       "At long on the History, There's strange and curios case in the story of the political, especialy in United State of America (U.S.A) The political allways had serius problems, like corruption, the confusion of what president choose, the bad counting vote, etc. But with all those problems that happens in the world.. How United States choose good presidents? First, we are going to talk about the curius case in the U.S.A talking about the political and how U.S.A choose the future president. </p></td>\n",
       "    \n",
       "    <td width=\"20%\" style=\"vertical-align:top; border-right: 1px solid #7accd8\"><p><b>Actual</b>: Adequate <br><b>Predicted</b>: Ineffective (0.4897) <p><i>\n",
       "In paragraph seven the auther mentions mechanical computers that dont relay on electricity and small and insitive chips but insted rely on gears and clock works. </p></td>\n",
       "    \n",
       "    <td width=\"20%\" style=\"vertical-align:top; border-right: 1px solid #7accd8\"><p><b>Actual</b>: Ineffective <br><b>Predicted</b>: Adequate (0.4995) <p><i>He siad that the prussure and the heat is even difficult for the bots that scincetist had made. </p></td>\n",
       "    \n",
       "    <td width=\"20%\" style=\"vertical-align:top; border-right: 1px solid #7accd8\"><p><b>Actual</b>: Ineffective <br><b>Predicted</b>: Adequate (0.4907) <p><i>As well as the person could just decide to bribe everyone. thoes are all just one reason that i thinck we should change the rule. There are also some good parts about it everyone will be able to hear the president talk instead of having to hear him through tv and people making adiou changes or people hearing their tv wrong or people haveing their tv volume to low </p></td>\n",
       "    \n",
       "    </tr>\n",
       "</table>\n"
      ],
      "text/plain": [
       "<IPython.core.display.HTML object>"
      ]
     },
     "metadata": {},
     "output_type": "display_data"
    }
   ],
   "source": [
    "inner_html = \"\"\n",
    "for idx, row in val_preds_df[~val_preds_df.is_correct].sort_values('loss', ascending=True).head(5).iterrows():\n",
    "    inner_html += f'''\n",
    "    <td width=\"20%\" style=\"vertical-align:top; border-right: 1px solid #7accd8\"><p><b>Actual</b>: {row.discourse_effectiveness} <br><b>Predicted</b>: {row.predicted} ({row[row.predicted]}) <p><i>{row.discourse_text}</p></td>\n",
    "    '''\n",
    "    \n",
    "display(HTML(f\"\"\"\n",
    "<table style=\"font-family: monospace;\">\n",
    "    <tr>\n",
    "         {inner_html}\n",
    "    </tr>\n",
    "</table>\n",
    "\"\"\"))"
   ]
  },
  {
   "cell_type": "markdown",
   "id": "9deee1ac",
   "metadata": {
    "papermill": {
     "duration": 0.123454,
     "end_time": "2022-08-21T04:48:18.582043",
     "exception": false,
     "start_time": "2022-08-21T04:48:18.458589",
     "status": "completed"
    },
    "tags": []
   },
   "source": [
    "## Confident right examples\n",
    "\n",
    "Let's see 5 examples where the model was very confident and right."
   ]
  },
  {
   "cell_type": "code",
   "execution_count": 74,
   "id": "819b7aa3",
   "metadata": {
    "_kg_hide-input": true,
    "execution": {
     "iopub.execute_input": "2022-08-21T04:48:18.833128Z",
     "iopub.status.busy": "2022-08-21T04:48:18.832893Z",
     "iopub.status.idle": "2022-08-21T04:48:18.849946Z",
     "shell.execute_reply": "2022-08-21T04:48:18.849185Z"
    },
    "papermill": {
     "duration": 0.145485,
     "end_time": "2022-08-21T04:48:18.852237",
     "exception": false,
     "start_time": "2022-08-21T04:48:18.706752",
     "status": "completed"
    },
    "tags": []
   },
   "outputs": [
    {
     "data": {
      "text/html": [
       "\n",
       "<table style=\"font-family: monospace;\">\n",
       "    <tr>\n",
       "         \n",
       "        <td width=\"20%\" style=\"vertical-align:top; border-right: 1px solid #7accd8\"><p><b>Actual</b>: Effective <br><b>Predicted</b>: Effective (0.9673) <p><i>In the text it stated that \"None of the cars developed so far are completely driverless. They can steer, accelerate, and brake themselves, but all are designed to notify the driver when the road ahead requires human skills, such as navigating through work zones and around accidents\" meaning that at some point the driver would have to help the car navigate at times when the car couldn't(7). Which imposes that the drivers would have to be aware of his/her surroundings at all time when the time was needed for them to take the wheel again. But, doesn't that defeat the purpose of the car being driverless. No one would want a driverless car that still needs to be driven? \"Wouldn't drivers get bored waiting for their turn to drive\"(8). And the most important question is, what would drivers do to pass the time when they're not driving. They could distract theirselves with their phones, music or any passengers which could cause them to miss out on any important message from the car telling them to drive or take over in the needed situation. This is where the reckless aspect of the driverless car comes in. Missing the important message could cause accidents and harm to other drivers or pedestrians. And, this cause of harm to others around leads to my next argument against driverless cars and that is lawsuits. </p></td>\n",
       "    \n",
       "        <td width=\"20%\" style=\"vertical-align:top; border-right: 1px solid #7accd8\"><p><b>Actual</b>: Effective <br><b>Predicted</b>: Effective (0.962) <p><i>You are sitting in your chair. The plastic hurts your legs and back as it curves in an uncomfortable position, ill-adapted to your person. The intolerable buzz of the air conditioning that does nothing to cool the over-heated room drones at your ears, making it impossible to focus. The dull, artificial bulbs that in no way compensate for natural sunlight burn away at your eyes, giving you headache after headache. The other kids are yelling and blasting music, talking instead of doing the work you have been told to complete in an unreasonable, almost impossible time. The work you are doing makes no sense to you and you feel incompetent as those around you breeze by effortlessly. You need to ask the teacher about your work but shes busy grading papers, paying no attention to the class you have been forced into. You can not focus on a single word of your assignment, and even if you could understand it, you would not be able to complete it, because that same day youve already had three tests and two quizzes and all you want is to go home and take a short nap to recharge your brain. You long for some solution to your endless problems in the classroom, and you realize there is another way. </p></td>\n",
       "    \n",
       "        <td width=\"20%\" style=\"vertical-align:top; border-right: 1px solid #7accd8\"><p><b>Actual</b>: Effective <br><b>Predicted</b>: Effective (0.96) <p><i>The goal of these assignments is to help the students fortify their knowledge over summer so that it is not lost. These teachers go through years of university studying the subject that they teach, so why should a student who has taken the class for one year have authority over summer assignments. For example, AP BC Calculus is an immense subject with a variety of different units of math. If a student tried to make a summer study guide, they would only have a year of experience under their belt. On the other hand, teachers, who have been teaching/studying this subject for years, have a strong understanding of each unit and how to teach it in a unique way. The credibility of the creator of the assignment must be strong, so the student can have an easier time understanding the subject. Thus, teachers should be assigning summer assignments. </p></td>\n",
       "    \n",
       "        <td width=\"20%\" style=\"vertical-align:top; border-right: 1px solid #7accd8\"><p><b>Actual</b>: Effective <br><b>Predicted</b>: Effective (0.96) <p><i>Some students have a hard time getting to school. Whether it be sickness, not having a ride to school, or even a family emergency, getting to school can be difficult sometimes and often students will suffer consequences if they arent able to show up to school, especially since only a certain number of those absences can be marked as excused. Teachers may also have difficulty getting to school, or its simpy better for them to work from home and aviod the irritation of some students,Something that would be able to solve this issue is if classes were able to be online. Even though most of the class work is already online, some students grades are going down even if they do the work from home, and most of the time its because attendance is a portion of the grade </p></td>\n",
       "    \n",
       "        <td width=\"20%\" style=\"vertical-align:top; border-right: 1px solid #7accd8\"><p><b>Actual</b>: Effective <br><b>Predicted</b>: Effective (0.958) <p><i>In the future, once students start working, supervisors will not give them examples of how to properly execute a project. For example, my mother is a graphic designer who is required to come with new ideas for campaigns, brochures and websites. Her boss isn't giving her instructions on how to complete the tasks, at all. She must be responsible in using her mind to come up with creative new ideas that she thinks would satisfy her boss. However, at her old job all the graphic designers were given an example they had to follow. Which resulted in the closing of her old company because they only produced the same design. Luckily for mom, she was able to find another job fast because she was to create designs without assistance. The skills my mother used to think creatively and on her own, was taught in school. But, with teachers designing projects, students get used to a formula they have to follow and are not taking responsibility for their own thinking. Students creating their own summer projects would force students to take time and think of a project that they think would satisfy their teacher. It would stimulate new thoughts and force them to activate the create side of their brain that has not been used for a while,due to teachers constantly creating a rubric and examples for the student. The summer is a perfect opportunity for a student designed project because they would have time to develop their thoughts. Teachers shouldn't design summer projects because it aides in diminishing a student's ability to creatively solve projects. </p></td>\n",
       "    \n",
       "    </tr>\n",
       "</table>\n"
      ],
      "text/plain": [
       "<IPython.core.display.HTML object>"
      ]
     },
     "metadata": {},
     "output_type": "display_data"
    }
   ],
   "source": [
    "inner_html = \"\"\n",
    "for idx, row in val_preds_df[val_preds_df.is_correct].sort_values('loss', ascending=True).head(5).iterrows():\n",
    "    inner_html += f'''\n",
    "        <td width=\"20%\" style=\"vertical-align:top; border-right: 1px solid #7accd8\"><p><b>Actual</b>: {row.discourse_effectiveness} <br><b>Predicted</b>: {row.predicted} ({row[row.predicted]}) <p><i>{row.discourse_text}</p></td>\n",
    "    '''\n",
    "    \n",
    "display(HTML(f\"\"\"\n",
    "<table style=\"font-family: monospace;\">\n",
    "    <tr>\n",
    "         {inner_html}\n",
    "    </tr>\n",
    "</table>\n",
    "\"\"\"))"
   ]
  },
  {
   "cell_type": "markdown",
   "id": "730cb4cf",
   "metadata": {
    "papermill": {
     "duration": 0.125538,
     "end_time": "2022-08-21T04:48:19.108328",
     "exception": false,
     "start_time": "2022-08-21T04:48:18.982790",
     "status": "completed"
    },
    "tags": []
   },
   "source": [
    "## Whole Essays"
   ]
  },
  {
   "cell_type": "code",
   "execution_count": 75,
   "id": "7cff124a",
   "metadata": {
    "_kg_hide-input": true,
    "execution": {
     "iopub.execute_input": "2022-08-21T04:48:19.372100Z",
     "iopub.status.busy": "2022-08-21T04:48:19.371266Z",
     "iopub.status.idle": "2022-08-21T04:48:19.379922Z",
     "shell.execute_reply": "2022-08-21T04:48:19.379211Z"
    },
    "papermill": {
     "duration": 0.139433,
     "end_time": "2022-08-21T04:48:19.383087",
     "exception": false,
     "start_time": "2022-08-21T04:48:19.243654",
     "status": "completed"
    },
    "tags": []
   },
   "outputs": [],
   "source": [
    "def _get_label_color(label):\n",
    "    return {\n",
    "        'Adequate': '#777',\n",
    "        'Ineffective': '#d9534f',\n",
    "        'Effective': '#5cb85c'\n",
    "    }[label]\n",
    "\n",
    "def display_essay(essay_id):\n",
    "    table_header = \"\"\"<table style=\"line-height: 25px; border-collapse:collapse;\" width=100%>\n",
    "        <tr style=\"font-size: 1.2em; padding-top: 15px; font-family: monospace; background-image: repeating-linear-gradient(white 0px, white 24px, #7accd8 25px);\">\n",
    "            <th style=\"padding-bottom: 10px;\" width=\"10%\" align=\"left\">Prediction</th>\n",
    "            <th style=\"padding-bottom: 10px;\" width=\"5%\" align=\"left\">Conf</th>\n",
    "            <th style=\"padding-bottom: 10px;\"  width=\"75%\" align=\"left\">Text</th>\n",
    "            <th style=\"padding-bottom: 10px;\"  width=\"10%\" align=\"left\">Type</th>\n",
    "        </tr>\"\"\"\n",
    "\n",
    "\n",
    "    for idx, row in val_preds_df[val_preds_df.essay_id == essay_id].iterrows():\n",
    "        table_header += f\"\"\"\n",
    "        <tr  style=\"padding: 0px; vertical-align: top; align: left; background-image: repeating-linear-gradient(white 0px, white 24px, #7accd8 25px);\">\n",
    "            <td style=\"vertical-align: top; line-height: 25px;\">\n",
    "                <div style=\"line-height: 20px; width: 100%;  text-align:center; border-radius: 0.25em; background-color: {_get_label_color(row.predicted)}; color: #fff; font-family: monospace\">{row.predicted}</div>\n",
    "                \n",
    "            </td>\n",
    "            <td style=\"vertical-align: top; align: left; line-height: 25px;\">\n",
    "                <span style=\"border-radius: 0.25em; color: #000; font-family: monospace\"> {round(row[row.predicted], 2)}</span>\n",
    "            </td>\n",
    "            <td style=\"vertical-align: top; align: left; font-family: monospace; line-height: 25px;\">\n",
    "                {row.discourse_text}\n",
    "            </td>\n",
    "            <td style=\"vertical-align: top; align: left; line-height: 25px;\">\n",
    "                <span style=\"border-radius: 0.25em; color: #000; font-family: monospace\"><b>{row.discourse_type}</b></span>\n",
    "            </td>\n",
    "        </tr>\n",
    "        \"\"\"\n",
    "\n",
    "    table_footer = \"\"\"</table>\"\"\"\n",
    "    display(HTML(table_header + table_footer))"
   ]
  },
  {
   "cell_type": "code",
   "execution_count": 76,
   "id": "4c534fde",
   "metadata": {
    "execution": {
     "iopub.execute_input": "2022-08-21T04:48:19.636800Z",
     "iopub.status.busy": "2022-08-21T04:48:19.636559Z",
     "iopub.status.idle": "2022-08-21T04:48:19.647982Z",
     "shell.execute_reply": "2022-08-21T04:48:19.647254Z"
    },
    "papermill": {
     "duration": 0.140717,
     "end_time": "2022-08-21T04:48:19.650969",
     "exception": false,
     "start_time": "2022-08-21T04:48:19.510252",
     "status": "completed"
    },
    "tags": []
   },
   "outputs": [],
   "source": [
    "essay1, essay2 = list(val_preds_df[val_preds_df.is_correct].sort_values('loss', ascending=True).essay_id.values[:2])"
   ]
  },
  {
   "cell_type": "code",
   "execution_count": 77,
   "id": "40c11029",
   "metadata": {
    "execution": {
     "iopub.execute_input": "2022-08-21T04:48:19.903927Z",
     "iopub.status.busy": "2022-08-21T04:48:19.903326Z",
     "iopub.status.idle": "2022-08-21T04:48:19.915840Z",
     "shell.execute_reply": "2022-08-21T04:48:19.915145Z"
    },
    "papermill": {
     "duration": 0.139722,
     "end_time": "2022-08-21T04:48:19.917627",
     "exception": false,
     "start_time": "2022-08-21T04:48:19.777905",
     "status": "completed"
    },
    "tags": []
   },
   "outputs": [
    {
     "data": {
      "text/html": [
       "<table style=\"line-height: 25px; border-collapse:collapse;\" width=100%>\n",
       "        <tr style=\"font-size: 1.2em; padding-top: 15px; font-family: monospace; background-image: repeating-linear-gradient(white 0px, white 24px, #7accd8 25px);\">\n",
       "            <th style=\"padding-bottom: 10px;\" width=\"10%\" align=\"left\">Prediction</th>\n",
       "            <th style=\"padding-bottom: 10px;\" width=\"5%\" align=\"left\">Conf</th>\n",
       "            <th style=\"padding-bottom: 10px;\"  width=\"75%\" align=\"left\">Text</th>\n",
       "            <th style=\"padding-bottom: 10px;\"  width=\"10%\" align=\"left\">Type</th>\n",
       "        </tr>\n",
       "        <tr  style=\"padding: 0px; vertical-align: top; align: left; background-image: repeating-linear-gradient(white 0px, white 24px, #7accd8 25px);\">\n",
       "            <td style=\"vertical-align: top; line-height: 25px;\">\n",
       "                <div style=\"line-height: 20px; width: 100%;  text-align:center; border-radius: 0.25em; background-color: #5cb85c; color: #fff; font-family: monospace\">Effective</div>\n",
       "                \n",
       "            </td>\n",
       "            <td style=\"vertical-align: top; align: left; line-height: 25px;\">\n",
       "                <span style=\"border-radius: 0.25em; color: #000; font-family: monospace\"> 0.94</span>\n",
       "            </td>\n",
       "            <td style=\"vertical-align: top; align: left; font-family: monospace; line-height: 25px;\">\n",
       "                In the article \"Driverless Cars Are Coming\" The author stated both positive and negative stances on the topic of driverless cars. This topic is very controversial when bringing in the aspect of safety and the well-being of others around the driverless car. \n",
       "            </td>\n",
       "            <td style=\"vertical-align: top; align: left; line-height: 25px;\">\n",
       "                <span style=\"border-radius: 0.25em; color: #000; font-family: monospace\"><b>Lead</b></span>\n",
       "            </td>\n",
       "        </tr>\n",
       "        \n",
       "        <tr  style=\"padding: 0px; vertical-align: top; align: left; background-image: repeating-linear-gradient(white 0px, white 24px, #7accd8 25px);\">\n",
       "            <td style=\"vertical-align: top; line-height: 25px;\">\n",
       "                <div style=\"line-height: 20px; width: 100%;  text-align:center; border-radius: 0.25em; background-color: #5cb85c; color: #fff; font-family: monospace\">Effective</div>\n",
       "                \n",
       "            </td>\n",
       "            <td style=\"vertical-align: top; align: left; line-height: 25px;\">\n",
       "                <span style=\"border-radius: 0.25em; color: #000; font-family: monospace\"> 0.89</span>\n",
       "            </td>\n",
       "            <td style=\"vertical-align: top; align: left; font-family: monospace; line-height: 25px;\">\n",
       "                I believe driverless cars are not a good idea to bring into society. \n",
       "            </td>\n",
       "            <td style=\"vertical-align: top; align: left; line-height: 25px;\">\n",
       "                <span style=\"border-radius: 0.25em; color: #000; font-family: monospace\"><b>Position</b></span>\n",
       "            </td>\n",
       "        </tr>\n",
       "        \n",
       "        <tr  style=\"padding: 0px; vertical-align: top; align: left; background-image: repeating-linear-gradient(white 0px, white 24px, #7accd8 25px);\">\n",
       "            <td style=\"vertical-align: top; line-height: 25px;\">\n",
       "                <div style=\"line-height: 20px; width: 100%;  text-align:center; border-radius: 0.25em; background-color: #5cb85c; color: #fff; font-family: monospace\">Effective</div>\n",
       "                \n",
       "            </td>\n",
       "            <td style=\"vertical-align: top; align: left; line-height: 25px;\">\n",
       "                <span style=\"border-radius: 0.25em; color: #000; font-family: monospace\"> 0.94</span>\n",
       "            </td>\n",
       "            <td style=\"vertical-align: top; align: left; font-family: monospace; line-height: 25px;\">\n",
       "                driverless cars would not be a good idea to implement into society because drivers could get reckless at the wheel. \n",
       "            </td>\n",
       "            <td style=\"vertical-align: top; align: left; line-height: 25px;\">\n",
       "                <span style=\"border-radius: 0.25em; color: #000; font-family: monospace\"><b>Claim</b></span>\n",
       "            </td>\n",
       "        </tr>\n",
       "        \n",
       "        <tr  style=\"padding: 0px; vertical-align: top; align: left; background-image: repeating-linear-gradient(white 0px, white 24px, #7accd8 25px);\">\n",
       "            <td style=\"vertical-align: top; line-height: 25px;\">\n",
       "                <div style=\"line-height: 20px; width: 100%;  text-align:center; border-radius: 0.25em; background-color: #5cb85c; color: #fff; font-family: monospace\">Effective</div>\n",
       "                \n",
       "            </td>\n",
       "            <td style=\"vertical-align: top; align: left; line-height: 25px;\">\n",
       "                <span style=\"border-radius: 0.25em; color: #000; font-family: monospace\"> 0.97</span>\n",
       "            </td>\n",
       "            <td style=\"vertical-align: top; align: left; font-family: monospace; line-height: 25px;\">\n",
       "                In the text it stated that \"None of the cars developed so far are completely driverless. They can steer, accelerate, and brake themselves, but all are designed to notify the driver when the road ahead requires human skills, such as navigating through work zones and around accidents\" meaning that at some point the driver would have to help the car navigate at times when the car couldn't(7). Which imposes that the drivers would have to be aware of his/her surroundings at all time when the time was needed for them to take the wheel again. But, doesn't that defeat the purpose of the car being driverless. No one would want a driverless car that still needs to be driven? \"Wouldn't drivers get bored waiting for their turn to drive\"(8). And the most important question is, what would drivers do to pass the time when they're not driving. They could distract theirselves with their phones, music or any passengers which could cause them to miss out on any important message from the car telling them to drive or take over in the needed situation. This is where the reckless aspect of the driverless car comes in. Missing the important message could cause accidents and harm to other drivers or pedestrians. And, this cause of harm to others around leads to my next argument against driverless cars and that is lawsuits. \n",
       "            </td>\n",
       "            <td style=\"vertical-align: top; align: left; line-height: 25px;\">\n",
       "                <span style=\"border-radius: 0.25em; color: #000; font-family: monospace\"><b>Evidence</b></span>\n",
       "            </td>\n",
       "        </tr>\n",
       "        \n",
       "        <tr  style=\"padding: 0px; vertical-align: top; align: left; background-image: repeating-linear-gradient(white 0px, white 24px, #7accd8 25px);\">\n",
       "            <td style=\"vertical-align: top; line-height: 25px;\">\n",
       "                <div style=\"line-height: 20px; width: 100%;  text-align:center; border-radius: 0.25em; background-color: #5cb85c; color: #fff; font-family: monospace\">Effective</div>\n",
       "                \n",
       "            </td>\n",
       "            <td style=\"vertical-align: top; align: left; line-height: 25px;\">\n",
       "                <span style=\"border-radius: 0.25em; color: #000; font-family: monospace\"> 0.94</span>\n",
       "            </td>\n",
       "            <td style=\"vertical-align: top; align: left; font-family: monospace; line-height: 25px;\">\n",
       "                driverless cars would not be a good idea to implement into society because of who would be to blame if accidents did happen. \n",
       "            </td>\n",
       "            <td style=\"vertical-align: top; align: left; line-height: 25px;\">\n",
       "                <span style=\"border-radius: 0.25em; color: #000; font-family: monospace\"><b>Claim</b></span>\n",
       "            </td>\n",
       "        </tr>\n",
       "        \n",
       "        <tr  style=\"padding: 0px; vertical-align: top; align: left; background-image: repeating-linear-gradient(white 0px, white 24px, #7accd8 25px);\">\n",
       "            <td style=\"vertical-align: top; line-height: 25px;\">\n",
       "                <div style=\"line-height: 20px; width: 100%;  text-align:center; border-radius: 0.25em; background-color: #5cb85c; color: #fff; font-family: monospace\">Effective</div>\n",
       "                \n",
       "            </td>\n",
       "            <td style=\"vertical-align: top; align: left; line-height: 25px;\">\n",
       "                <span style=\"border-radius: 0.25em; color: #000; font-family: monospace\"> 0.95</span>\n",
       "            </td>\n",
       "            <td style=\"vertical-align: top; align: left; font-family: monospace; line-height: 25px;\">\n",
       "                In the text it explained how new laws would have to be created to go along with the cars when they are proved to be \"more reliably safe\"(9). But what would happen \"If the technology fails and someone is injured\"(9). This issue could cause many lawsuits filed against innocent \"drivers\" and many lawsuits filed against companies who were not aware of the issue with the cars technology. Sometimes things happen and because technology can not be trusted 100% of the time these cars should not be able to exist. Lives could be on the line and many people who were not to blame will take the blame for this mishap. The car could just cause a million more problems instead of solving the laziness of humans will not to want to drive. \n",
       "            </td>\n",
       "            <td style=\"vertical-align: top; align: left; line-height: 25px;\">\n",
       "                <span style=\"border-radius: 0.25em; color: #000; font-family: monospace\"><b>Evidence</b></span>\n",
       "            </td>\n",
       "        </tr>\n",
       "        \n",
       "        <tr  style=\"padding: 0px; vertical-align: top; align: left; background-image: repeating-linear-gradient(white 0px, white 24px, #7accd8 25px);\">\n",
       "            <td style=\"vertical-align: top; line-height: 25px;\">\n",
       "                <div style=\"line-height: 20px; width: 100%;  text-align:center; border-radius: 0.25em; background-color: #5cb85c; color: #fff; font-family: monospace\">Effective</div>\n",
       "                \n",
       "            </td>\n",
       "            <td style=\"vertical-align: top; align: left; line-height: 25px;\">\n",
       "                <span style=\"border-radius: 0.25em; color: #000; font-family: monospace\"> 0.94</span>\n",
       "            </td>\n",
       "            <td style=\"vertical-align: top; align: left; font-family: monospace; line-height: 25px;\">\n",
       "                driverless cars would not be a good idea to implement into society because of its proness to being hacked. \n",
       "            </td>\n",
       "            <td style=\"vertical-align: top; align: left; line-height: 25px;\">\n",
       "                <span style=\"border-radius: 0.25em; color: #000; font-family: monospace\"><b>Claim</b></span>\n",
       "            </td>\n",
       "        </tr>\n",
       "        \n",
       "        <tr  style=\"padding: 0px; vertical-align: top; align: left; background-image: repeating-linear-gradient(white 0px, white 24px, #7accd8 25px);\">\n",
       "            <td style=\"vertical-align: top; line-height: 25px;\">\n",
       "                <div style=\"line-height: 20px; width: 100%;  text-align:center; border-radius: 0.25em; background-color: #5cb85c; color: #fff; font-family: monospace\">Effective</div>\n",
       "                \n",
       "            </td>\n",
       "            <td style=\"vertical-align: top; align: left; line-height: 25px;\">\n",
       "                <span style=\"border-radius: 0.25em; color: #000; font-family: monospace\"> 0.96</span>\n",
       "            </td>\n",
       "            <td style=\"vertical-align: top; align: left; font-family: monospace; line-height: 25px;\">\n",
       "                Anything in the world could be hacked. Anyones phone can be hacked, computers can be hacked and even intelligence units can be hacked. So, if these things can be hacked then what makes one think that this driverless car can't be hacked. And, if hacked there would be no telling what the hacker could do to the car. For example, cause it to crash or lead the car into an area the driver in unfamiliar with because they're not paying attention. These examples could all cause harm to more than just the driver and that shows why this car should not be implemented into society, because it has various accounts on how it can misfunction. \n",
       "            </td>\n",
       "            <td style=\"vertical-align: top; align: left; line-height: 25px;\">\n",
       "                <span style=\"border-radius: 0.25em; color: #000; font-family: monospace\"><b>Evidence</b></span>\n",
       "            </td>\n",
       "        </tr>\n",
       "        \n",
       "        <tr  style=\"padding: 0px; vertical-align: top; align: left; background-image: repeating-linear-gradient(white 0px, white 24px, #7accd8 25px);\">\n",
       "            <td style=\"vertical-align: top; line-height: 25px;\">\n",
       "                <div style=\"line-height: 20px; width: 100%;  text-align:center; border-radius: 0.25em; background-color: #5cb85c; color: #fff; font-family: monospace\">Effective</div>\n",
       "                \n",
       "            </td>\n",
       "            <td style=\"vertical-align: top; align: left; line-height: 25px;\">\n",
       "                <span style=\"border-radius: 0.25em; color: #000; font-family: monospace\"> 0.96</span>\n",
       "            </td>\n",
       "            <td style=\"vertical-align: top; align: left; font-family: monospace; line-height: 25px;\">\n",
       "                These examples of recklessness, misblaming and hacking all show why the idea of having driverless cars are not a good idea. They can mess up society and cause harm in more ways than it could help society. Although the car is a very unique way of showing advancement in the technological world, one would have tot look at both sides before concluding whether or not this is a good idea, and in this case it seems that the bad outweighs the good. \n",
       "            </td>\n",
       "            <td style=\"vertical-align: top; align: left; line-height: 25px;\">\n",
       "                <span style=\"border-radius: 0.25em; color: #000; font-family: monospace\"><b>Concluding Statement</b></span>\n",
       "            </td>\n",
       "        </tr>\n",
       "        </table>"
      ],
      "text/plain": [
       "<IPython.core.display.HTML object>"
      ]
     },
     "metadata": {},
     "output_type": "display_data"
    }
   ],
   "source": [
    "display_essay(essay1)"
   ]
  },
  {
   "cell_type": "code",
   "execution_count": 78,
   "id": "6606ffc7",
   "metadata": {
    "execution": {
     "iopub.execute_input": "2022-08-21T04:48:20.175253Z",
     "iopub.status.busy": "2022-08-21T04:48:20.175016Z",
     "iopub.status.idle": "2022-08-21T04:48:20.185486Z",
     "shell.execute_reply": "2022-08-21T04:48:20.184414Z"
    },
    "papermill": {
     "duration": 0.143176,
     "end_time": "2022-08-21T04:48:20.190589",
     "exception": false,
     "start_time": "2022-08-21T04:48:20.047413",
     "status": "completed"
    },
    "tags": []
   },
   "outputs": [
    {
     "data": {
      "text/html": [
       "<table style=\"line-height: 25px; border-collapse:collapse;\" width=100%>\n",
       "        <tr style=\"font-size: 1.2em; padding-top: 15px; font-family: monospace; background-image: repeating-linear-gradient(white 0px, white 24px, #7accd8 25px);\">\n",
       "            <th style=\"padding-bottom: 10px;\" width=\"10%\" align=\"left\">Prediction</th>\n",
       "            <th style=\"padding-bottom: 10px;\" width=\"5%\" align=\"left\">Conf</th>\n",
       "            <th style=\"padding-bottom: 10px;\"  width=\"75%\" align=\"left\">Text</th>\n",
       "            <th style=\"padding-bottom: 10px;\"  width=\"10%\" align=\"left\">Type</th>\n",
       "        </tr>\n",
       "        <tr  style=\"padding: 0px; vertical-align: top; align: left; background-image: repeating-linear-gradient(white 0px, white 24px, #7accd8 25px);\">\n",
       "            <td style=\"vertical-align: top; line-height: 25px;\">\n",
       "                <div style=\"line-height: 20px; width: 100%;  text-align:center; border-radius: 0.25em; background-color: #5cb85c; color: #fff; font-family: monospace\">Effective</div>\n",
       "                \n",
       "            </td>\n",
       "            <td style=\"vertical-align: top; align: left; line-height: 25px;\">\n",
       "                <span style=\"border-radius: 0.25em; color: #000; font-family: monospace\"> 0.96</span>\n",
       "            </td>\n",
       "            <td style=\"vertical-align: top; align: left; font-family: monospace; line-height: 25px;\">\n",
       "                You are sitting in your chair. The plastic hurts your legs and back as it curves in an uncomfortable position, ill-adapted to your person. The intolerable buzz of the air conditioning that does nothing to cool the over-heated room drones at your ears, making it impossible to focus. The dull, artificial bulbs that in no way compensate for natural sunlight burn away at your eyes, giving you headache after headache. The other kids are yelling and blasting music, talking instead of doing the work you have been told to complete in an unreasonable, almost impossible time. The work you are doing makes no sense to you and you feel incompetent as those around you breeze by effortlessly. You need to ask the teacher about your work but shes busy grading papers, paying no attention to the class you have been forced into. You can not focus on a single word of your assignment, and even if you could understand it, you would not be able to complete it, because that same day youve already had three tests and two quizzes and all you want is to go home and take a short nap to recharge your brain. You long for some solution to your endless problems in the classroom, and you realize there is another way. \n",
       "            </td>\n",
       "            <td style=\"vertical-align: top; align: left; line-height: 25px;\">\n",
       "                <span style=\"border-radius: 0.25em; color: #000; font-family: monospace\"><b>Lead</b></span>\n",
       "            </td>\n",
       "        </tr>\n",
       "        \n",
       "        <tr  style=\"padding: 0px; vertical-align: top; align: left; background-image: repeating-linear-gradient(white 0px, white 24px, #7accd8 25px);\">\n",
       "            <td style=\"vertical-align: top; line-height: 25px;\">\n",
       "                <div style=\"line-height: 20px; width: 100%;  text-align:center; border-radius: 0.25em; background-color: #5cb85c; color: #fff; font-family: monospace\">Effective</div>\n",
       "                \n",
       "            </td>\n",
       "            <td style=\"vertical-align: top; align: left; line-height: 25px;\">\n",
       "                <span style=\"border-radius: 0.25em; color: #000; font-family: monospace\"> 0.89</span>\n",
       "            </td>\n",
       "            <td style=\"vertical-align: top; align: left; font-family: monospace; line-height: 25px;\">\n",
       "                Learning from home can solve all these problems and more. \n",
       "            </td>\n",
       "            <td style=\"vertical-align: top; align: left; line-height: 25px;\">\n",
       "                <span style=\"border-radius: 0.25em; color: #000; font-family: monospace\"><b>Position</b></span>\n",
       "            </td>\n",
       "        </tr>\n",
       "        \n",
       "        <tr  style=\"padding: 0px; vertical-align: top; align: left; background-image: repeating-linear-gradient(white 0px, white 24px, #7accd8 25px);\">\n",
       "            <td style=\"vertical-align: top; line-height: 25px;\">\n",
       "                <div style=\"line-height: 20px; width: 100%;  text-align:center; border-radius: 0.25em; background-color: #5cb85c; color: #fff; font-family: monospace\">Effective</div>\n",
       "                \n",
       "            </td>\n",
       "            <td style=\"vertical-align: top; align: left; line-height: 25px;\">\n",
       "                <span style=\"border-radius: 0.25em; color: #000; font-family: monospace\"> 0.94</span>\n",
       "            </td>\n",
       "            <td style=\"vertical-align: top; align: left; font-family: monospace; line-height: 25px;\">\n",
       "                With the ability to work online, you not only have the comfort of being at home \n",
       "            </td>\n",
       "            <td style=\"vertical-align: top; align: left; line-height: 25px;\">\n",
       "                <span style=\"border-radius: 0.25em; color: #000; font-family: monospace\"><b>Claim</b></span>\n",
       "            </td>\n",
       "        </tr>\n",
       "        \n",
       "        <tr  style=\"padding: 0px; vertical-align: top; align: left; background-image: repeating-linear-gradient(white 0px, white 24px, #7accd8 25px);\">\n",
       "            <td style=\"vertical-align: top; line-height: 25px;\">\n",
       "                <div style=\"line-height: 20px; width: 100%;  text-align:center; border-radius: 0.25em; background-color: #5cb85c; color: #fff; font-family: monospace\">Effective</div>\n",
       "                \n",
       "            </td>\n",
       "            <td style=\"vertical-align: top; align: left; line-height: 25px;\">\n",
       "                <span style=\"border-radius: 0.25em; color: #000; font-family: monospace\"> 0.93</span>\n",
       "            </td>\n",
       "            <td style=\"vertical-align: top; align: left; font-family: monospace; line-height: 25px;\">\n",
       "                more flexibility in your schedule, \n",
       "            </td>\n",
       "            <td style=\"vertical-align: top; align: left; line-height: 25px;\">\n",
       "                <span style=\"border-radius: 0.25em; color: #000; font-family: monospace\"><b>Claim</b></span>\n",
       "            </td>\n",
       "        </tr>\n",
       "        \n",
       "        <tr  style=\"padding: 0px; vertical-align: top; align: left; background-image: repeating-linear-gradient(white 0px, white 24px, #7accd8 25px);\">\n",
       "            <td style=\"vertical-align: top; line-height: 25px;\">\n",
       "                <div style=\"line-height: 20px; width: 100%;  text-align:center; border-radius: 0.25em; background-color: #5cb85c; color: #fff; font-family: monospace\">Effective</div>\n",
       "                \n",
       "            </td>\n",
       "            <td style=\"vertical-align: top; align: left; line-height: 25px;\">\n",
       "                <span style=\"border-radius: 0.25em; color: #000; font-family: monospace\"> 0.93</span>\n",
       "            </td>\n",
       "            <td style=\"vertical-align: top; align: left; font-family: monospace; line-height: 25px;\">\n",
       "                can learn at your own pace, \n",
       "            </td>\n",
       "            <td style=\"vertical-align: top; align: left; line-height: 25px;\">\n",
       "                <span style=\"border-radius: 0.25em; color: #000; font-family: monospace\"><b>Claim</b></span>\n",
       "            </td>\n",
       "        </tr>\n",
       "        \n",
       "        <tr  style=\"padding: 0px; vertical-align: top; align: left; background-image: repeating-linear-gradient(white 0px, white 24px, #7accd8 25px);\">\n",
       "            <td style=\"vertical-align: top; line-height: 25px;\">\n",
       "                <div style=\"line-height: 20px; width: 100%;  text-align:center; border-radius: 0.25em; background-color: #5cb85c; color: #fff; font-family: monospace\">Effective</div>\n",
       "                \n",
       "            </td>\n",
       "            <td style=\"vertical-align: top; align: left; line-height: 25px;\">\n",
       "                <span style=\"border-radius: 0.25em; color: #000; font-family: monospace\"> 0.94</span>\n",
       "            </td>\n",
       "            <td style=\"vertical-align: top; align: left; font-family: monospace; line-height: 25px;\">\n",
       "                can eliminate almost any distractions. \n",
       "            </td>\n",
       "            <td style=\"vertical-align: top; align: left; line-height: 25px;\">\n",
       "                <span style=\"border-radius: 0.25em; color: #000; font-family: monospace\"><b>Claim</b></span>\n",
       "            </td>\n",
       "        </tr>\n",
       "        \n",
       "        <tr  style=\"padding: 0px; vertical-align: top; align: left; background-image: repeating-linear-gradient(white 0px, white 24px, #7accd8 25px);\">\n",
       "            <td style=\"vertical-align: top; line-height: 25px;\">\n",
       "                <div style=\"line-height: 20px; width: 100%;  text-align:center; border-radius: 0.25em; background-color: #5cb85c; color: #fff; font-family: monospace\">Effective</div>\n",
       "                \n",
       "            </td>\n",
       "            <td style=\"vertical-align: top; align: left; line-height: 25px;\">\n",
       "                <span style=\"border-radius: 0.25em; color: #000; font-family: monospace\"> 0.95</span>\n",
       "            </td>\n",
       "            <td style=\"vertical-align: top; align: left; font-family: monospace; line-height: 25px;\">\n",
       "                First and foremost, being able to work in a comfortable environment is crucial to focusing and being able to produce the best work possible. \n",
       "            </td>\n",
       "            <td style=\"vertical-align: top; align: left; line-height: 25px;\">\n",
       "                <span style=\"border-radius: 0.25em; color: #000; font-family: monospace\"><b>Claim</b></span>\n",
       "            </td>\n",
       "        </tr>\n",
       "        \n",
       "        <tr  style=\"padding: 0px; vertical-align: top; align: left; background-image: repeating-linear-gradient(white 0px, white 24px, #7accd8 25px);\">\n",
       "            <td style=\"vertical-align: top; line-height: 25px;\">\n",
       "                <div style=\"line-height: 20px; width: 100%;  text-align:center; border-radius: 0.25em; background-color: #5cb85c; color: #fff; font-family: monospace\">Effective</div>\n",
       "                \n",
       "            </td>\n",
       "            <td style=\"vertical-align: top; align: left; line-height: 25px;\">\n",
       "                <span style=\"border-radius: 0.25em; color: #000; font-family: monospace\"> 0.94</span>\n",
       "            </td>\n",
       "            <td style=\"vertical-align: top; align: left; font-family: monospace; line-height: 25px;\">\n",
       "                While at school, students are being crammed into small classrooms with masses of other students, leaving each individual cramped. With only a square foot of desk space to write on, and the inability to move freely due to the molecule ratio of classroom size to students present, students are unable to concentrate on a given task. Scientists have proven through various studies that being comfortable while working has a direct effect on ones ability to produce quality work. By giving students the opportunity to work away from school, the comforts of home will aid in excelling the learning process. Students are also fed ill-nutritious foods in unnaturally short lunch periods, causing masses of students to consume foods that decrease brain power. When students are given less then 15 minutes to stuff their faces with greasy carbs before being shoved back into their classrooms, the students ability to work is compromised in ways like never before. By allowing students to work at home, they also have access to more nutritious food with reasonable eating periods. \n",
       "            </td>\n",
       "            <td style=\"vertical-align: top; align: left; line-height: 25px;\">\n",
       "                <span style=\"border-radius: 0.25em; color: #000; font-family: monospace\"><b>Evidence</b></span>\n",
       "            </td>\n",
       "        </tr>\n",
       "        \n",
       "        <tr  style=\"padding: 0px; vertical-align: top; align: left; background-image: repeating-linear-gradient(white 0px, white 24px, #7accd8 25px);\">\n",
       "            <td style=\"vertical-align: top; line-height: 25px;\">\n",
       "                <div style=\"line-height: 20px; width: 100%;  text-align:center; border-radius: 0.25em; background-color: #5cb85c; color: #fff; font-family: monospace\">Effective</div>\n",
       "                \n",
       "            </td>\n",
       "            <td style=\"vertical-align: top; align: left; line-height: 25px;\">\n",
       "                <span style=\"border-radius: 0.25em; color: #000; font-family: monospace\"> 0.94</span>\n",
       "            </td>\n",
       "            <td style=\"vertical-align: top; align: left; font-family: monospace; line-height: 25px;\">\n",
       "                In addition to comfort, working with a more flexible schedule also benefits students. \n",
       "            </td>\n",
       "            <td style=\"vertical-align: top; align: left; line-height: 25px;\">\n",
       "                <span style=\"border-radius: 0.25em; color: #000; font-family: monospace\"><b>Claim</b></span>\n",
       "            </td>\n",
       "        </tr>\n",
       "        \n",
       "        <tr  style=\"padding: 0px; vertical-align: top; align: left; background-image: repeating-linear-gradient(white 0px, white 24px, #7accd8 25px);\">\n",
       "            <td style=\"vertical-align: top; line-height: 25px;\">\n",
       "                <div style=\"line-height: 20px; width: 100%;  text-align:center; border-radius: 0.25em; background-color: #5cb85c; color: #fff; font-family: monospace\">Effective</div>\n",
       "                \n",
       "            </td>\n",
       "            <td style=\"vertical-align: top; align: left; line-height: 25px;\">\n",
       "                <span style=\"border-radius: 0.25em; color: #000; font-family: monospace\"> 0.95</span>\n",
       "            </td>\n",
       "            <td style=\"vertical-align: top; align: left; font-family: monospace; line-height: 25px;\">\n",
       "                In high school, students are often faced with the dilemma of an overwhelming amount of tests, quizzes, or projects due on a single day. Working online with a more flexible schedule, allows a student to space out assignments as needed, improving the quality and ability to learn from each one. In addition to this, the student can also plan their learning around their personal life, and allows the student to create a schedule that does not force them to chose between an important test and seeing family that visits only once a year. The ability to have more flexibility is also scientifically proven to improve learning in scenarios at school where students are forced to sit for hours at a time. Scientists have shown that teens can only focus for hour long intervals with 30 minute breaks in between. At school, classes are, on average, one and a half hours with only seven minute breaks in between. This shows how much an online approach to schooling can greatly benefit students. \n",
       "            </td>\n",
       "            <td style=\"vertical-align: top; align: left; line-height: 25px;\">\n",
       "                <span style=\"border-radius: 0.25em; color: #000; font-family: monospace\"><b>Evidence</b></span>\n",
       "            </td>\n",
       "        </tr>\n",
       "        \n",
       "        <tr  style=\"padding: 0px; vertical-align: top; align: left; background-image: repeating-linear-gradient(white 0px, white 24px, #7accd8 25px);\">\n",
       "            <td style=\"vertical-align: top; line-height: 25px;\">\n",
       "                <div style=\"line-height: 20px; width: 100%;  text-align:center; border-radius: 0.25em; background-color: #5cb85c; color: #fff; font-family: monospace\">Effective</div>\n",
       "                \n",
       "            </td>\n",
       "            <td style=\"vertical-align: top; align: left; line-height: 25px;\">\n",
       "                <span style=\"border-radius: 0.25em; color: #000; font-family: monospace\"> 0.94</span>\n",
       "            </td>\n",
       "            <td style=\"vertical-align: top; align: left; font-family: monospace; line-height: 25px;\">\n",
       "                Not only can online learning provide much needed flexibility, but it also allows students to learn at their own pace. \n",
       "            </td>\n",
       "            <td style=\"vertical-align: top; align: left; line-height: 25px;\">\n",
       "                <span style=\"border-radius: 0.25em; color: #000; font-family: monospace\"><b>Claim</b></span>\n",
       "            </td>\n",
       "        </tr>\n",
       "        \n",
       "        <tr  style=\"padding: 0px; vertical-align: top; align: left; background-image: repeating-linear-gradient(white 0px, white 24px, #7accd8 25px);\">\n",
       "            <td style=\"vertical-align: top; line-height: 25px;\">\n",
       "                <div style=\"line-height: 20px; width: 100%;  text-align:center; border-radius: 0.25em; background-color: #5cb85c; color: #fff; font-family: monospace\">Effective</div>\n",
       "                \n",
       "            </td>\n",
       "            <td style=\"vertical-align: top; align: left; line-height: 25px;\">\n",
       "                <span style=\"border-radius: 0.25em; color: #000; font-family: monospace\"> 0.94</span>\n",
       "            </td>\n",
       "            <td style=\"vertical-align: top; align: left; font-family: monospace; line-height: 25px;\">\n",
       "                Some students are faster in some subjects then others, and even within subjects, students may struggle with different learning objectives. The freedom of learning online allows students to work at a pace that is comfortable for them. This by itself eliminates assignments such as \"busy work\" given to students that fully understand the material faster then others. This also allows students to fully understand the material before moving on, instead of rushing to keep up with a class that is moving to fast to allow a struggling student to keep up. Some students are very intelligent and work well in higher level classes, but simply need slightly more time to practice and understand concepts then others, which is a matter that online classes solve completely. \n",
       "            </td>\n",
       "            <td style=\"vertical-align: top; align: left; line-height: 25px;\">\n",
       "                <span style=\"border-radius: 0.25em; color: #000; font-family: monospace\"><b>Evidence</b></span>\n",
       "            </td>\n",
       "        </tr>\n",
       "        \n",
       "        <tr  style=\"padding: 0px; vertical-align: top; align: left; background-image: repeating-linear-gradient(white 0px, white 24px, #7accd8 25px);\">\n",
       "            <td style=\"vertical-align: top; line-height: 25px;\">\n",
       "                <div style=\"line-height: 20px; width: 100%;  text-align:center; border-radius: 0.25em; background-color: #5cb85c; color: #fff; font-family: monospace\">Effective</div>\n",
       "                \n",
       "            </td>\n",
       "            <td style=\"vertical-align: top; align: left; line-height: 25px;\">\n",
       "                <span style=\"border-radius: 0.25em; color: #000; font-family: monospace\"> 0.94</span>\n",
       "            </td>\n",
       "            <td style=\"vertical-align: top; align: left; font-family: monospace; line-height: 25px;\">\n",
       "                Finally, online schooling allows for the removal of distractions that are commonly found in the classroom. \n",
       "            </td>\n",
       "            <td style=\"vertical-align: top; align: left; line-height: 25px;\">\n",
       "                <span style=\"border-radius: 0.25em; color: #000; font-family: monospace\"><b>Claim</b></span>\n",
       "            </td>\n",
       "        </tr>\n",
       "        \n",
       "        <tr  style=\"padding: 0px; vertical-align: top; align: left; background-image: repeating-linear-gradient(white 0px, white 24px, #7accd8 25px);\">\n",
       "            <td style=\"vertical-align: top; line-height: 25px;\">\n",
       "                <div style=\"line-height: 20px; width: 100%;  text-align:center; border-radius: 0.25em; background-color: #5cb85c; color: #fff; font-family: monospace\">Effective</div>\n",
       "                \n",
       "            </td>\n",
       "            <td style=\"vertical-align: top; align: left; line-height: 25px;\">\n",
       "                <span style=\"border-radius: 0.25em; color: #000; font-family: monospace\"> 0.95</span>\n",
       "            </td>\n",
       "            <td style=\"vertical-align: top; align: left; font-family: monospace; line-height: 25px;\">\n",
       "                At every school, there is always a group of individuals that have no interest in being at school, and focus all of their efforts into disrupting the class. At home, you can not only rid yourself of these students who curse loudly, blast music throughout the halls and classrooms, and often start fights in the middle of class, but also other distractions such as the droning artificial lights and loud air conditioning. Schools have small budgets for large amounts of students and this causes the school to make financial choices that sacrifice quality school equipment, such as quieter air-conditioning and plumbing that doesnt shake the walls of surrounding classrooms every time someone needs to relieve themselves. \n",
       "            </td>\n",
       "            <td style=\"vertical-align: top; align: left; line-height: 25px;\">\n",
       "                <span style=\"border-radius: 0.25em; color: #000; font-family: monospace\"><b>Evidence</b></span>\n",
       "            </td>\n",
       "        </tr>\n",
       "        \n",
       "        <tr  style=\"padding: 0px; vertical-align: top; align: left; background-image: repeating-linear-gradient(white 0px, white 24px, #7accd8 25px);\">\n",
       "            <td style=\"vertical-align: top; line-height: 25px;\">\n",
       "                <div style=\"line-height: 20px; width: 100%;  text-align:center; border-radius: 0.25em; background-color: #5cb85c; color: #fff; font-family: monospace\">Effective</div>\n",
       "                \n",
       "            </td>\n",
       "            <td style=\"vertical-align: top; align: left; line-height: 25px;\">\n",
       "                <span style=\"border-radius: 0.25em; color: #000; font-family: monospace\"> 0.92</span>\n",
       "            </td>\n",
       "            <td style=\"vertical-align: top; align: left; font-family: monospace; line-height: 25px;\">\n",
       "                While some may say that giving a student these freedoms leaves them at greater risk for slacking off completely, \n",
       "            </td>\n",
       "            <td style=\"vertical-align: top; align: left; line-height: 25px;\">\n",
       "                <span style=\"border-radius: 0.25em; color: #000; font-family: monospace\"><b>Counterclaim</b></span>\n",
       "            </td>\n",
       "        </tr>\n",
       "        \n",
       "        <tr  style=\"padding: 0px; vertical-align: top; align: left; background-image: repeating-linear-gradient(white 0px, white 24px, #7accd8 25px);\">\n",
       "            <td style=\"vertical-align: top; line-height: 25px;\">\n",
       "                <div style=\"line-height: 20px; width: 100%;  text-align:center; border-radius: 0.25em; background-color: #5cb85c; color: #fff; font-family: monospace\">Effective</div>\n",
       "                \n",
       "            </td>\n",
       "            <td style=\"vertical-align: top; align: left; line-height: 25px;\">\n",
       "                <span style=\"border-radius: 0.25em; color: #000; font-family: monospace\"> 0.94</span>\n",
       "            </td>\n",
       "            <td style=\"vertical-align: top; align: left; font-family: monospace; line-height: 25px;\">\n",
       "                they dont take into consideration that once these downfalls of the school system have been fixed by online schooling, students can see and enjoy firsthand what learning the the right environment can be like. Students will want to learn. Students will want to experience the joy of knowledge. \n",
       "            </td>\n",
       "            <td style=\"vertical-align: top; align: left; line-height: 25px;\">\n",
       "                <span style=\"border-radius: 0.25em; color: #000; font-family: monospace\"><b>Rebuttal</b></span>\n",
       "            </td>\n",
       "        </tr>\n",
       "        \n",
       "        <tr  style=\"padding: 0px; vertical-align: top; align: left; background-image: repeating-linear-gradient(white 0px, white 24px, #7accd8 25px);\">\n",
       "            <td style=\"vertical-align: top; line-height: 25px;\">\n",
       "                <div style=\"line-height: 20px; width: 100%;  text-align:center; border-radius: 0.25em; background-color: #5cb85c; color: #fff; font-family: monospace\">Effective</div>\n",
       "                \n",
       "            </td>\n",
       "            <td style=\"vertical-align: top; align: left; line-height: 25px;\">\n",
       "                <span style=\"border-radius: 0.25em; color: #000; font-family: monospace\"> 0.93</span>\n",
       "            </td>\n",
       "            <td style=\"vertical-align: top; align: left; font-family: monospace; line-height: 25px;\">\n",
       "                Online schooling prevents all of the downfalls of the school system while highlighting the positive aspects, allowing students to greatly benefit. \n",
       "            </td>\n",
       "            <td style=\"vertical-align: top; align: left; line-height: 25px;\">\n",
       "                <span style=\"border-radius: 0.25em; color: #000; font-family: monospace\"><b>Concluding Statement</b></span>\n",
       "            </td>\n",
       "        </tr>\n",
       "        </table>"
      ],
      "text/plain": [
       "<IPython.core.display.HTML object>"
      ]
     },
     "metadata": {},
     "output_type": "display_data"
    }
   ],
   "source": [
    "display_essay(essay2)"
   ]
  },
  {
   "cell_type": "markdown",
   "id": "5b01debf",
   "metadata": {
    "papermill": {
     "duration": 0.127676,
     "end_time": "2022-08-21T04:48:20.448577",
     "exception": false,
     "start_time": "2022-08-21T04:48:20.320901",
     "status": "completed"
    },
    "tags": []
   },
   "source": [
    "# Inference"
   ]
  },
  {
   "cell_type": "markdown",
   "id": "326db9da",
   "metadata": {
    "papermill": {
     "duration": 0.126596,
     "end_time": "2022-08-21T04:48:20.702169",
     "exception": false,
     "start_time": "2022-08-21T04:48:20.575573",
     "status": "completed"
    },
    "tags": []
   },
   "source": [
    "For inference results see [Feedback Prize - DeBERTa-v3 Inference](https://www.kaggle.com/code/lextoumbourou/feedback-prize-deberta-v3-inference).\n",
    "\n",
    "I add the inference code here just for completeness."
   ]
  },
  {
   "cell_type": "code",
   "execution_count": 79,
   "id": "3190e26c",
   "metadata": {
    "execution": {
     "iopub.execute_input": "2022-08-21T04:48:20.960017Z",
     "iopub.status.busy": "2022-08-21T04:48:20.959767Z",
     "iopub.status.idle": "2022-08-21T04:48:20.969158Z",
     "shell.execute_reply": "2022-08-21T04:48:20.967918Z"
    },
    "papermill": {
     "duration": 0.141034,
     "end_time": "2022-08-21T04:48:20.971693",
     "exception": false,
     "start_time": "2022-08-21T04:48:20.830659",
     "status": "completed"
    },
    "tags": []
   },
   "outputs": [
    {
     "data": {
      "text/plain": [
       "'import sys\\nimport glob\\nfrom nltk.corpus import stopwords\\nfrom nltk.tokenize import word_tokenize\\nsys.path.append(\\'../input/feedback-topics-identification-with-bertopic/site-packages\\')\\nfrom bertopic import BERTopic\\n\\ntopic_model = BERTopic.load(\"../input/feedback-topics-identification-with-bertopic/feedback_2021_topic_model\")\\n\\nsws = stopwords.words(\"english\") + [\"n\\'t\",  \"\\'s\", \"\\'ve\"]\\nfls = glob.glob(\"../input/feedback-prize-effectiveness/test/*.txt\")\\ndocs = []\\nfor fl in tqdm(fls):\\n    with open(fl) as f:\\n        txt = f.read()\\n        word_tokens = word_tokenize(txt)\\n        txt = \" \".join([w for w in word_tokens if not w.lower() in sws])\\n    docs.append(txt)\\n\\ntopics, probs = topic_model.transform(docs)\\n\\npred_topics = pd.DataFrame()\\ndids = list(map(lambda fl: fl.split(\"/\")[-1].split(\".\")[0], fls))\\npred_topics[\"id\"] = dids\\npred_topics[\"topic\"] = topics\\npred_topics[\\'prob\\'] = probs\\npred_topics = pred_topics.drop(columns={\\'prob\\'})\\npred_topics = pred_topics.rename(columns={\\'id\\': \\'essay_id\\'})\\npred_topics = pred_topics.merge(topic_meta_df, on=\\'topic\\', how=\\'left\\')\\npred_topics'"
      ]
     },
     "execution_count": 79,
     "metadata": {},
     "output_type": "execute_result"
    }
   ],
   "source": [
    "\"\"\"import sys\n",
    "import glob\n",
    "from nltk.corpus import stopwords\n",
    "from nltk.tokenize import word_tokenize\n",
    "sys.path.append('../input/feedback-topics-identification-with-bertopic/site-packages')\n",
    "from bertopic import BERTopic\n",
    "\n",
    "topic_model = BERTopic.load(\"../input/feedback-topics-identification-with-bertopic/feedback_2021_topic_model\")\n",
    "\n",
    "sws = stopwords.words(\"english\") + [\"n't\",  \"'s\", \"'ve\"]\n",
    "fls = glob.glob(\"../input/feedback-prize-effectiveness/test/*.txt\")\n",
    "docs = []\n",
    "for fl in tqdm(fls):\n",
    "    with open(fl) as f:\n",
    "        txt = f.read()\n",
    "        word_tokens = word_tokenize(txt)\n",
    "        txt = \" \".join([w for w in word_tokens if not w.lower() in sws])\n",
    "    docs.append(txt)\n",
    "\n",
    "topics, probs = topic_model.transform(docs)\n",
    "\n",
    "pred_topics = pd.DataFrame()\n",
    "dids = list(map(lambda fl: fl.split(\"/\")[-1].split(\".\")[0], fls))\n",
    "pred_topics[\"id\"] = dids\n",
    "pred_topics[\"topic\"] = topics\n",
    "pred_topics['prob'] = probs\n",
    "pred_topics = pred_topics.drop(columns={'prob'})\n",
    "pred_topics = pred_topics.rename(columns={'id': 'essay_id'})\n",
    "pred_topics = pred_topics.merge(topic_meta_df, on='topic', how='left')\n",
    "pred_topics\"\"\""
   ]
  },
  {
   "cell_type": "code",
   "execution_count": 80,
   "id": "173376d1",
   "metadata": {
    "execution": {
     "iopub.execute_input": "2022-08-21T04:48:21.231607Z",
     "iopub.status.busy": "2022-08-21T04:48:21.231373Z",
     "iopub.status.idle": "2022-08-21T04:48:21.237063Z",
     "shell.execute_reply": "2022-08-21T04:48:21.236404Z"
    },
    "papermill": {
     "duration": 0.135971,
     "end_time": "2022-08-21T04:48:21.239561",
     "exception": false,
     "start_time": "2022-08-21T04:48:21.103590",
     "status": "completed"
    },
    "tags": []
   },
   "outputs": [
    {
     "data": {
      "text/plain": [
       "\"test_df = test_df.merge(pred_topics, on='essay_id', how='left')\\ntest_df = add_inputs(test_df, str(config.input_path / 'test'))\""
      ]
     },
     "execution_count": 80,
     "metadata": {},
     "output_type": "execute_result"
    }
   ],
   "source": [
    "\"\"\"test_df = test_df.merge(pred_topics, on='essay_id', how='left')\n",
    "test_df = add_inputs(test_df, str(config.input_path / 'test'))\"\"\""
   ]
  },
  {
   "cell_type": "code",
   "execution_count": 81,
   "id": "45111cc3",
   "metadata": {
    "execution": {
     "iopub.execute_input": "2022-08-21T04:48:21.501644Z",
     "iopub.status.busy": "2022-08-21T04:48:21.501405Z",
     "iopub.status.idle": "2022-08-21T04:48:21.507967Z",
     "shell.execute_reply": "2022-08-21T04:48:21.507266Z"
    },
    "papermill": {
     "duration": 0.138365,
     "end_time": "2022-08-21T04:48:21.510301",
     "exception": false,
     "start_time": "2022-08-21T04:48:21.371936",
     "status": "completed"
    },
    "tags": []
   },
   "outputs": [
    {
     "data": {
      "text/plain": [
       "'import torch\\n\\nall_test_data = np.zeros((config.n_folds, len(test_df), len(labels)))\\n\\nfor fold_num in range(config.n_folds):\\n    print(f\\'Do fold {fold_num}\\')\\n\\n    tokenizer = AutoTokenizer.from_pretrained(f\\'./fold_{fold_num}\\')\\n    tokenizer.model_max_length = config.max_len\\n\\n    model = get_model()\\n    state_dict = torch.load(f\\'./fold_{fold_num}/pytorch_model.bin\\')\\n    model.load_state_dict(state_dict)\\n    \\n    test_dataset = Dataset.from_pandas(test_df[[\\'inputs\\', \\'essay_fn\\']])\\n    test_tok_dataset = test_dataset.map(tokenizer_func, batched=True, remove_columns=(\\'inputs\\', \\'essay_fn\\'))\\n    \\n    data_collator = DataCollatorWithPadding(tokenizer=tokenizer, padding=\\'longest\\')\\n\\n    args = TrainingArguments(\\n        output_dir=config.output_path,\\n        learning_rate=config.lr,\\n        lr_scheduler_type=\\'cosine\\',\\n        fp16=True,\\n        evaluation_strategy=\\'epoch\\',\\n        per_device_train_batch_size=config.batch_size,\\n        per_device_eval_batch_size=config.batch_size * 2,\\n        report_to=\"none\",\\n        save_strategy=\\'no\\'\\n    )\\n    \\n    trainer = Trainer(\\n        model,\\n        args,\\n        tokenizer=tokenizer,\\n        data_collator=data_collator\\n    )\\n    \\n    outputs = trainer.predict(test_tok_dataset) \\n    softmax_outputs = softmax(outputs.predictions, axis=1)\\n    \\n    all_test_data[fold_num] = softmax_outputs'"
      ]
     },
     "execution_count": 81,
     "metadata": {},
     "output_type": "execute_result"
    }
   ],
   "source": [
    "\"\"\"import torch\n",
    "\n",
    "all_test_data = np.zeros((config.n_folds, len(test_df), len(labels)))\n",
    "\n",
    "for fold_num in range(config.n_folds):\n",
    "    print(f'Do fold {fold_num}')\n",
    "\n",
    "    tokenizer = AutoTokenizer.from_pretrained(f'./fold_{fold_num}')\n",
    "    tokenizer.model_max_length = config.max_len\n",
    "\n",
    "    model = get_model()\n",
    "    state_dict = torch.load(f'./fold_{fold_num}/pytorch_model.bin')\n",
    "    model.load_state_dict(state_dict)\n",
    "    \n",
    "    test_dataset = Dataset.from_pandas(test_df[['inputs', 'essay_fn']])\n",
    "    test_tok_dataset = test_dataset.map(tokenizer_func, batched=True, remove_columns=('inputs', 'essay_fn'))\n",
    "    \n",
    "    data_collator = DataCollatorWithPadding(tokenizer=tokenizer, padding='longest')\n",
    "\n",
    "    args = TrainingArguments(\n",
    "        output_dir=config.output_path,\n",
    "        learning_rate=config.lr,\n",
    "        lr_scheduler_type='cosine',\n",
    "        fp16=True,\n",
    "        evaluation_strategy='epoch',\n",
    "        per_device_train_batch_size=config.batch_size,\n",
    "        per_device_eval_batch_size=config.batch_size * 2,\n",
    "        report_to=\"none\",\n",
    "        save_strategy='no'\n",
    "    )\n",
    "    \n",
    "    trainer = Trainer(\n",
    "        model,\n",
    "        args,\n",
    "        tokenizer=tokenizer,\n",
    "        data_collator=data_collator\n",
    "    )\n",
    "    \n",
    "    outputs = trainer.predict(test_tok_dataset) \n",
    "    softmax_outputs = softmax(outputs.predictions, axis=1)\n",
    "    \n",
    "    all_test_data[fold_num] = softmax_outputs\"\"\""
   ]
  },
  {
   "cell_type": "markdown",
   "id": "2fb3c93f",
   "metadata": {
    "papermill": {
     "duration": 0.126471,
     "end_time": "2022-08-21T04:48:21.770425",
     "exception": false,
     "start_time": "2022-08-21T04:48:21.643954",
     "status": "completed"
    },
    "tags": []
   },
   "source": [
    "# Submission"
   ]
  },
  {
   "cell_type": "code",
   "execution_count": 82,
   "id": "9e31bf77",
   "metadata": {
    "execution": {
     "iopub.execute_input": "2022-08-21T04:48:22.034614Z",
     "iopub.status.busy": "2022-08-21T04:48:22.034360Z",
     "iopub.status.idle": "2022-08-21T04:48:22.042692Z",
     "shell.execute_reply": "2022-08-21T04:48:22.040788Z"
    },
    "papermill": {
     "duration": 0.143985,
     "end_time": "2022-08-21T04:48:22.045304",
     "exception": false,
     "start_time": "2022-08-21T04:48:21.901319",
     "status": "completed"
    },
    "tags": []
   },
   "outputs": [
    {
     "data": {
      "text/plain": [
       "\"preds = np.mean(all_test_data, axis=0)\\noutput_df = pd.concat([test_df[['discourse_id']], pd.DataFrame(preds, columns=labels)], axis=1)\\noutput_df.to_csv('submission.csv', index=False)\\npd.read_csv('submission.csv')\""
      ]
     },
     "execution_count": 82,
     "metadata": {},
     "output_type": "execute_result"
    }
   ],
   "source": [
    "\"\"\"preds = np.mean(all_test_data, axis=0)\n",
    "output_df = pd.concat([test_df[['discourse_id']], pd.DataFrame(preds, columns=labels)], axis=1)\n",
    "output_df.to_csv('submission.csv', index=False)\n",
    "pd.read_csv('submission.csv')\"\"\""
   ]
  },
  {
   "cell_type": "code",
   "execution_count": null,
   "id": "265c1f33",
   "metadata": {
    "papermill": {
     "duration": 0.129498,
     "end_time": "2022-08-21T04:48:22.304819",
     "exception": false,
     "start_time": "2022-08-21T04:48:22.175321",
     "status": "completed"
    },
    "tags": []
   },
   "outputs": [],
   "source": []
  }
 ],
 "metadata": {
  "kernelspec": {
   "display_name": "Python 3",
   "language": "python",
   "name": "python3"
  },
  "language_info": {
   "codemirror_mode": {
    "name": "ipython",
    "version": 3
   },
   "file_extension": ".py",
   "mimetype": "text/x-python",
   "name": "python",
   "nbconvert_exporter": "python",
   "pygments_lexer": "ipython3",
   "version": "3.7.12"
  },
  "papermill": {
   "default_parameters": {},
   "duration": 27959.215102,
   "end_time": "2022-08-21T04:48:25.521084",
   "environment_variables": {},
   "exception": null,
   "input_path": "__notebook__.ipynb",
   "output_path": "__notebook__.ipynb",
   "parameters": {},
   "start_time": "2022-08-20T21:02:26.305982",
   "version": "2.3.4"
  },
  "widgets": {
   "application/vnd.jupyter.widget-state+json": {
    "state": {
     "024f951d5e414bc3a33c84226cac7647": {
      "model_module": "@jupyter-widgets/controls",
      "model_module_version": "1.5.0",
      "model_name": "DescriptionStyleModel",
      "state": {
       "_model_module": "@jupyter-widgets/controls",
       "_model_module_version": "1.5.0",
       "_model_name": "DescriptionStyleModel",
       "_view_count": null,
       "_view_module": "@jupyter-widgets/base",
       "_view_module_version": "1.2.0",
       "_view_name": "StyleView",
       "description_width": ""
      }
     },
     "04f38528c6c9450997ba07c2136bd22d": {
      "model_module": "@jupyter-widgets/base",
      "model_module_version": "1.2.0",
      "model_name": "LayoutModel",
      "state": {
       "_model_module": "@jupyter-widgets/base",
       "_model_module_version": "1.2.0",
       "_model_name": "LayoutModel",
       "_view_count": null,
       "_view_module": "@jupyter-widgets/base",
       "_view_module_version": "1.2.0",
       "_view_name": "LayoutView",
       "align_content": null,
       "align_items": null,
       "align_self": null,
       "border": null,
       "bottom": null,
       "display": null,
       "flex": null,
       "flex_flow": null,
       "grid_area": null,
       "grid_auto_columns": null,
       "grid_auto_flow": null,
       "grid_auto_rows": null,
       "grid_column": null,
       "grid_gap": null,
       "grid_row": null,
       "grid_template_areas": null,
       "grid_template_columns": null,
       "grid_template_rows": null,
       "height": null,
       "justify_content": null,
       "justify_items": null,
       "left": null,
       "margin": null,
       "max_height": null,
       "max_width": null,
       "min_height": null,
       "min_width": null,
       "object_fit": null,
       "object_position": null,
       "order": null,
       "overflow": null,
       "overflow_x": null,
       "overflow_y": null,
       "padding": null,
       "right": null,
       "top": null,
       "visibility": null,
       "width": null
      }
     },
     "079b50465ef549b1a9eab8fadcc1606a": {
      "model_module": "@jupyter-widgets/base",
      "model_module_version": "1.2.0",
      "model_name": "LayoutModel",
      "state": {
       "_model_module": "@jupyter-widgets/base",
       "_model_module_version": "1.2.0",
       "_model_name": "LayoutModel",
       "_view_count": null,
       "_view_module": "@jupyter-widgets/base",
       "_view_module_version": "1.2.0",
       "_view_name": "LayoutView",
       "align_content": null,
       "align_items": null,
       "align_self": null,
       "border": null,
       "bottom": null,
       "display": null,
       "flex": null,
       "flex_flow": null,
       "grid_area": null,
       "grid_auto_columns": null,
       "grid_auto_flow": null,
       "grid_auto_rows": null,
       "grid_column": null,
       "grid_gap": null,
       "grid_row": null,
       "grid_template_areas": null,
       "grid_template_columns": null,
       "grid_template_rows": null,
       "height": null,
       "justify_content": null,
       "justify_items": null,
       "left": null,
       "margin": null,
       "max_height": null,
       "max_width": null,
       "min_height": null,
       "min_width": null,
       "object_fit": null,
       "object_position": null,
       "order": null,
       "overflow": null,
       "overflow_x": null,
       "overflow_y": null,
       "padding": null,
       "right": null,
       "top": null,
       "visibility": null,
       "width": null
      }
     },
     "08bd062b00db474582b4e217440828aa": {
      "model_module": "@jupyter-widgets/base",
      "model_module_version": "1.2.0",
      "model_name": "LayoutModel",
      "state": {
       "_model_module": "@jupyter-widgets/base",
       "_model_module_version": "1.2.0",
       "_model_name": "LayoutModel",
       "_view_count": null,
       "_view_module": "@jupyter-widgets/base",
       "_view_module_version": "1.2.0",
       "_view_name": "LayoutView",
       "align_content": null,
       "align_items": null,
       "align_self": null,
       "border": null,
       "bottom": null,
       "display": null,
       "flex": null,
       "flex_flow": null,
       "grid_area": null,
       "grid_auto_columns": null,
       "grid_auto_flow": null,
       "grid_auto_rows": null,
       "grid_column": null,
       "grid_gap": null,
       "grid_row": null,
       "grid_template_areas": null,
       "grid_template_columns": null,
       "grid_template_rows": null,
       "height": null,
       "justify_content": null,
       "justify_items": null,
       "left": null,
       "margin": null,
       "max_height": null,
       "max_width": null,
       "min_height": null,
       "min_width": null,
       "object_fit": null,
       "object_position": null,
       "order": null,
       "overflow": null,
       "overflow_x": null,
       "overflow_y": null,
       "padding": null,
       "right": null,
       "top": null,
       "visibility": null,
       "width": null
      }
     },
     "0aa43f6ff1624255ae252fec18eeca4c": {
      "model_module": "@jupyter-widgets/controls",
      "model_module_version": "1.5.0",
      "model_name": "FloatProgressModel",
      "state": {
       "_dom_classes": [],
       "_model_module": "@jupyter-widgets/controls",
       "_model_module_version": "1.5.0",
       "_model_name": "FloatProgressModel",
       "_view_count": null,
       "_view_module": "@jupyter-widgets/controls",
       "_view_module_version": "1.5.0",
       "_view_name": "ProgressView",
       "bar_style": "success",
       "description": "",
       "description_tooltip": null,
       "layout": "IPY_MODEL_e61ecfcfbf304b0f9081bb25d025accf",
       "max": 475.0,
       "min": 0.0,
       "orientation": "horizontal",
       "style": "IPY_MODEL_8729addd39ff40a7bada2c446abc66e6",
       "value": 475.0
      }
     },
     "0edbdfb244e247ada953bf772348fc77": {
      "model_module": "@jupyter-widgets/controls",
      "model_module_version": "1.5.0",
      "model_name": "HTMLModel",
      "state": {
       "_dom_classes": [],
       "_model_module": "@jupyter-widgets/controls",
       "_model_module_version": "1.5.0",
       "_model_name": "HTMLModel",
       "_view_count": null,
       "_view_module": "@jupyter-widgets/controls",
       "_view_module_version": "1.5.0",
       "_view_name": "HTMLView",
       "description": "",
       "description_tooltip": null,
       "layout": "IPY_MODEL_ce64d66c07544d20be1002d10db8639a",
       "placeholder": "​",
       "style": "IPY_MODEL_a7b97d623e9d4c5e8937d39c4eb6b8ab",
       "value": "Downloading: 100%"
      }
     },
     "0f136788e50946d9a33b1707e1e72479": {
      "model_module": "@jupyter-widgets/controls",
      "model_module_version": "1.5.0",
      "model_name": "FloatProgressModel",
      "state": {
       "_dom_classes": [],
       "_model_module": "@jupyter-widgets/controls",
       "_model_module_version": "1.5.0",
       "_model_name": "FloatProgressModel",
       "_view_count": null,
       "_view_module": "@jupyter-widgets/controls",
       "_view_module_version": "1.5.0",
       "_view_name": "ProgressView",
       "bar_style": "success",
       "description": "",
       "description_tooltip": null,
       "layout": "IPY_MODEL_13c19a60a2d741558c37aae7c6750248",
       "max": 8.0,
       "min": 0.0,
       "orientation": "horizontal",
       "style": "IPY_MODEL_a792e9ad56fe475288b4a58151bfd601",
       "value": 8.0
      }
     },
     "10bf744840ed4b63a2dd02f6f4a067ea": {
      "model_module": "@jupyter-widgets/controls",
      "model_module_version": "1.5.0",
      "model_name": "HTMLModel",
      "state": {
       "_dom_classes": [],
       "_model_module": "@jupyter-widgets/controls",
       "_model_module_version": "1.5.0",
       "_model_name": "HTMLModel",
       "_view_count": null,
       "_view_module": "@jupyter-widgets/controls",
       "_view_module_version": "1.5.0",
       "_view_name": "HTMLView",
       "description": "",
       "description_tooltip": null,
       "layout": "IPY_MODEL_16ef1f2ba5ca40fb939a8fd6bed07396",
       "placeholder": "​",
       "style": "IPY_MODEL_195a633fc83544b194411bb9fcbcfcee",
       "value": " 8/8 [00:14&lt;00:00,  1.73s/ba]"
      }
     },
     "139854b699e14c32a9056f1ae16e3f55": {
      "model_module": "@jupyter-widgets/controls",
      "model_module_version": "1.5.0",
      "model_name": "DescriptionStyleModel",
      "state": {
       "_model_module": "@jupyter-widgets/controls",
       "_model_module_version": "1.5.0",
       "_model_name": "DescriptionStyleModel",
       "_view_count": null,
       "_view_module": "@jupyter-widgets/base",
       "_view_module_version": "1.2.0",
       "_view_name": "StyleView",
       "description_width": ""
      }
     },
     "13b4290dfca345b8980d27e2062237a6": {
      "model_module": "@jupyter-widgets/controls",
      "model_module_version": "1.5.0",
      "model_name": "FloatProgressModel",
      "state": {
       "_dom_classes": [],
       "_model_module": "@jupyter-widgets/controls",
       "_model_module_version": "1.5.0",
       "_model_name": "FloatProgressModel",
       "_view_count": null,
       "_view_module": "@jupyter-widgets/controls",
       "_view_module_version": "1.5.0",
       "_view_name": "ProgressView",
       "bar_style": "success",
       "description": "",
       "description_tooltip": null,
       "layout": "IPY_MODEL_13d3b98088e64363a8a6f2a79a5f37d6",
       "max": 58.0,
       "min": 0.0,
       "orientation": "horizontal",
       "style": "IPY_MODEL_b281ddfaaafe42439e8bfa254f31a7c2",
       "value": 58.0
      }
     },
     "13c19a60a2d741558c37aae7c6750248": {
      "model_module": "@jupyter-widgets/base",
      "model_module_version": "1.2.0",
      "model_name": "LayoutModel",
      "state": {
       "_model_module": "@jupyter-widgets/base",
       "_model_module_version": "1.2.0",
       "_model_name": "LayoutModel",
       "_view_count": null,
       "_view_module": "@jupyter-widgets/base",
       "_view_module_version": "1.2.0",
       "_view_name": "LayoutView",
       "align_content": null,
       "align_items": null,
       "align_self": null,
       "border": null,
       "bottom": null,
       "display": null,
       "flex": null,
       "flex_flow": null,
       "grid_area": null,
       "grid_auto_columns": null,
       "grid_auto_flow": null,
       "grid_auto_rows": null,
       "grid_column": null,
       "grid_gap": null,
       "grid_row": null,
       "grid_template_areas": null,
       "grid_template_columns": null,
       "grid_template_rows": null,
       "height": null,
       "justify_content": null,
       "justify_items": null,
       "left": null,
       "margin": null,
       "max_height": null,
       "max_width": null,
       "min_height": null,
       "min_width": null,
       "object_fit": null,
       "object_position": null,
       "order": null,
       "overflow": null,
       "overflow_x": null,
       "overflow_y": null,
       "padding": null,
       "right": null,
       "top": null,
       "visibility": null,
       "width": null
      }
     },
     "13d3b98088e64363a8a6f2a79a5f37d6": {
      "model_module": "@jupyter-widgets/base",
      "model_module_version": "1.2.0",
      "model_name": "LayoutModel",
      "state": {
       "_model_module": "@jupyter-widgets/base",
       "_model_module_version": "1.2.0",
       "_model_name": "LayoutModel",
       "_view_count": null,
       "_view_module": "@jupyter-widgets/base",
       "_view_module_version": "1.2.0",
       "_view_name": "LayoutView",
       "align_content": null,
       "align_items": null,
       "align_self": null,
       "border": null,
       "bottom": null,
       "display": null,
       "flex": null,
       "flex_flow": null,
       "grid_area": null,
       "grid_auto_columns": null,
       "grid_auto_flow": null,
       "grid_auto_rows": null,
       "grid_column": null,
       "grid_gap": null,
       "grid_row": null,
       "grid_template_areas": null,
       "grid_template_columns": null,
       "grid_template_rows": null,
       "height": null,
       "justify_content": null,
       "justify_items": null,
       "left": null,
       "margin": null,
       "max_height": null,
       "max_width": null,
       "min_height": null,
       "min_width": null,
       "object_fit": null,
       "object_position": null,
       "order": null,
       "overflow": null,
       "overflow_x": null,
       "overflow_y": null,
       "padding": null,
       "right": null,
       "top": null,
       "visibility": null,
       "width": null
      }
     },
     "152cbdafd12c4ee0b258c9bd25994142": {
      "model_module": "@jupyter-widgets/base",
      "model_module_version": "1.2.0",
      "model_name": "LayoutModel",
      "state": {
       "_model_module": "@jupyter-widgets/base",
       "_model_module_version": "1.2.0",
       "_model_name": "LayoutModel",
       "_view_count": null,
       "_view_module": "@jupyter-widgets/base",
       "_view_module_version": "1.2.0",
       "_view_name": "LayoutView",
       "align_content": null,
       "align_items": null,
       "align_self": null,
       "border": null,
       "bottom": null,
       "display": null,
       "flex": null,
       "flex_flow": null,
       "grid_area": null,
       "grid_auto_columns": null,
       "grid_auto_flow": null,
       "grid_auto_rows": null,
       "grid_column": null,
       "grid_gap": null,
       "grid_row": null,
       "grid_template_areas": null,
       "grid_template_columns": null,
       "grid_template_rows": null,
       "height": null,
       "justify_content": null,
       "justify_items": null,
       "left": null,
       "margin": null,
       "max_height": null,
       "max_width": null,
       "min_height": null,
       "min_width": null,
       "object_fit": null,
       "object_position": null,
       "order": null,
       "overflow": null,
       "overflow_x": null,
       "overflow_y": null,
       "padding": null,
       "right": null,
       "top": null,
       "visibility": null,
       "width": null
      }
     },
     "15a0df93d5c54a5c86f61e3df1af2741": {
      "model_module": "@jupyter-widgets/controls",
      "model_module_version": "1.5.0",
      "model_name": "HBoxModel",
      "state": {
       "_dom_classes": [],
       "_model_module": "@jupyter-widgets/controls",
       "_model_module_version": "1.5.0",
       "_model_name": "HBoxModel",
       "_view_count": null,
       "_view_module": "@jupyter-widgets/controls",
       "_view_module_version": "1.5.0",
       "_view_name": "HBoxView",
       "box_style": "",
       "children": [
        "IPY_MODEL_a76c75725b77443cb54e5e6b7f18820a",
        "IPY_MODEL_8c3870739ee7416d8115504301f6c929",
        "IPY_MODEL_977d56d0882545b6b2c6d5c33682d328"
       ],
       "layout": "IPY_MODEL_d8c105eee57149c2b5d0d8fbd791c368"
      }
     },
     "15c7d5a5ede546e687c2911a62c5a80d": {
      "model_module": "@jupyter-widgets/base",
      "model_module_version": "1.2.0",
      "model_name": "LayoutModel",
      "state": {
       "_model_module": "@jupyter-widgets/base",
       "_model_module_version": "1.2.0",
       "_model_name": "LayoutModel",
       "_view_count": null,
       "_view_module": "@jupyter-widgets/base",
       "_view_module_version": "1.2.0",
       "_view_name": "LayoutView",
       "align_content": null,
       "align_items": null,
       "align_self": null,
       "border": null,
       "bottom": null,
       "display": null,
       "flex": null,
       "flex_flow": null,
       "grid_area": null,
       "grid_auto_columns": null,
       "grid_auto_flow": null,
       "grid_auto_rows": null,
       "grid_column": null,
       "grid_gap": null,
       "grid_row": null,
       "grid_template_areas": null,
       "grid_template_columns": null,
       "grid_template_rows": null,
       "height": null,
       "justify_content": null,
       "justify_items": null,
       "left": null,
       "margin": null,
       "max_height": null,
       "max_width": null,
       "min_height": null,
       "min_width": null,
       "object_fit": null,
       "object_position": null,
       "order": null,
       "overflow": null,
       "overflow_x": null,
       "overflow_y": null,
       "padding": null,
       "right": null,
       "top": null,
       "visibility": null,
       "width": null
      }
     },
     "16ef1f2ba5ca40fb939a8fd6bed07396": {
      "model_module": "@jupyter-widgets/base",
      "model_module_version": "1.2.0",
      "model_name": "LayoutModel",
      "state": {
       "_model_module": "@jupyter-widgets/base",
       "_model_module_version": "1.2.0",
       "_model_name": "LayoutModel",
       "_view_count": null,
       "_view_module": "@jupyter-widgets/base",
       "_view_module_version": "1.2.0",
       "_view_name": "LayoutView",
       "align_content": null,
       "align_items": null,
       "align_self": null,
       "border": null,
       "bottom": null,
       "display": null,
       "flex": null,
       "flex_flow": null,
       "grid_area": null,
       "grid_auto_columns": null,
       "grid_auto_flow": null,
       "grid_auto_rows": null,
       "grid_column": null,
       "grid_gap": null,
       "grid_row": null,
       "grid_template_areas": null,
       "grid_template_columns": null,
       "grid_template_rows": null,
       "height": null,
       "justify_content": null,
       "justify_items": null,
       "left": null,
       "margin": null,
       "max_height": null,
       "max_width": null,
       "min_height": null,
       "min_width": null,
       "object_fit": null,
       "object_position": null,
       "order": null,
       "overflow": null,
       "overflow_x": null,
       "overflow_y": null,
       "padding": null,
       "right": null,
       "top": null,
       "visibility": null,
       "width": null
      }
     },
     "16f9ad11f1b04851a9725cba477cc87d": {
      "model_module": "@jupyter-widgets/base",
      "model_module_version": "1.2.0",
      "model_name": "LayoutModel",
      "state": {
       "_model_module": "@jupyter-widgets/base",
       "_model_module_version": "1.2.0",
       "_model_name": "LayoutModel",
       "_view_count": null,
       "_view_module": "@jupyter-widgets/base",
       "_view_module_version": "1.2.0",
       "_view_name": "LayoutView",
       "align_content": null,
       "align_items": null,
       "align_self": null,
       "border": null,
       "bottom": null,
       "display": null,
       "flex": null,
       "flex_flow": null,
       "grid_area": null,
       "grid_auto_columns": null,
       "grid_auto_flow": null,
       "grid_auto_rows": null,
       "grid_column": null,
       "grid_gap": null,
       "grid_row": null,
       "grid_template_areas": null,
       "grid_template_columns": null,
       "grid_template_rows": null,
       "height": null,
       "justify_content": null,
       "justify_items": null,
       "left": null,
       "margin": null,
       "max_height": null,
       "max_width": null,
       "min_height": null,
       "min_width": null,
       "object_fit": null,
       "object_position": null,
       "order": null,
       "overflow": null,
       "overflow_x": null,
       "overflow_y": null,
       "padding": null,
       "right": null,
       "top": null,
       "visibility": null,
       "width": null
      }
     },
     "17d4ab4faa1648f5950c23ba0debb1f1": {
      "model_module": "@jupyter-widgets/base",
      "model_module_version": "1.2.0",
      "model_name": "LayoutModel",
      "state": {
       "_model_module": "@jupyter-widgets/base",
       "_model_module_version": "1.2.0",
       "_model_name": "LayoutModel",
       "_view_count": null,
       "_view_module": "@jupyter-widgets/base",
       "_view_module_version": "1.2.0",
       "_view_name": "LayoutView",
       "align_content": null,
       "align_items": null,
       "align_self": null,
       "border": null,
       "bottom": null,
       "display": null,
       "flex": null,
       "flex_flow": null,
       "grid_area": null,
       "grid_auto_columns": null,
       "grid_auto_flow": null,
       "grid_auto_rows": null,
       "grid_column": null,
       "grid_gap": null,
       "grid_row": null,
       "grid_template_areas": null,
       "grid_template_columns": null,
       "grid_template_rows": null,
       "height": null,
       "justify_content": null,
       "justify_items": null,
       "left": null,
       "margin": null,
       "max_height": null,
       "max_width": null,
       "min_height": null,
       "min_width": null,
       "object_fit": null,
       "object_position": null,
       "order": null,
       "overflow": null,
       "overflow_x": null,
       "overflow_y": null,
       "padding": null,
       "right": null,
       "top": null,
       "visibility": null,
       "width": null
      }
     },
     "195a633fc83544b194411bb9fcbcfcee": {
      "model_module": "@jupyter-widgets/controls",
      "model_module_version": "1.5.0",
      "model_name": "DescriptionStyleModel",
      "state": {
       "_model_module": "@jupyter-widgets/controls",
       "_model_module_version": "1.5.0",
       "_model_name": "DescriptionStyleModel",
       "_view_count": null,
       "_view_module": "@jupyter-widgets/base",
       "_view_module_version": "1.2.0",
       "_view_name": "StyleView",
       "description_width": ""
      }
     },
     "1b2c1fe754d143e6a5416e2c56a889d9": {
      "model_module": "@jupyter-widgets/base",
      "model_module_version": "1.2.0",
      "model_name": "LayoutModel",
      "state": {
       "_model_module": "@jupyter-widgets/base",
       "_model_module_version": "1.2.0",
       "_model_name": "LayoutModel",
       "_view_count": null,
       "_view_module": "@jupyter-widgets/base",
       "_view_module_version": "1.2.0",
       "_view_name": "LayoutView",
       "align_content": null,
       "align_items": null,
       "align_self": null,
       "border": null,
       "bottom": null,
       "display": null,
       "flex": null,
       "flex_flow": null,
       "grid_area": null,
       "grid_auto_columns": null,
       "grid_auto_flow": null,
       "grid_auto_rows": null,
       "grid_column": null,
       "grid_gap": null,
       "grid_row": null,
       "grid_template_areas": null,
       "grid_template_columns": null,
       "grid_template_rows": null,
       "height": null,
       "justify_content": null,
       "justify_items": null,
       "left": null,
       "margin": null,
       "max_height": null,
       "max_width": null,
       "min_height": null,
       "min_width": null,
       "object_fit": null,
       "object_position": null,
       "order": null,
       "overflow": null,
       "overflow_x": null,
       "overflow_y": null,
       "padding": null,
       "right": null,
       "top": null,
       "visibility": null,
       "width": null
      }
     },
     "1bd0862b2c71433887e011d4b1707258": {
      "model_module": "@jupyter-widgets/controls",
      "model_module_version": "1.5.0",
      "model_name": "DescriptionStyleModel",
      "state": {
       "_model_module": "@jupyter-widgets/controls",
       "_model_module_version": "1.5.0",
       "_model_name": "DescriptionStyleModel",
       "_view_count": null,
       "_view_module": "@jupyter-widgets/base",
       "_view_module_version": "1.2.0",
       "_view_name": "StyleView",
       "description_width": ""
      }
     },
     "1c18dcaf574c4363b87432ea672c8d9c": {
      "model_module": "@jupyter-widgets/base",
      "model_module_version": "1.2.0",
      "model_name": "LayoutModel",
      "state": {
       "_model_module": "@jupyter-widgets/base",
       "_model_module_version": "1.2.0",
       "_model_name": "LayoutModel",
       "_view_count": null,
       "_view_module": "@jupyter-widgets/base",
       "_view_module_version": "1.2.0",
       "_view_name": "LayoutView",
       "align_content": null,
       "align_items": null,
       "align_self": null,
       "border": null,
       "bottom": null,
       "display": null,
       "flex": null,
       "flex_flow": null,
       "grid_area": null,
       "grid_auto_columns": null,
       "grid_auto_flow": null,
       "grid_auto_rows": null,
       "grid_column": null,
       "grid_gap": null,
       "grid_row": null,
       "grid_template_areas": null,
       "grid_template_columns": null,
       "grid_template_rows": null,
       "height": null,
       "justify_content": null,
       "justify_items": null,
       "left": null,
       "margin": null,
       "max_height": null,
       "max_width": null,
       "min_height": null,
       "min_width": null,
       "object_fit": null,
       "object_position": null,
       "order": null,
       "overflow": null,
       "overflow_x": null,
       "overflow_y": null,
       "padding": null,
       "right": null,
       "top": null,
       "visibility": null,
       "width": null
      }
     },
     "1d533fddde394fcb9b60b1b9a4c5a0db": {
      "model_module": "@jupyter-widgets/base",
      "model_module_version": "1.2.0",
      "model_name": "LayoutModel",
      "state": {
       "_model_module": "@jupyter-widgets/base",
       "_model_module_version": "1.2.0",
       "_model_name": "LayoutModel",
       "_view_count": null,
       "_view_module": "@jupyter-widgets/base",
       "_view_module_version": "1.2.0",
       "_view_name": "LayoutView",
       "align_content": null,
       "align_items": null,
       "align_self": null,
       "border": null,
       "bottom": null,
       "display": null,
       "flex": null,
       "flex_flow": null,
       "grid_area": null,
       "grid_auto_columns": null,
       "grid_auto_flow": null,
       "grid_auto_rows": null,
       "grid_column": null,
       "grid_gap": null,
       "grid_row": null,
       "grid_template_areas": null,
       "grid_template_columns": null,
       "grid_template_rows": null,
       "height": null,
       "justify_content": null,
       "justify_items": null,
       "left": null,
       "margin": null,
       "max_height": null,
       "max_width": null,
       "min_height": null,
       "min_width": null,
       "object_fit": null,
       "object_position": null,
       "order": null,
       "overflow": null,
       "overflow_x": null,
       "overflow_y": null,
       "padding": null,
       "right": null,
       "top": null,
       "visibility": null,
       "width": null
      }
     },
     "1dfecd695a86405a96ebe1accb8e3bcf": {
      "model_module": "@jupyter-widgets/controls",
      "model_module_version": "1.5.0",
      "model_name": "HTMLModel",
      "state": {
       "_dom_classes": [],
       "_model_module": "@jupyter-widgets/controls",
       "_model_module_version": "1.5.0",
       "_model_name": "HTMLModel",
       "_view_count": null,
       "_view_module": "@jupyter-widgets/controls",
       "_view_module_version": "1.5.0",
       "_view_name": "HTMLView",
       "description": "",
       "description_tooltip": null,
       "layout": "IPY_MODEL_e1a5ff54faf445e7961df436f96de38e",
       "placeholder": "​",
       "style": "IPY_MODEL_f3cf3be8154746e08d5560bcebf7b5ca",
       "value": " 58/58 [02:28&lt;00:00,  1.49s/ba]"
      }
     },
     "214a1e930ec34c4f9560f137ff614ffa": {
      "model_module": "@jupyter-widgets/controls",
      "model_module_version": "1.5.0",
      "model_name": "HTMLModel",
      "state": {
       "_dom_classes": [],
       "_model_module": "@jupyter-widgets/controls",
       "_model_module_version": "1.5.0",
       "_model_name": "HTMLModel",
       "_view_count": null,
       "_view_module": "@jupyter-widgets/controls",
       "_view_module_version": "1.5.0",
       "_view_name": "HTMLView",
       "description": "",
       "description_tooltip": null,
       "layout": "IPY_MODEL_3edd0bb5c6554bc4a86565030a150360",
       "placeholder": "​",
       "style": "IPY_MODEL_29499b4a18b04080a15ace29ffdbe552",
       "value": "Casting the dataset: 100%"
      }
     },
     "226ffef8dbf24faf8ae56862cad76eb5": {
      "model_module": "@jupyter-widgets/controls",
      "model_module_version": "1.5.0",
      "model_name": "HTMLModel",
      "state": {
       "_dom_classes": [],
       "_model_module": "@jupyter-widgets/controls",
       "_model_module_version": "1.5.0",
       "_model_name": "HTMLModel",
       "_view_count": null,
       "_view_module": "@jupyter-widgets/controls",
       "_view_module_version": "1.5.0",
       "_view_name": "HTMLView",
       "description": "",
       "description_tooltip": null,
       "layout": "IPY_MODEL_e23f12329e7c4d98adb8d755b6fe2772",
       "placeholder": "​",
       "style": "IPY_MODEL_f5fc83b520c5485a905d7368662685d1",
       "value": " 6/6 [00:00&lt;00:00, 33.26ba/s]"
      }
     },
     "266776712be245c7af24ba574b13382d": {
      "model_module": "@jupyter-widgets/controls",
      "model_module_version": "1.5.0",
      "model_name": "HBoxModel",
      "state": {
       "_dom_classes": [],
       "_model_module": "@jupyter-widgets/controls",
       "_model_module_version": "1.5.0",
       "_model_name": "HBoxModel",
       "_view_count": null,
       "_view_module": "@jupyter-widgets/controls",
       "_view_module_version": "1.5.0",
       "_view_name": "HBoxView",
       "box_style": "",
       "children": [
        "IPY_MODEL_66f0c8011c204cc18a819d27b82f66e3",
        "IPY_MODEL_467639041ac942ab94375bcb0aafe175",
        "IPY_MODEL_8b685273721b4c6ea70c6f9c4cf7c409"
       ],
       "layout": "IPY_MODEL_f77028743db84821806ef5293dab0bbb"
      }
     },
     "26b5b6470cd34743b490b3fb9f2446b6": {
      "model_module": "@jupyter-widgets/controls",
      "model_module_version": "1.5.0",
      "model_name": "FloatProgressModel",
      "state": {
       "_dom_classes": [],
       "_model_module": "@jupyter-widgets/controls",
       "_model_module_version": "1.5.0",
       "_model_name": "FloatProgressModel",
       "_view_count": null,
       "_view_module": "@jupyter-widgets/controls",
       "_view_module_version": "1.5.0",
       "_view_name": "ProgressView",
       "bar_style": "success",
       "description": "",
       "description_tooltip": null,
       "layout": "IPY_MODEL_d6cbc8f284294e189abeaefa98055ca2",
       "max": 52.0,
       "min": 0.0,
       "orientation": "horizontal",
       "style": "IPY_MODEL_726b4b70d37a44c5ad3a8d39175047d6",
       "value": 52.0
      }
     },
     "29499b4a18b04080a15ace29ffdbe552": {
      "model_module": "@jupyter-widgets/controls",
      "model_module_version": "1.5.0",
      "model_name": "DescriptionStyleModel",
      "state": {
       "_model_module": "@jupyter-widgets/controls",
       "_model_module_version": "1.5.0",
       "_model_name": "DescriptionStyleModel",
       "_view_count": null,
       "_view_module": "@jupyter-widgets/base",
       "_view_module_version": "1.2.0",
       "_view_name": "StyleView",
       "description_width": ""
      }
     },
     "297bf88f369343878681e7543b06864a": {
      "model_module": "@jupyter-widgets/controls",
      "model_module_version": "1.5.0",
      "model_name": "HTMLModel",
      "state": {
       "_dom_classes": [],
       "_model_module": "@jupyter-widgets/controls",
       "_model_module_version": "1.5.0",
       "_model_name": "HTMLModel",
       "_view_count": null,
       "_view_module": "@jupyter-widgets/controls",
       "_view_module_version": "1.5.0",
       "_view_name": "HTMLView",
       "description": "",
       "description_tooltip": null,
       "layout": "IPY_MODEL_6ac769074d7649e3ab017de3896e12a2",
       "placeholder": "​",
       "style": "IPY_MODEL_139854b699e14c32a9056f1ae16e3f55",
       "value": " 3.19k/? [00:00&lt;00:00, 116kB/s]"
      }
     },
     "2a9c7321e5f5428c85e7cc6e11bb9f97": {
      "model_module": "@jupyter-widgets/controls",
      "model_module_version": "1.5.0",
      "model_name": "HTMLModel",
      "state": {
       "_dom_classes": [],
       "_model_module": "@jupyter-widgets/controls",
       "_model_module_version": "1.5.0",
       "_model_name": "HTMLModel",
       "_view_count": null,
       "_view_module": "@jupyter-widgets/controls",
       "_view_module_version": "1.5.0",
       "_view_name": "HTMLView",
       "description": "",
       "description_tooltip": null,
       "layout": "IPY_MODEL_74a8512a57e74f3aaa689a7b41dc4391",
       "placeholder": "​",
       "style": "IPY_MODEL_efd3c88a80bb4386bb677484e38a5cec",
       "value": "Downloading: 100%"
      }
     },
     "2d8863204fa1496d931c57063c19f208": {
      "model_module": "@jupyter-widgets/controls",
      "model_module_version": "1.5.0",
      "model_name": "HBoxModel",
      "state": {
       "_dom_classes": [],
       "_model_module": "@jupyter-widgets/controls",
       "_model_module_version": "1.5.0",
       "_model_name": "HBoxModel",
       "_view_count": null,
       "_view_module": "@jupyter-widgets/controls",
       "_view_module_version": "1.5.0",
       "_view_name": "HBoxView",
       "box_style": "",
       "children": [
        "IPY_MODEL_f23e6484d9cc48d6b6f6dab397b7b9d3",
        "IPY_MODEL_fb92bf5a483d49bca7bca820194dcab8",
        "IPY_MODEL_c42c3dc7453c45bc93772e85c25a8542"
       ],
       "layout": "IPY_MODEL_7c4ed7d37a284984bae306585c7adb8f"
      }
     },
     "2da84b39b0dc49fb99654f1d463d8d06": {
      "model_module": "@jupyter-widgets/controls",
      "model_module_version": "1.5.0",
      "model_name": "HBoxModel",
      "state": {
       "_dom_classes": [],
       "_model_module": "@jupyter-widgets/controls",
       "_model_module_version": "1.5.0",
       "_model_name": "HBoxModel",
       "_view_count": null,
       "_view_module": "@jupyter-widgets/controls",
       "_view_module_version": "1.5.0",
       "_view_name": "HBoxView",
       "box_style": "",
       "children": [
        "IPY_MODEL_502a075576b64e2392baa9fec89d285c",
        "IPY_MODEL_0aa43f6ff1624255ae252fec18eeca4c",
        "IPY_MODEL_c29cef3d344c40ddb4e259e675bc9967"
       ],
       "layout": "IPY_MODEL_079b50465ef549b1a9eab8fadcc1606a"
      }
     },
     "3582548290d1499eb414486742cdadea": {
      "model_module": "@jupyter-widgets/controls",
      "model_module_version": "1.5.0",
      "model_name": "DescriptionStyleModel",
      "state": {
       "_model_module": "@jupyter-widgets/controls",
       "_model_module_version": "1.5.0",
       "_model_name": "DescriptionStyleModel",
       "_view_count": null,
       "_view_module": "@jupyter-widgets/base",
       "_view_module_version": "1.2.0",
       "_view_name": "StyleView",
       "description_width": ""
      }
     },
     "38f816a06fe34571b983daec29177785": {
      "model_module": "@jupyter-widgets/controls",
      "model_module_version": "1.5.0",
      "model_name": "ProgressStyleModel",
      "state": {
       "_model_module": "@jupyter-widgets/controls",
       "_model_module_version": "1.5.0",
       "_model_name": "ProgressStyleModel",
       "_view_count": null,
       "_view_module": "@jupyter-widgets/base",
       "_view_module_version": "1.2.0",
       "_view_name": "StyleView",
       "bar_color": null,
       "description_width": ""
      }
     },
     "3edd0bb5c6554bc4a86565030a150360": {
      "model_module": "@jupyter-widgets/base",
      "model_module_version": "1.2.0",
      "model_name": "LayoutModel",
      "state": {
       "_model_module": "@jupyter-widgets/base",
       "_model_module_version": "1.2.0",
       "_model_name": "LayoutModel",
       "_view_count": null,
       "_view_module": "@jupyter-widgets/base",
       "_view_module_version": "1.2.0",
       "_view_name": "LayoutView",
       "align_content": null,
       "align_items": null,
       "align_self": null,
       "border": null,
       "bottom": null,
       "display": null,
       "flex": null,
       "flex_flow": null,
       "grid_area": null,
       "grid_auto_columns": null,
       "grid_auto_flow": null,
       "grid_auto_rows": null,
       "grid_column": null,
       "grid_gap": null,
       "grid_row": null,
       "grid_template_areas": null,
       "grid_template_columns": null,
       "grid_template_rows": null,
       "height": null,
       "justify_content": null,
       "justify_items": null,
       "left": null,
       "margin": null,
       "max_height": null,
       "max_width": null,
       "min_height": null,
       "min_width": null,
       "object_fit": null,
       "object_position": null,
       "order": null,
       "overflow": null,
       "overflow_x": null,
       "overflow_y": null,
       "padding": null,
       "right": null,
       "top": null,
       "visibility": null,
       "width": null
      }
     },
     "3ee27d23f0d54d548816017f2a5eccc4": {
      "model_module": "@jupyter-widgets/controls",
      "model_module_version": "1.5.0",
      "model_name": "ProgressStyleModel",
      "state": {
       "_model_module": "@jupyter-widgets/controls",
       "_model_module_version": "1.5.0",
       "_model_name": "ProgressStyleModel",
       "_view_count": null,
       "_view_module": "@jupyter-widgets/base",
       "_view_module_version": "1.2.0",
       "_view_name": "StyleView",
       "bar_color": null,
       "description_width": ""
      }
     },
     "439fbf092a4744bb8f1d0130ee64c179": {
      "model_module": "@jupyter-widgets/controls",
      "model_module_version": "1.5.0",
      "model_name": "FloatProgressModel",
      "state": {
       "_dom_classes": [],
       "_model_module": "@jupyter-widgets/controls",
       "_model_module_version": "1.5.0",
       "_model_name": "FloatProgressModel",
       "_view_count": null,
       "_view_module": "@jupyter-widgets/controls",
       "_view_module_version": "1.5.0",
       "_view_name": "ProgressView",
       "bar_style": "success",
       "description": "",
       "description_tooltip": null,
       "layout": "IPY_MODEL_1b2c1fe754d143e6a5416e2c56a889d9",
       "max": 1411.0,
       "min": 0.0,
       "orientation": "horizontal",
       "style": "IPY_MODEL_fc3f174d97ca49f4983201ddba77ae56",
       "value": 1411.0
      }
     },
     "443f07391aa944a1b78008ed47e898f9": {
      "model_module": "@jupyter-widgets/base",
      "model_module_version": "1.2.0",
      "model_name": "LayoutModel",
      "state": {
       "_model_module": "@jupyter-widgets/base",
       "_model_module_version": "1.2.0",
       "_model_name": "LayoutModel",
       "_view_count": null,
       "_view_module": "@jupyter-widgets/base",
       "_view_module_version": "1.2.0",
       "_view_name": "LayoutView",
       "align_content": null,
       "align_items": null,
       "align_self": null,
       "border": null,
       "bottom": null,
       "display": null,
       "flex": null,
       "flex_flow": null,
       "grid_area": null,
       "grid_auto_columns": null,
       "grid_auto_flow": null,
       "grid_auto_rows": null,
       "grid_column": null,
       "grid_gap": null,
       "grid_row": null,
       "grid_template_areas": null,
       "grid_template_columns": null,
       "grid_template_rows": null,
       "height": null,
       "justify_content": null,
       "justify_items": null,
       "left": null,
       "margin": null,
       "max_height": null,
       "max_width": null,
       "min_height": null,
       "min_width": null,
       "object_fit": null,
       "object_position": null,
       "order": null,
       "overflow": null,
       "overflow_x": null,
       "overflow_y": null,
       "padding": null,
       "right": null,
       "top": null,
       "visibility": null,
       "width": null
      }
     },
     "454962e8deb14edfafd1b7af9ddb0de3": {
      "model_module": "@jupyter-widgets/controls",
      "model_module_version": "1.5.0",
      "model_name": "FloatProgressModel",
      "state": {
       "_dom_classes": [],
       "_model_module": "@jupyter-widgets/controls",
       "_model_module_version": "1.5.0",
       "_model_name": "FloatProgressModel",
       "_view_count": null,
       "_view_module": "@jupyter-widgets/controls",
       "_view_module_version": "1.5.0",
       "_view_name": "ProgressView",
       "bar_style": "",
       "description": "",
       "description_tooltip": null,
       "layout": "IPY_MODEL_1c18dcaf574c4363b87432ea672c8d9c",
       "max": 1.0,
       "min": 0.0,
       "orientation": "horizontal",
       "style": "IPY_MODEL_fab88ab460dd4d1caeb8cf1bc9b5a2f5",
       "value": 0.0
      }
     },
     "467639041ac942ab94375bcb0aafe175": {
      "model_module": "@jupyter-widgets/controls",
      "model_module_version": "1.5.0",
      "model_name": "FloatProgressModel",
      "state": {
       "_dom_classes": [],
       "_model_module": "@jupyter-widgets/controls",
       "_model_module_version": "1.5.0",
       "_model_name": "FloatProgressModel",
       "_view_count": null,
       "_view_module": "@jupyter-widgets/controls",
       "_view_module_version": "1.5.0",
       "_view_name": "ProgressView",
       "bar_style": "success",
       "description": "",
       "description_tooltip": null,
       "layout": "IPY_MODEL_c3a0121866a3425cb851f7e88c62ed58",
       "max": 1.0,
       "min": 0.0,
       "orientation": "horizontal",
       "style": "IPY_MODEL_38f816a06fe34571b983daec29177785",
       "value": 1.0
      }
     },
     "480972a7d7b948aa93d824cb11a2a459": {
      "model_module": "@jupyter-widgets/controls",
      "model_module_version": "1.5.0",
      "model_name": "DescriptionStyleModel",
      "state": {
       "_model_module": "@jupyter-widgets/controls",
       "_model_module_version": "1.5.0",
       "_model_name": "DescriptionStyleModel",
       "_view_count": null,
       "_view_module": "@jupyter-widgets/base",
       "_view_module_version": "1.2.0",
       "_view_name": "StyleView",
       "description_width": ""
      }
     },
     "4a3b85fab81a4537b7c4161be78b2a65": {
      "model_module": "@jupyter-widgets/controls",
      "model_module_version": "1.5.0",
      "model_name": "HTMLModel",
      "state": {
       "_dom_classes": [],
       "_model_module": "@jupyter-widgets/controls",
       "_model_module_version": "1.5.0",
       "_model_name": "HTMLModel",
       "_view_count": null,
       "_view_module": "@jupyter-widgets/controls",
       "_view_module_version": "1.5.0",
       "_view_name": "HTMLView",
       "description": "",
       "description_tooltip": null,
       "layout": "IPY_MODEL_af3e9627a22548679cf90144b91ab911",
       "placeholder": "​",
       "style": "IPY_MODEL_806bbfe803fa43afa0aa137ecc7b29a0",
       "value": " 52.0/52.0 [00:00&lt;00:00, 1.88kB/s]"
      }
     },
     "4f2d6efa68af421aa0afe226d090045b": {
      "model_module": "@jupyter-widgets/controls",
      "model_module_version": "1.5.0",
      "model_name": "ProgressStyleModel",
      "state": {
       "_model_module": "@jupyter-widgets/controls",
       "_model_module_version": "1.5.0",
       "_model_name": "ProgressStyleModel",
       "_view_count": null,
       "_view_module": "@jupyter-widgets/base",
       "_view_module_version": "1.2.0",
       "_view_name": "StyleView",
       "bar_color": null,
       "description_width": ""
      }
     },
     "4fb1e919d41f4a0ba34f47eb9d02b8d0": {
      "model_module": "@jupyter-widgets/base",
      "model_module_version": "1.2.0",
      "model_name": "LayoutModel",
      "state": {
       "_model_module": "@jupyter-widgets/base",
       "_model_module_version": "1.2.0",
       "_model_name": "LayoutModel",
       "_view_count": null,
       "_view_module": "@jupyter-widgets/base",
       "_view_module_version": "1.2.0",
       "_view_name": "LayoutView",
       "align_content": null,
       "align_items": null,
       "align_self": null,
       "border": null,
       "bottom": null,
       "display": null,
       "flex": null,
       "flex_flow": null,
       "grid_area": null,
       "grid_auto_columns": null,
       "grid_auto_flow": null,
       "grid_auto_rows": null,
       "grid_column": null,
       "grid_gap": null,
       "grid_row": null,
       "grid_template_areas": null,
       "grid_template_columns": null,
       "grid_template_rows": null,
       "height": null,
       "justify_content": null,
       "justify_items": null,
       "left": null,
       "margin": null,
       "max_height": null,
       "max_width": null,
       "min_height": null,
       "min_width": null,
       "object_fit": null,
       "object_position": null,
       "order": null,
       "overflow": null,
       "overflow_x": null,
       "overflow_y": null,
       "padding": null,
       "right": null,
       "top": null,
       "visibility": null,
       "width": null
      }
     },
     "502a075576b64e2392baa9fec89d285c": {
      "model_module": "@jupyter-widgets/controls",
      "model_module_version": "1.5.0",
      "model_name": "HTMLModel",
      "state": {
       "_dom_classes": [],
       "_model_module": "@jupyter-widgets/controls",
       "_model_module_version": "1.5.0",
       "_model_name": "HTMLModel",
       "_view_count": null,
       "_view_module": "@jupyter-widgets/controls",
       "_view_module_version": "1.5.0",
       "_view_name": "HTMLView",
       "description": "",
       "description_tooltip": null,
       "layout": "IPY_MODEL_8100a917f19246b1a50dcdc6cef02ddc",
       "placeholder": "​",
       "style": "IPY_MODEL_fd6b9ffed8ce4017a9ceb33c5a6f573a",
       "value": "Downloading: 100%"
      }
     },
     "50f570122676482e9161292b0c4bc7bc": {
      "model_module": "@jupyter-widgets/controls",
      "model_module_version": "1.5.0",
      "model_name": "DescriptionStyleModel",
      "state": {
       "_model_module": "@jupyter-widgets/controls",
       "_model_module_version": "1.5.0",
       "_model_name": "DescriptionStyleModel",
       "_view_count": null,
       "_view_module": "@jupyter-widgets/base",
       "_view_module_version": "1.2.0",
       "_view_name": "StyleView",
       "description_width": ""
      }
     },
     "53ab5e2f5e684ca78e0b26701ae58b74": {
      "model_module": "@jupyter-widgets/controls",
      "model_module_version": "1.5.0",
      "model_name": "ProgressStyleModel",
      "state": {
       "_model_module": "@jupyter-widgets/controls",
       "_model_module_version": "1.5.0",
       "_model_name": "ProgressStyleModel",
       "_view_count": null,
       "_view_module": "@jupyter-widgets/base",
       "_view_module_version": "1.2.0",
       "_view_name": "StyleView",
       "bar_color": null,
       "description_width": ""
      }
     },
     "53b80772db7b4a818012f996de614fb4": {
      "model_module": "@jupyter-widgets/controls",
      "model_module_version": "1.5.0",
      "model_name": "ProgressStyleModel",
      "state": {
       "_model_module": "@jupyter-widgets/controls",
       "_model_module_version": "1.5.0",
       "_model_name": "ProgressStyleModel",
       "_view_count": null,
       "_view_module": "@jupyter-widgets/base",
       "_view_module_version": "1.2.0",
       "_view_name": "StyleView",
       "bar_color": null,
       "description_width": ""
      }
     },
     "546265e085184c58999c60cc06218142": {
      "model_module": "@jupyter-widgets/controls",
      "model_module_version": "1.5.0",
      "model_name": "ProgressStyleModel",
      "state": {
       "_model_module": "@jupyter-widgets/controls",
       "_model_module_version": "1.5.0",
       "_model_name": "ProgressStyleModel",
       "_view_count": null,
       "_view_module": "@jupyter-widgets/base",
       "_view_module_version": "1.2.0",
       "_view_name": "StyleView",
       "bar_color": null,
       "description_width": ""
      }
     },
     "574acb51644043778bebdbe9d2a72876": {
      "model_module": "@jupyter-widgets/base",
      "model_module_version": "1.2.0",
      "model_name": "LayoutModel",
      "state": {
       "_model_module": "@jupyter-widgets/base",
       "_model_module_version": "1.2.0",
       "_model_name": "LayoutModel",
       "_view_count": null,
       "_view_module": "@jupyter-widgets/base",
       "_view_module_version": "1.2.0",
       "_view_name": "LayoutView",
       "align_content": null,
       "align_items": null,
       "align_self": null,
       "border": null,
       "bottom": null,
       "display": null,
       "flex": null,
       "flex_flow": null,
       "grid_area": null,
       "grid_auto_columns": null,
       "grid_auto_flow": null,
       "grid_auto_rows": null,
       "grid_column": null,
       "grid_gap": null,
       "grid_row": null,
       "grid_template_areas": null,
       "grid_template_columns": null,
       "grid_template_rows": null,
       "height": null,
       "justify_content": null,
       "justify_items": null,
       "left": null,
       "margin": null,
       "max_height": null,
       "max_width": null,
       "min_height": null,
       "min_width": null,
       "object_fit": null,
       "object_position": null,
       "order": null,
       "overflow": null,
       "overflow_x": null,
       "overflow_y": null,
       "padding": null,
       "right": null,
       "top": null,
       "visibility": null,
       "width": null
      }
     },
     "575467d833524e49ab983f7d098213e2": {
      "model_module": "@jupyter-widgets/controls",
      "model_module_version": "1.5.0",
      "model_name": "HTMLModel",
      "state": {
       "_dom_classes": [],
       "_model_module": "@jupyter-widgets/controls",
       "_model_module_version": "1.5.0",
       "_model_name": "HTMLModel",
       "_view_count": null,
       "_view_module": "@jupyter-widgets/controls",
       "_view_module_version": "1.5.0",
       "_view_name": "HTMLView",
       "description": "",
       "description_tooltip": null,
       "layout": "IPY_MODEL_6c872a26743740c9ae63465b217e6590",
       "placeholder": "​",
       "style": "IPY_MODEL_91f52f30eea247f18d590b6f68b05907",
       "value": " 1.52G/1.52G [01:41&lt;00:00, 16.6MB/s]"
      }
     },
     "57671c7abe81425199d18fb589001f73": {
      "model_module": "@jupyter-widgets/controls",
      "model_module_version": "1.5.0",
      "model_name": "LabelModel",
      "state": {
       "_dom_classes": [],
       "_model_module": "@jupyter-widgets/controls",
       "_model_module_version": "1.5.0",
       "_model_name": "LabelModel",
       "_view_count": null,
       "_view_module": "@jupyter-widgets/controls",
       "_view_module_version": "1.5.0",
       "_view_name": "LabelView",
       "description": "",
       "description_tooltip": null,
       "layout": "IPY_MODEL_8edd8e8d33514472b12082f3e879c20e",
       "placeholder": "​",
       "style": "IPY_MODEL_1bd0862b2c71433887e011d4b1707258",
       "value": ""
      }
     },
     "5e0f7ae600504f6ca14ae8d0d5a3fc46": {
      "model_module": "@jupyter-widgets/base",
      "model_module_version": "1.2.0",
      "model_name": "LayoutModel",
      "state": {
       "_model_module": "@jupyter-widgets/base",
       "_model_module_version": "1.2.0",
       "_model_name": "LayoutModel",
       "_view_count": null,
       "_view_module": "@jupyter-widgets/base",
       "_view_module_version": "1.2.0",
       "_view_name": "LayoutView",
       "align_content": null,
       "align_items": null,
       "align_self": null,
       "border": null,
       "bottom": null,
       "display": null,
       "flex": null,
       "flex_flow": null,
       "grid_area": null,
       "grid_auto_columns": null,
       "grid_auto_flow": null,
       "grid_auto_rows": null,
       "grid_column": null,
       "grid_gap": null,
       "grid_row": null,
       "grid_template_areas": null,
       "grid_template_columns": null,
       "grid_template_rows": null,
       "height": null,
       "justify_content": null,
       "justify_items": null,
       "left": null,
       "margin": null,
       "max_height": null,
       "max_width": null,
       "min_height": null,
       "min_width": null,
       "object_fit": null,
       "object_position": null,
       "order": null,
       "overflow": null,
       "overflow_x": null,
       "overflow_y": null,
       "padding": null,
       "right": null,
       "top": null,
       "visibility": null,
       "width": null
      }
     },
     "5f0ffe7f1d154b518cc5ad65396c942f": {
      "model_module": "@jupyter-widgets/controls",
      "model_module_version": "1.5.0",
      "model_name": "HBoxModel",
      "state": {
       "_dom_classes": [],
       "_model_module": "@jupyter-widgets/controls",
       "_model_module_version": "1.5.0",
       "_model_name": "HBoxModel",
       "_view_count": null,
       "_view_module": "@jupyter-widgets/controls",
       "_view_module_version": "1.5.0",
       "_view_name": "HBoxView",
       "box_style": "",
       "children": [
        "IPY_MODEL_214a1e930ec34c4f9560f137ff614ffa",
        "IPY_MODEL_863d9baf126541a4abc8af2969d11581",
        "IPY_MODEL_226ffef8dbf24faf8ae56862cad76eb5"
       ],
       "layout": "IPY_MODEL_4fb1e919d41f4a0ba34f47eb9d02b8d0"
      }
     },
     "61cbd3cb25b54557b8d3057e4d7b4146": {
      "model_module": "@jupyter-widgets/controls",
      "model_module_version": "1.5.0",
      "model_name": "HBoxModel",
      "state": {
       "_dom_classes": [],
       "_model_module": "@jupyter-widgets/controls",
       "_model_module_version": "1.5.0",
       "_model_name": "HBoxModel",
       "_view_count": null,
       "_view_module": "@jupyter-widgets/controls",
       "_view_module_version": "1.5.0",
       "_view_name": "HBoxView",
       "box_style": "",
       "children": [
        "IPY_MODEL_0edbdfb244e247ada953bf772348fc77",
        "IPY_MODEL_26b5b6470cd34743b490b3fb9f2446b6",
        "IPY_MODEL_4a3b85fab81a4537b7c4161be78b2a65"
       ],
       "layout": "IPY_MODEL_87992993f7fb40d8a16904c530bf5b71"
      }
     },
     "6616534ed3f741dfb3079214820c25b9": {
      "model_module": "@jupyter-widgets/controls",
      "model_module_version": "1.5.0",
      "model_name": "HTMLModel",
      "state": {
       "_dom_classes": [],
       "_model_module": "@jupyter-widgets/controls",
       "_model_module_version": "1.5.0",
       "_model_name": "HTMLModel",
       "_view_count": null,
       "_view_module": "@jupyter-widgets/controls",
       "_view_module_version": "1.5.0",
       "_view_name": "HTMLView",
       "description": "",
       "description_tooltip": null,
       "layout": "IPY_MODEL_152cbdafd12c4ee0b258c9bd25994142",
       "placeholder": "​",
       "style": "IPY_MODEL_ea05597da45a459991a97607990d5744",
       "value": "100%"
      }
     },
     "66f0c8011c204cc18a819d27b82f66e3": {
      "model_module": "@jupyter-widgets/controls",
      "model_module_version": "1.5.0",
      "model_name": "HTMLModel",
      "state": {
       "_dom_classes": [],
       "_model_module": "@jupyter-widgets/controls",
       "_model_module_version": "1.5.0",
       "_model_name": "HTMLModel",
       "_view_count": null,
       "_view_module": "@jupyter-widgets/controls",
       "_view_module_version": "1.5.0",
       "_view_name": "HTMLView",
       "description": "",
       "description_tooltip": null,
       "layout": "IPY_MODEL_a9fc47caf0f14dc58ffa419f66eabffa",
       "placeholder": "​",
       "style": "IPY_MODEL_50f570122676482e9161292b0c4bc7bc",
       "value": "Casting the dataset: 100%"
      }
     },
     "67258612cb0943d8bf9f3c93ededcb46": {
      "model_module": "@jupyter-widgets/controls",
      "model_module_version": "1.5.0",
      "model_name": "DescriptionStyleModel",
      "state": {
       "_model_module": "@jupyter-widgets/controls",
       "_model_module_version": "1.5.0",
       "_model_name": "DescriptionStyleModel",
       "_view_count": null,
       "_view_module": "@jupyter-widgets/base",
       "_view_module_version": "1.2.0",
       "_view_name": "StyleView",
       "description_width": ""
      }
     },
     "6ac769074d7649e3ab017de3896e12a2": {
      "model_module": "@jupyter-widgets/base",
      "model_module_version": "1.2.0",
      "model_name": "LayoutModel",
      "state": {
       "_model_module": "@jupyter-widgets/base",
       "_model_module_version": "1.2.0",
       "_model_name": "LayoutModel",
       "_view_count": null,
       "_view_module": "@jupyter-widgets/base",
       "_view_module_version": "1.2.0",
       "_view_name": "LayoutView",
       "align_content": null,
       "align_items": null,
       "align_self": null,
       "border": null,
       "bottom": null,
       "display": null,
       "flex": null,
       "flex_flow": null,
       "grid_area": null,
       "grid_auto_columns": null,
       "grid_auto_flow": null,
       "grid_auto_rows": null,
       "grid_column": null,
       "grid_gap": null,
       "grid_row": null,
       "grid_template_areas": null,
       "grid_template_columns": null,
       "grid_template_rows": null,
       "height": null,
       "justify_content": null,
       "justify_items": null,
       "left": null,
       "margin": null,
       "max_height": null,
       "max_width": null,
       "min_height": null,
       "min_width": null,
       "object_fit": null,
       "object_position": null,
       "order": null,
       "overflow": null,
       "overflow_x": null,
       "overflow_y": null,
       "padding": null,
       "right": null,
       "top": null,
       "visibility": null,
       "width": null
      }
     },
     "6c872a26743740c9ae63465b217e6590": {
      "model_module": "@jupyter-widgets/base",
      "model_module_version": "1.2.0",
      "model_name": "LayoutModel",
      "state": {
       "_model_module": "@jupyter-widgets/base",
       "_model_module_version": "1.2.0",
       "_model_name": "LayoutModel",
       "_view_count": null,
       "_view_module": "@jupyter-widgets/base",
       "_view_module_version": "1.2.0",
       "_view_name": "LayoutView",
       "align_content": null,
       "align_items": null,
       "align_self": null,
       "border": null,
       "bottom": null,
       "display": null,
       "flex": null,
       "flex_flow": null,
       "grid_area": null,
       "grid_auto_columns": null,
       "grid_auto_flow": null,
       "grid_auto_rows": null,
       "grid_column": null,
       "grid_gap": null,
       "grid_row": null,
       "grid_template_areas": null,
       "grid_template_columns": null,
       "grid_template_rows": null,
       "height": null,
       "justify_content": null,
       "justify_items": null,
       "left": null,
       "margin": null,
       "max_height": null,
       "max_width": null,
       "min_height": null,
       "min_width": null,
       "object_fit": null,
       "object_position": null,
       "order": null,
       "overflow": null,
       "overflow_x": null,
       "overflow_y": null,
       "padding": null,
       "right": null,
       "top": null,
       "visibility": null,
       "width": null
      }
     },
     "6f30f51303004f11b57406c24955e4ab": {
      "model_module": "@jupyter-widgets/controls",
      "model_module_version": "1.5.0",
      "model_name": "HBoxModel",
      "state": {
       "_dom_classes": [],
       "_model_module": "@jupyter-widgets/controls",
       "_model_module_version": "1.5.0",
       "_model_name": "HBoxModel",
       "_view_count": null,
       "_view_module": "@jupyter-widgets/controls",
       "_view_module_version": "1.5.0",
       "_view_name": "HBoxView",
       "box_style": "",
       "children": [
        "IPY_MODEL_ba0e38b0645749ce8ac6cc13834c1818",
        "IPY_MODEL_d02916d3312e498cb793246c04d4c42d",
        "IPY_MODEL_efe1c960a1224a6b9b3c299904a9fcfb"
       ],
       "layout": "IPY_MODEL_17d4ab4faa1648f5950c23ba0debb1f1"
      }
     },
     "726b4b70d37a44c5ad3a8d39175047d6": {
      "model_module": "@jupyter-widgets/controls",
      "model_module_version": "1.5.0",
      "model_name": "ProgressStyleModel",
      "state": {
       "_model_module": "@jupyter-widgets/controls",
       "_model_module_version": "1.5.0",
       "_model_name": "ProgressStyleModel",
       "_view_count": null,
       "_view_module": "@jupyter-widgets/base",
       "_view_module_version": "1.2.0",
       "_view_name": "StyleView",
       "bar_color": null,
       "description_width": ""
      }
     },
     "74a8512a57e74f3aaa689a7b41dc4391": {
      "model_module": "@jupyter-widgets/base",
      "model_module_version": "1.2.0",
      "model_name": "LayoutModel",
      "state": {
       "_model_module": "@jupyter-widgets/base",
       "_model_module_version": "1.2.0",
       "_model_name": "LayoutModel",
       "_view_count": null,
       "_view_module": "@jupyter-widgets/base",
       "_view_module_version": "1.2.0",
       "_view_name": "LayoutView",
       "align_content": null,
       "align_items": null,
       "align_self": null,
       "border": null,
       "bottom": null,
       "display": null,
       "flex": null,
       "flex_flow": null,
       "grid_area": null,
       "grid_auto_columns": null,
       "grid_auto_flow": null,
       "grid_auto_rows": null,
       "grid_column": null,
       "grid_gap": null,
       "grid_row": null,
       "grid_template_areas": null,
       "grid_template_columns": null,
       "grid_template_rows": null,
       "height": null,
       "justify_content": null,
       "justify_items": null,
       "left": null,
       "margin": null,
       "max_height": null,
       "max_width": null,
       "min_height": null,
       "min_width": null,
       "object_fit": null,
       "object_position": null,
       "order": null,
       "overflow": null,
       "overflow_x": null,
       "overflow_y": null,
       "padding": null,
       "right": null,
       "top": null,
       "visibility": null,
       "width": null
      }
     },
     "7ab5c38c3b3348e4aa2e193a1ea74a61": {
      "model_module": "@jupyter-widgets/controls",
      "model_module_version": "1.5.0",
      "model_name": "DescriptionStyleModel",
      "state": {
       "_model_module": "@jupyter-widgets/controls",
       "_model_module_version": "1.5.0",
       "_model_name": "DescriptionStyleModel",
       "_view_count": null,
       "_view_module": "@jupyter-widgets/base",
       "_view_module_version": "1.2.0",
       "_view_name": "StyleView",
       "description_width": ""
      }
     },
     "7c4ed7d37a284984bae306585c7adb8f": {
      "model_module": "@jupyter-widgets/base",
      "model_module_version": "1.2.0",
      "model_name": "LayoutModel",
      "state": {
       "_model_module": "@jupyter-widgets/base",
       "_model_module_version": "1.2.0",
       "_model_name": "LayoutModel",
       "_view_count": null,
       "_view_module": "@jupyter-widgets/base",
       "_view_module_version": "1.2.0",
       "_view_name": "LayoutView",
       "align_content": null,
       "align_items": null,
       "align_self": null,
       "border": null,
       "bottom": null,
       "display": null,
       "flex": null,
       "flex_flow": null,
       "grid_area": null,
       "grid_auto_columns": null,
       "grid_auto_flow": null,
       "grid_auto_rows": null,
       "grid_column": null,
       "grid_gap": null,
       "grid_row": null,
       "grid_template_areas": null,
       "grid_template_columns": null,
       "grid_template_rows": null,
       "height": null,
       "justify_content": null,
       "justify_items": null,
       "left": null,
       "margin": null,
       "max_height": null,
       "max_width": null,
       "min_height": null,
       "min_width": null,
       "object_fit": null,
       "object_position": null,
       "order": null,
       "overflow": null,
       "overflow_x": null,
       "overflow_y": null,
       "padding": null,
       "right": null,
       "top": null,
       "visibility": null,
       "width": null
      }
     },
     "806bbfe803fa43afa0aa137ecc7b29a0": {
      "model_module": "@jupyter-widgets/controls",
      "model_module_version": "1.5.0",
      "model_name": "DescriptionStyleModel",
      "state": {
       "_model_module": "@jupyter-widgets/controls",
       "_model_module_version": "1.5.0",
       "_model_name": "DescriptionStyleModel",
       "_view_count": null,
       "_view_module": "@jupyter-widgets/base",
       "_view_module_version": "1.2.0",
       "_view_name": "StyleView",
       "description_width": ""
      }
     },
     "80fbcfffc53f4e9e9b3f7243dcfdf1e7": {
      "model_module": "@jupyter-widgets/base",
      "model_module_version": "1.2.0",
      "model_name": "LayoutModel",
      "state": {
       "_model_module": "@jupyter-widgets/base",
       "_model_module_version": "1.2.0",
       "_model_name": "LayoutModel",
       "_view_count": null,
       "_view_module": "@jupyter-widgets/base",
       "_view_module_version": "1.2.0",
       "_view_name": "LayoutView",
       "align_content": null,
       "align_items": null,
       "align_self": null,
       "border": null,
       "bottom": null,
       "display": null,
       "flex": null,
       "flex_flow": null,
       "grid_area": null,
       "grid_auto_columns": null,
       "grid_auto_flow": null,
       "grid_auto_rows": null,
       "grid_column": null,
       "grid_gap": null,
       "grid_row": null,
       "grid_template_areas": null,
       "grid_template_columns": null,
       "grid_template_rows": null,
       "height": null,
       "justify_content": null,
       "justify_items": null,
       "left": null,
       "margin": null,
       "max_height": null,
       "max_width": null,
       "min_height": null,
       "min_width": null,
       "object_fit": null,
       "object_position": null,
       "order": null,
       "overflow": null,
       "overflow_x": null,
       "overflow_y": null,
       "padding": null,
       "right": null,
       "top": null,
       "visibility": null,
       "width": null
      }
     },
     "8100a917f19246b1a50dcdc6cef02ddc": {
      "model_module": "@jupyter-widgets/base",
      "model_module_version": "1.2.0",
      "model_name": "LayoutModel",
      "state": {
       "_model_module": "@jupyter-widgets/base",
       "_model_module_version": "1.2.0",
       "_model_name": "LayoutModel",
       "_view_count": null,
       "_view_module": "@jupyter-widgets/base",
       "_view_module_version": "1.2.0",
       "_view_name": "LayoutView",
       "align_content": null,
       "align_items": null,
       "align_self": null,
       "border": null,
       "bottom": null,
       "display": null,
       "flex": null,
       "flex_flow": null,
       "grid_area": null,
       "grid_auto_columns": null,
       "grid_auto_flow": null,
       "grid_auto_rows": null,
       "grid_column": null,
       "grid_gap": null,
       "grid_row": null,
       "grid_template_areas": null,
       "grid_template_columns": null,
       "grid_template_rows": null,
       "height": null,
       "justify_content": null,
       "justify_items": null,
       "left": null,
       "margin": null,
       "max_height": null,
       "max_width": null,
       "min_height": null,
       "min_width": null,
       "object_fit": null,
       "object_position": null,
       "order": null,
       "overflow": null,
       "overflow_x": null,
       "overflow_y": null,
       "padding": null,
       "right": null,
       "top": null,
       "visibility": null,
       "width": null
      }
     },
     "8261112d1d2e405fb642e91521640f6d": {
      "model_module": "@jupyter-widgets/base",
      "model_module_version": "1.2.0",
      "model_name": "LayoutModel",
      "state": {
       "_model_module": "@jupyter-widgets/base",
       "_model_module_version": "1.2.0",
       "_model_name": "LayoutModel",
       "_view_count": null,
       "_view_module": "@jupyter-widgets/base",
       "_view_module_version": "1.2.0",
       "_view_name": "LayoutView",
       "align_content": null,
       "align_items": null,
       "align_self": null,
       "border": null,
       "bottom": null,
       "display": null,
       "flex": null,
       "flex_flow": null,
       "grid_area": null,
       "grid_auto_columns": null,
       "grid_auto_flow": null,
       "grid_auto_rows": null,
       "grid_column": null,
       "grid_gap": null,
       "grid_row": null,
       "grid_template_areas": null,
       "grid_template_columns": null,
       "grid_template_rows": null,
       "height": null,
       "justify_content": null,
       "justify_items": null,
       "left": null,
       "margin": null,
       "max_height": null,
       "max_width": null,
       "min_height": null,
       "min_width": null,
       "object_fit": null,
       "object_position": null,
       "order": null,
       "overflow": null,
       "overflow_x": null,
       "overflow_y": null,
       "padding": null,
       "right": null,
       "top": null,
       "visibility": null,
       "width": null
      }
     },
     "863d9baf126541a4abc8af2969d11581": {
      "model_module": "@jupyter-widgets/controls",
      "model_module_version": "1.5.0",
      "model_name": "FloatProgressModel",
      "state": {
       "_dom_classes": [],
       "_model_module": "@jupyter-widgets/controls",
       "_model_module_version": "1.5.0",
       "_model_name": "FloatProgressModel",
       "_view_count": null,
       "_view_module": "@jupyter-widgets/controls",
       "_view_module_version": "1.5.0",
       "_view_name": "ProgressView",
       "bar_style": "success",
       "description": "",
       "description_tooltip": null,
       "layout": "IPY_MODEL_80fbcfffc53f4e9e9b3f7243dcfdf1e7",
       "max": 6.0,
       "min": 0.0,
       "orientation": "horizontal",
       "style": "IPY_MODEL_53ab5e2f5e684ca78e0b26701ae58b74",
       "value": 6.0
      }
     },
     "8729addd39ff40a7bada2c446abc66e6": {
      "model_module": "@jupyter-widgets/controls",
      "model_module_version": "1.5.0",
      "model_name": "ProgressStyleModel",
      "state": {
       "_model_module": "@jupyter-widgets/controls",
       "_model_module_version": "1.5.0",
       "_model_name": "ProgressStyleModel",
       "_view_count": null,
       "_view_module": "@jupyter-widgets/base",
       "_view_module_version": "1.2.0",
       "_view_name": "StyleView",
       "bar_color": null,
       "description_width": ""
      }
     },
     "87992993f7fb40d8a16904c530bf5b71": {
      "model_module": "@jupyter-widgets/base",
      "model_module_version": "1.2.0",
      "model_name": "LayoutModel",
      "state": {
       "_model_module": "@jupyter-widgets/base",
       "_model_module_version": "1.2.0",
       "_model_name": "LayoutModel",
       "_view_count": null,
       "_view_module": "@jupyter-widgets/base",
       "_view_module_version": "1.2.0",
       "_view_name": "LayoutView",
       "align_content": null,
       "align_items": null,
       "align_self": null,
       "border": null,
       "bottom": null,
       "display": null,
       "flex": null,
       "flex_flow": null,
       "grid_area": null,
       "grid_auto_columns": null,
       "grid_auto_flow": null,
       "grid_auto_rows": null,
       "grid_column": null,
       "grid_gap": null,
       "grid_row": null,
       "grid_template_areas": null,
       "grid_template_columns": null,
       "grid_template_rows": null,
       "height": null,
       "justify_content": null,
       "justify_items": null,
       "left": null,
       "margin": null,
       "max_height": null,
       "max_width": null,
       "min_height": null,
       "min_width": null,
       "object_fit": null,
       "object_position": null,
       "order": null,
       "overflow": null,
       "overflow_x": null,
       "overflow_y": null,
       "padding": null,
       "right": null,
       "top": null,
       "visibility": null,
       "width": null
      }
     },
     "88819b640b804313ac180216144da577": {
      "model_module": "@jupyter-widgets/controls",
      "model_module_version": "1.5.0",
      "model_name": "FloatProgressModel",
      "state": {
       "_dom_classes": [],
       "_model_module": "@jupyter-widgets/controls",
       "_model_module_version": "1.5.0",
       "_model_name": "FloatProgressModel",
       "_view_count": null,
       "_view_module": "@jupyter-widgets/controls",
       "_view_module_version": "1.5.0",
       "_view_name": "ProgressView",
       "bar_style": "success",
       "description": "",
       "description_tooltip": null,
       "layout": "IPY_MODEL_d260a80f570c4b0faa032f54c7992c56",
       "max": 58.0,
       "min": 0.0,
       "orientation": "horizontal",
       "style": "IPY_MODEL_546265e085184c58999c60cc06218142",
       "value": 58.0
      }
     },
     "8b685273721b4c6ea70c6f9c4cf7c409": {
      "model_module": "@jupyter-widgets/controls",
      "model_module_version": "1.5.0",
      "model_name": "HTMLModel",
      "state": {
       "_dom_classes": [],
       "_model_module": "@jupyter-widgets/controls",
       "_model_module_version": "1.5.0",
       "_model_name": "HTMLModel",
       "_view_count": null,
       "_view_module": "@jupyter-widgets/controls",
       "_view_module_version": "1.5.0",
       "_view_name": "HTMLView",
       "description": "",
       "description_tooltip": null,
       "layout": "IPY_MODEL_9207d58192504b42949565b0c72cb844",
       "placeholder": "​",
       "style": "IPY_MODEL_9099fc1554004bc4a9ef28d9dccb7d76",
       "value": " 1/1 [00:00&lt;00:00, 22.15ba/s]"
      }
     },
     "8bd4a6742e1a4c61b99b3583dc494229": {
      "model_module": "@jupyter-widgets/base",
      "model_module_version": "1.2.0",
      "model_name": "LayoutModel",
      "state": {
       "_model_module": "@jupyter-widgets/base",
       "_model_module_version": "1.2.0",
       "_model_name": "LayoutModel",
       "_view_count": null,
       "_view_module": "@jupyter-widgets/base",
       "_view_module_version": "1.2.0",
       "_view_name": "LayoutView",
       "align_content": null,
       "align_items": null,
       "align_self": null,
       "border": null,
       "bottom": null,
       "display": null,
       "flex": null,
       "flex_flow": null,
       "grid_area": null,
       "grid_auto_columns": null,
       "grid_auto_flow": null,
       "grid_auto_rows": null,
       "grid_column": null,
       "grid_gap": null,
       "grid_row": null,
       "grid_template_areas": null,
       "grid_template_columns": null,
       "grid_template_rows": null,
       "height": null,
       "justify_content": null,
       "justify_items": null,
       "left": null,
       "margin": null,
       "max_height": null,
       "max_width": null,
       "min_height": null,
       "min_width": null,
       "object_fit": null,
       "object_position": null,
       "order": null,
       "overflow": null,
       "overflow_x": null,
       "overflow_y": null,
       "padding": null,
       "right": null,
       "top": null,
       "visibility": null,
       "width": null
      }
     },
     "8c3870739ee7416d8115504301f6c929": {
      "model_module": "@jupyter-widgets/controls",
      "model_module_version": "1.5.0",
      "model_name": "FloatProgressModel",
      "state": {
       "_dom_classes": [],
       "_model_module": "@jupyter-widgets/controls",
       "_model_module_version": "1.5.0",
       "_model_name": "FloatProgressModel",
       "_view_count": null,
       "_view_module": "@jupyter-widgets/controls",
       "_view_module_version": "1.5.0",
       "_view_name": "ProgressView",
       "bar_style": "success",
       "description": "",
       "description_tooltip": null,
       "layout": "IPY_MODEL_1d533fddde394fcb9b60b1b9a4c5a0db",
       "max": 8.0,
       "min": 0.0,
       "orientation": "horizontal",
       "style": "IPY_MODEL_3ee27d23f0d54d548816017f2a5eccc4",
       "value": 8.0
      }
     },
     "8cdcca2318cf403e92d5f2f385be4268": {
      "model_module": "@jupyter-widgets/base",
      "model_module_version": "1.2.0",
      "model_name": "LayoutModel",
      "state": {
       "_model_module": "@jupyter-widgets/base",
       "_model_module_version": "1.2.0",
       "_model_name": "LayoutModel",
       "_view_count": null,
       "_view_module": "@jupyter-widgets/base",
       "_view_module_version": "1.2.0",
       "_view_name": "LayoutView",
       "align_content": null,
       "align_items": null,
       "align_self": null,
       "border": null,
       "bottom": null,
       "display": null,
       "flex": null,
       "flex_flow": null,
       "grid_area": null,
       "grid_auto_columns": null,
       "grid_auto_flow": null,
       "grid_auto_rows": null,
       "grid_column": null,
       "grid_gap": null,
       "grid_row": null,
       "grid_template_areas": null,
       "grid_template_columns": null,
       "grid_template_rows": null,
       "height": null,
       "justify_content": null,
       "justify_items": null,
       "left": null,
       "margin": null,
       "max_height": null,
       "max_width": null,
       "min_height": null,
       "min_width": null,
       "object_fit": null,
       "object_position": null,
       "order": null,
       "overflow": null,
       "overflow_x": null,
       "overflow_y": null,
       "padding": null,
       "right": null,
       "top": null,
       "visibility": null,
       "width": null
      }
     },
     "8edd8e8d33514472b12082f3e879c20e": {
      "model_module": "@jupyter-widgets/base",
      "model_module_version": "1.2.0",
      "model_name": "LayoutModel",
      "state": {
       "_model_module": "@jupyter-widgets/base",
       "_model_module_version": "1.2.0",
       "_model_name": "LayoutModel",
       "_view_count": null,
       "_view_module": "@jupyter-widgets/base",
       "_view_module_version": "1.2.0",
       "_view_name": "LayoutView",
       "align_content": null,
       "align_items": null,
       "align_self": null,
       "border": null,
       "bottom": null,
       "display": null,
       "flex": null,
       "flex_flow": null,
       "grid_area": null,
       "grid_auto_columns": null,
       "grid_auto_flow": null,
       "grid_auto_rows": null,
       "grid_column": null,
       "grid_gap": null,
       "grid_row": null,
       "grid_template_areas": null,
       "grid_template_columns": null,
       "grid_template_rows": null,
       "height": null,
       "justify_content": null,
       "justify_items": null,
       "left": null,
       "margin": null,
       "max_height": null,
       "max_width": null,
       "min_height": null,
       "min_width": null,
       "object_fit": null,
       "object_position": null,
       "order": null,
       "overflow": null,
       "overflow_x": null,
       "overflow_y": null,
       "padding": null,
       "right": null,
       "top": null,
       "visibility": null,
       "width": null
      }
     },
     "8eeb652084964ff7b3159e7c773edff9": {
      "model_module": "@jupyter-widgets/base",
      "model_module_version": "1.2.0",
      "model_name": "LayoutModel",
      "state": {
       "_model_module": "@jupyter-widgets/base",
       "_model_module_version": "1.2.0",
       "_model_name": "LayoutModel",
       "_view_count": null,
       "_view_module": "@jupyter-widgets/base",
       "_view_module_version": "1.2.0",
       "_view_name": "LayoutView",
       "align_content": null,
       "align_items": null,
       "align_self": null,
       "border": null,
       "bottom": null,
       "display": null,
       "flex": null,
       "flex_flow": null,
       "grid_area": null,
       "grid_auto_columns": null,
       "grid_auto_flow": null,
       "grid_auto_rows": null,
       "grid_column": null,
       "grid_gap": null,
       "grid_row": null,
       "grid_template_areas": null,
       "grid_template_columns": null,
       "grid_template_rows": null,
       "height": null,
       "justify_content": null,
       "justify_items": null,
       "left": null,
       "margin": null,
       "max_height": null,
       "max_width": null,
       "min_height": null,
       "min_width": null,
       "object_fit": null,
       "object_position": null,
       "order": null,
       "overflow": null,
       "overflow_x": null,
       "overflow_y": null,
       "padding": null,
       "right": null,
       "top": null,
       "visibility": null,
       "width": null
      }
     },
     "9099fc1554004bc4a9ef28d9dccb7d76": {
      "model_module": "@jupyter-widgets/controls",
      "model_module_version": "1.5.0",
      "model_name": "DescriptionStyleModel",
      "state": {
       "_model_module": "@jupyter-widgets/controls",
       "_model_module_version": "1.5.0",
       "_model_name": "DescriptionStyleModel",
       "_view_count": null,
       "_view_module": "@jupyter-widgets/base",
       "_view_module_version": "1.2.0",
       "_view_name": "StyleView",
       "description_width": ""
      }
     },
     "91f52f30eea247f18d590b6f68b05907": {
      "model_module": "@jupyter-widgets/controls",
      "model_module_version": "1.5.0",
      "model_name": "DescriptionStyleModel",
      "state": {
       "_model_module": "@jupyter-widgets/controls",
       "_model_module_version": "1.5.0",
       "_model_name": "DescriptionStyleModel",
       "_view_count": null,
       "_view_module": "@jupyter-widgets/base",
       "_view_module_version": "1.2.0",
       "_view_name": "StyleView",
       "description_width": ""
      }
     },
     "9207d58192504b42949565b0c72cb844": {
      "model_module": "@jupyter-widgets/base",
      "model_module_version": "1.2.0",
      "model_name": "LayoutModel",
      "state": {
       "_model_module": "@jupyter-widgets/base",
       "_model_module_version": "1.2.0",
       "_model_name": "LayoutModel",
       "_view_count": null,
       "_view_module": "@jupyter-widgets/base",
       "_view_module_version": "1.2.0",
       "_view_name": "LayoutView",
       "align_content": null,
       "align_items": null,
       "align_self": null,
       "border": null,
       "bottom": null,
       "display": null,
       "flex": null,
       "flex_flow": null,
       "grid_area": null,
       "grid_auto_columns": null,
       "grid_auto_flow": null,
       "grid_auto_rows": null,
       "grid_column": null,
       "grid_gap": null,
       "grid_row": null,
       "grid_template_areas": null,
       "grid_template_columns": null,
       "grid_template_rows": null,
       "height": null,
       "justify_content": null,
       "justify_items": null,
       "left": null,
       "margin": null,
       "max_height": null,
       "max_width": null,
       "min_height": null,
       "min_width": null,
       "object_fit": null,
       "object_position": null,
       "order": null,
       "overflow": null,
       "overflow_x": null,
       "overflow_y": null,
       "padding": null,
       "right": null,
       "top": null,
       "visibility": null,
       "width": null
      }
     },
     "956be95fbb7d4a3fbdc5b9fa01a03ab3": {
      "model_module": "@jupyter-widgets/controls",
      "model_module_version": "1.5.0",
      "model_name": "DescriptionStyleModel",
      "state": {
       "_model_module": "@jupyter-widgets/controls",
       "_model_module_version": "1.5.0",
       "_model_name": "DescriptionStyleModel",
       "_view_count": null,
       "_view_module": "@jupyter-widgets/base",
       "_view_module_version": "1.2.0",
       "_view_name": "StyleView",
       "description_width": ""
      }
     },
     "960a5ef2b6df467eb9f2b48eefbcaeeb": {
      "model_module": "@jupyter-widgets/controls",
      "model_module_version": "1.5.0",
      "model_name": "HBoxModel",
      "state": {
       "_dom_classes": [],
       "_model_module": "@jupyter-widgets/controls",
       "_model_module_version": "1.5.0",
       "_model_name": "HBoxModel",
       "_view_count": null,
       "_view_module": "@jupyter-widgets/controls",
       "_view_module_version": "1.5.0",
       "_view_name": "HBoxView",
       "box_style": "",
       "children": [
        "IPY_MODEL_e1609280266c461dacc3df3d7adfe1e5",
        "IPY_MODEL_0f136788e50946d9a33b1707e1e72479",
        "IPY_MODEL_10bf744840ed4b63a2dd02f6f4a067ea"
       ],
       "layout": "IPY_MODEL_b533f75fc86541249c398aa81ae22919"
      }
     },
     "977d56d0882545b6b2c6d5c33682d328": {
      "model_module": "@jupyter-widgets/controls",
      "model_module_version": "1.5.0",
      "model_name": "HTMLModel",
      "state": {
       "_dom_classes": [],
       "_model_module": "@jupyter-widgets/controls",
       "_model_module_version": "1.5.0",
       "_model_name": "HTMLModel",
       "_view_count": null,
       "_view_module": "@jupyter-widgets/controls",
       "_view_module_version": "1.5.0",
       "_view_name": "HTMLView",
       "description": "",
       "description_tooltip": null,
       "layout": "IPY_MODEL_08bd062b00db474582b4e217440828aa",
       "placeholder": "​",
       "style": "IPY_MODEL_daab53f65f87419db7a525d8caeec69a",
       "value": " 8/8 [00:00&lt;00:00, 123.16ba/s]"
      }
     },
     "a76c75725b77443cb54e5e6b7f18820a": {
      "model_module": "@jupyter-widgets/controls",
      "model_module_version": "1.5.0",
      "model_name": "HTMLModel",
      "state": {
       "_dom_classes": [],
       "_model_module": "@jupyter-widgets/controls",
       "_model_module_version": "1.5.0",
       "_model_name": "HTMLModel",
       "_view_count": null,
       "_view_module": "@jupyter-widgets/controls",
       "_view_module_version": "1.5.0",
       "_view_name": "HTMLView",
       "description": "",
       "description_tooltip": null,
       "layout": "IPY_MODEL_8cdcca2318cf403e92d5f2f385be4268",
       "placeholder": "​",
       "style": "IPY_MODEL_a8f682b4690a4690bbd4884296c4f08e",
       "value": "Casting to class labels: 100%"
      }
     },
     "a792e9ad56fe475288b4a58151bfd601": {
      "model_module": "@jupyter-widgets/controls",
      "model_module_version": "1.5.0",
      "model_name": "ProgressStyleModel",
      "state": {
       "_model_module": "@jupyter-widgets/controls",
       "_model_module_version": "1.5.0",
       "_model_name": "ProgressStyleModel",
       "_view_count": null,
       "_view_module": "@jupyter-widgets/base",
       "_view_module_version": "1.2.0",
       "_view_name": "StyleView",
       "bar_color": null,
       "description_width": ""
      }
     },
     "a7b97d623e9d4c5e8937d39c4eb6b8ab": {
      "model_module": "@jupyter-widgets/controls",
      "model_module_version": "1.5.0",
      "model_name": "DescriptionStyleModel",
      "state": {
       "_model_module": "@jupyter-widgets/controls",
       "_model_module_version": "1.5.0",
       "_model_name": "DescriptionStyleModel",
       "_view_count": null,
       "_view_module": "@jupyter-widgets/base",
       "_view_module_version": "1.2.0",
       "_view_name": "StyleView",
       "description_width": ""
      }
     },
     "a8f682b4690a4690bbd4884296c4f08e": {
      "model_module": "@jupyter-widgets/controls",
      "model_module_version": "1.5.0",
      "model_name": "DescriptionStyleModel",
      "state": {
       "_model_module": "@jupyter-widgets/controls",
       "_model_module_version": "1.5.0",
       "_model_name": "DescriptionStyleModel",
       "_view_count": null,
       "_view_module": "@jupyter-widgets/base",
       "_view_module_version": "1.2.0",
       "_view_name": "StyleView",
       "description_width": ""
      }
     },
     "a9122ee021024827acd1ee10348fc4c3": {
      "model_module": "@jupyter-widgets/controls",
      "model_module_version": "1.5.0",
      "model_name": "VBoxModel",
      "state": {
       "_dom_classes": [],
       "_model_module": "@jupyter-widgets/controls",
       "_model_module_version": "1.5.0",
       "_model_name": "VBoxModel",
       "_view_count": null,
       "_view_module": "@jupyter-widgets/controls",
       "_view_module_version": "1.5.0",
       "_view_name": "VBoxView",
       "box_style": "",
       "children": [
        "IPY_MODEL_57671c7abe81425199d18fb589001f73",
        "IPY_MODEL_454962e8deb14edfafd1b7af9ddb0de3"
       ],
       "layout": "IPY_MODEL_16f9ad11f1b04851a9725cba477cc87d"
      }
     },
     "a9b1c8e5203c459caa54208fee99fbd4": {
      "model_module": "@jupyter-widgets/controls",
      "model_module_version": "1.5.0",
      "model_name": "HBoxModel",
      "state": {
       "_dom_classes": [],
       "_model_module": "@jupyter-widgets/controls",
       "_model_module_version": "1.5.0",
       "_model_name": "HBoxModel",
       "_view_count": null,
       "_view_module": "@jupyter-widgets/controls",
       "_view_module_version": "1.5.0",
       "_view_name": "HBoxView",
       "box_style": "",
       "children": [
        "IPY_MODEL_6616534ed3f741dfb3079214820c25b9",
        "IPY_MODEL_13b4290dfca345b8980d27e2062237a6",
        "IPY_MODEL_1dfecd695a86405a96ebe1accb8e3bcf"
       ],
       "layout": "IPY_MODEL_5e0f7ae600504f6ca14ae8d0d5a3fc46"
      }
     },
     "a9fc47caf0f14dc58ffa419f66eabffa": {
      "model_module": "@jupyter-widgets/base",
      "model_module_version": "1.2.0",
      "model_name": "LayoutModel",
      "state": {
       "_model_module": "@jupyter-widgets/base",
       "_model_module_version": "1.2.0",
       "_model_name": "LayoutModel",
       "_view_count": null,
       "_view_module": "@jupyter-widgets/base",
       "_view_module_version": "1.2.0",
       "_view_name": "LayoutView",
       "align_content": null,
       "align_items": null,
       "align_self": null,
       "border": null,
       "bottom": null,
       "display": null,
       "flex": null,
       "flex_flow": null,
       "grid_area": null,
       "grid_auto_columns": null,
       "grid_auto_flow": null,
       "grid_auto_rows": null,
       "grid_column": null,
       "grid_gap": null,
       "grid_row": null,
       "grid_template_areas": null,
       "grid_template_columns": null,
       "grid_template_rows": null,
       "height": null,
       "justify_content": null,
       "justify_items": null,
       "left": null,
       "margin": null,
       "max_height": null,
       "max_width": null,
       "min_height": null,
       "min_width": null,
       "object_fit": null,
       "object_position": null,
       "order": null,
       "overflow": null,
       "overflow_x": null,
       "overflow_y": null,
       "padding": null,
       "right": null,
       "top": null,
       "visibility": null,
       "width": null
      }
     },
     "aeef3e3697704aad942e6ff9c314cfbb": {
      "model_module": "@jupyter-widgets/controls",
      "model_module_version": "1.5.0",
      "model_name": "HBoxModel",
      "state": {
       "_dom_classes": [],
       "_model_module": "@jupyter-widgets/controls",
       "_model_module_version": "1.5.0",
       "_model_name": "HBoxModel",
       "_view_count": null,
       "_view_module": "@jupyter-widgets/controls",
       "_view_module_version": "1.5.0",
       "_view_name": "HBoxView",
       "box_style": "",
       "children": [
        "IPY_MODEL_2a9c7321e5f5428c85e7cc6e11bb9f97",
        "IPY_MODEL_d1ffcdfb2fef43e8be3388185ae171f3",
        "IPY_MODEL_575467d833524e49ab983f7d098213e2"
       ],
       "layout": "IPY_MODEL_ddb22bbd2eb94012b2b0dad0c2a64c02"
      }
     },
     "af3e9627a22548679cf90144b91ab911": {
      "model_module": "@jupyter-widgets/base",
      "model_module_version": "1.2.0",
      "model_name": "LayoutModel",
      "state": {
       "_model_module": "@jupyter-widgets/base",
       "_model_module_version": "1.2.0",
       "_model_name": "LayoutModel",
       "_view_count": null,
       "_view_module": "@jupyter-widgets/base",
       "_view_module_version": "1.2.0",
       "_view_name": "LayoutView",
       "align_content": null,
       "align_items": null,
       "align_self": null,
       "border": null,
       "bottom": null,
       "display": null,
       "flex": null,
       "flex_flow": null,
       "grid_area": null,
       "grid_auto_columns": null,
       "grid_auto_flow": null,
       "grid_auto_rows": null,
       "grid_column": null,
       "grid_gap": null,
       "grid_row": null,
       "grid_template_areas": null,
       "grid_template_columns": null,
       "grid_template_rows": null,
       "height": null,
       "justify_content": null,
       "justify_items": null,
       "left": null,
       "margin": null,
       "max_height": null,
       "max_width": null,
       "min_height": null,
       "min_width": null,
       "object_fit": null,
       "object_position": null,
       "order": null,
       "overflow": null,
       "overflow_x": null,
       "overflow_y": null,
       "padding": null,
       "right": null,
       "top": null,
       "visibility": null,
       "width": null
      }
     },
     "b1bb625d9ce84388a19047937d32cfbf": {
      "model_module": "@jupyter-widgets/base",
      "model_module_version": "1.2.0",
      "model_name": "LayoutModel",
      "state": {
       "_model_module": "@jupyter-widgets/base",
       "_model_module_version": "1.2.0",
       "_model_name": "LayoutModel",
       "_view_count": null,
       "_view_module": "@jupyter-widgets/base",
       "_view_module_version": "1.2.0",
       "_view_name": "LayoutView",
       "align_content": null,
       "align_items": null,
       "align_self": null,
       "border": null,
       "bottom": null,
       "display": null,
       "flex": null,
       "flex_flow": null,
       "grid_area": null,
       "grid_auto_columns": null,
       "grid_auto_flow": null,
       "grid_auto_rows": null,
       "grid_column": null,
       "grid_gap": null,
       "grid_row": null,
       "grid_template_areas": null,
       "grid_template_columns": null,
       "grid_template_rows": null,
       "height": null,
       "justify_content": null,
       "justify_items": null,
       "left": null,
       "margin": null,
       "max_height": null,
       "max_width": null,
       "min_height": null,
       "min_width": null,
       "object_fit": null,
       "object_position": null,
       "order": null,
       "overflow": null,
       "overflow_x": null,
       "overflow_y": null,
       "padding": null,
       "right": null,
       "top": null,
       "visibility": null,
       "width": null
      }
     },
     "b281ddfaaafe42439e8bfa254f31a7c2": {
      "model_module": "@jupyter-widgets/controls",
      "model_module_version": "1.5.0",
      "model_name": "ProgressStyleModel",
      "state": {
       "_model_module": "@jupyter-widgets/controls",
       "_model_module_version": "1.5.0",
       "_model_name": "ProgressStyleModel",
       "_view_count": null,
       "_view_module": "@jupyter-widgets/base",
       "_view_module_version": "1.2.0",
       "_view_name": "StyleView",
       "bar_color": null,
       "description_width": ""
      }
     },
     "b533f75fc86541249c398aa81ae22919": {
      "model_module": "@jupyter-widgets/base",
      "model_module_version": "1.2.0",
      "model_name": "LayoutModel",
      "state": {
       "_model_module": "@jupyter-widgets/base",
       "_model_module_version": "1.2.0",
       "_model_name": "LayoutModel",
       "_view_count": null,
       "_view_module": "@jupyter-widgets/base",
       "_view_module_version": "1.2.0",
       "_view_name": "LayoutView",
       "align_content": null,
       "align_items": null,
       "align_self": null,
       "border": null,
       "bottom": null,
       "display": null,
       "flex": null,
       "flex_flow": null,
       "grid_area": null,
       "grid_auto_columns": null,
       "grid_auto_flow": null,
       "grid_auto_rows": null,
       "grid_column": null,
       "grid_gap": null,
       "grid_row": null,
       "grid_template_areas": null,
       "grid_template_columns": null,
       "grid_template_rows": null,
       "height": null,
       "justify_content": null,
       "justify_items": null,
       "left": null,
       "margin": null,
       "max_height": null,
       "max_width": null,
       "min_height": null,
       "min_width": null,
       "object_fit": null,
       "object_position": null,
       "order": null,
       "overflow": null,
       "overflow_x": null,
       "overflow_y": null,
       "padding": null,
       "right": null,
       "top": null,
       "visibility": null,
       "width": null
      }
     },
     "ba0e38b0645749ce8ac6cc13834c1818": {
      "model_module": "@jupyter-widgets/controls",
      "model_module_version": "1.5.0",
      "model_name": "HTMLModel",
      "state": {
       "_dom_classes": [],
       "_model_module": "@jupyter-widgets/controls",
       "_model_module_version": "1.5.0",
       "_model_name": "HTMLModel",
       "_view_count": null,
       "_view_module": "@jupyter-widgets/controls",
       "_view_module_version": "1.5.0",
       "_view_name": "HTMLView",
       "description": "",
       "description_tooltip": null,
       "layout": "IPY_MODEL_8eeb652084964ff7b3159e7c773edff9",
       "placeholder": "​",
       "style": "IPY_MODEL_956be95fbb7d4a3fbdc5b9fa01a03ab3",
       "value": "Downloading: 100%"
      }
     },
     "bc23287bbbfc4299aae6e892a656376d": {
      "model_module": "@jupyter-widgets/controls",
      "model_module_version": "1.5.0",
      "model_name": "DescriptionStyleModel",
      "state": {
       "_model_module": "@jupyter-widgets/controls",
       "_model_module_version": "1.5.0",
       "_model_name": "DescriptionStyleModel",
       "_view_count": null,
       "_view_module": "@jupyter-widgets/base",
       "_view_module_version": "1.2.0",
       "_view_name": "StyleView",
       "description_width": ""
      }
     },
     "c29cef3d344c40ddb4e259e675bc9967": {
      "model_module": "@jupyter-widgets/controls",
      "model_module_version": "1.5.0",
      "model_name": "HTMLModel",
      "state": {
       "_dom_classes": [],
       "_model_module": "@jupyter-widgets/controls",
       "_model_module_version": "1.5.0",
       "_model_name": "HTMLModel",
       "_view_count": null,
       "_view_module": "@jupyter-widgets/controls",
       "_view_module_version": "1.5.0",
       "_view_name": "HTMLView",
       "description": "",
       "description_tooltip": null,
       "layout": "IPY_MODEL_cfda7842517346059f1271c1e5d82444",
       "placeholder": "​",
       "style": "IPY_MODEL_024f951d5e414bc3a33c84226cac7647",
       "value": " 475/475 [00:00&lt;00:00, 17.8kB/s]"
      }
     },
     "c35f9a3a7f784949ab409c55bc71ead7": {
      "model_module": "@jupyter-widgets/controls",
      "model_module_version": "1.5.0",
      "model_name": "HTMLModel",
      "state": {
       "_dom_classes": [],
       "_model_module": "@jupyter-widgets/controls",
       "_model_module_version": "1.5.0",
       "_model_name": "HTMLModel",
       "_view_count": null,
       "_view_module": "@jupyter-widgets/controls",
       "_view_module_version": "1.5.0",
       "_view_name": "HTMLView",
       "description": "",
       "description_tooltip": null,
       "layout": "IPY_MODEL_ee2fae7192fb4cfcadadd652834f7bd9",
       "placeholder": "​",
       "style": "IPY_MODEL_67258612cb0943d8bf9f3c93ededcb46",
       "value": "Downloading builder script: "
      }
     },
     "c3a0121866a3425cb851f7e88c62ed58": {
      "model_module": "@jupyter-widgets/base",
      "model_module_version": "1.2.0",
      "model_name": "LayoutModel",
      "state": {
       "_model_module": "@jupyter-widgets/base",
       "_model_module_version": "1.2.0",
       "_model_name": "LayoutModel",
       "_view_count": null,
       "_view_module": "@jupyter-widgets/base",
       "_view_module_version": "1.2.0",
       "_view_name": "LayoutView",
       "align_content": null,
       "align_items": null,
       "align_self": null,
       "border": null,
       "bottom": null,
       "display": null,
       "flex": null,
       "flex_flow": null,
       "grid_area": null,
       "grid_auto_columns": null,
       "grid_auto_flow": null,
       "grid_auto_rows": null,
       "grid_column": null,
       "grid_gap": null,
       "grid_row": null,
       "grid_template_areas": null,
       "grid_template_columns": null,
       "grid_template_rows": null,
       "height": null,
       "justify_content": null,
       "justify_items": null,
       "left": null,
       "margin": null,
       "max_height": null,
       "max_width": null,
       "min_height": null,
       "min_width": null,
       "object_fit": null,
       "object_position": null,
       "order": null,
       "overflow": null,
       "overflow_x": null,
       "overflow_y": null,
       "padding": null,
       "right": null,
       "top": null,
       "visibility": null,
       "width": null
      }
     },
     "c42c3dc7453c45bc93772e85c25a8542": {
      "model_module": "@jupyter-widgets/controls",
      "model_module_version": "1.5.0",
      "model_name": "HTMLModel",
      "state": {
       "_dom_classes": [],
       "_model_module": "@jupyter-widgets/controls",
       "_model_module_version": "1.5.0",
       "_model_name": "HTMLModel",
       "_view_count": null,
       "_view_module": "@jupyter-widgets/controls",
       "_view_module_version": "1.5.0",
       "_view_name": "HTMLView",
       "description": "",
       "description_tooltip": null,
       "layout": "IPY_MODEL_e44eafd5d7574b0c86fbacfcd700da95",
       "placeholder": "​",
       "style": "IPY_MODEL_bc23287bbbfc4299aae6e892a656376d",
       "value": " 446k/446k [00:00&lt;00:00, 4.65MB/s]"
      }
     },
     "c546c4784cf34ff9b8a3be1b2623c426": {
      "model_module": "@jupyter-widgets/base",
      "model_module_version": "1.2.0",
      "model_name": "LayoutModel",
      "state": {
       "_model_module": "@jupyter-widgets/base",
       "_model_module_version": "1.2.0",
       "_model_name": "LayoutModel",
       "_view_count": null,
       "_view_module": "@jupyter-widgets/base",
       "_view_module_version": "1.2.0",
       "_view_name": "LayoutView",
       "align_content": null,
       "align_items": null,
       "align_self": null,
       "border": null,
       "bottom": null,
       "display": null,
       "flex": null,
       "flex_flow": null,
       "grid_area": null,
       "grid_auto_columns": null,
       "grid_auto_flow": null,
       "grid_auto_rows": null,
       "grid_column": null,
       "grid_gap": null,
       "grid_row": null,
       "grid_template_areas": null,
       "grid_template_columns": null,
       "grid_template_rows": null,
       "height": null,
       "justify_content": null,
       "justify_items": null,
       "left": null,
       "margin": null,
       "max_height": null,
       "max_width": null,
       "min_height": null,
       "min_width": null,
       "object_fit": null,
       "object_position": null,
       "order": null,
       "overflow": null,
       "overflow_x": null,
       "overflow_y": null,
       "padding": null,
       "right": null,
       "top": null,
       "visibility": null,
       "width": null
      }
     },
     "ce64d66c07544d20be1002d10db8639a": {
      "model_module": "@jupyter-widgets/base",
      "model_module_version": "1.2.0",
      "model_name": "LayoutModel",
      "state": {
       "_model_module": "@jupyter-widgets/base",
       "_model_module_version": "1.2.0",
       "_model_name": "LayoutModel",
       "_view_count": null,
       "_view_module": "@jupyter-widgets/base",
       "_view_module_version": "1.2.0",
       "_view_name": "LayoutView",
       "align_content": null,
       "align_items": null,
       "align_self": null,
       "border": null,
       "bottom": null,
       "display": null,
       "flex": null,
       "flex_flow": null,
       "grid_area": null,
       "grid_auto_columns": null,
       "grid_auto_flow": null,
       "grid_auto_rows": null,
       "grid_column": null,
       "grid_gap": null,
       "grid_row": null,
       "grid_template_areas": null,
       "grid_template_columns": null,
       "grid_template_rows": null,
       "height": null,
       "justify_content": null,
       "justify_items": null,
       "left": null,
       "margin": null,
       "max_height": null,
       "max_width": null,
       "min_height": null,
       "min_width": null,
       "object_fit": null,
       "object_position": null,
       "order": null,
       "overflow": null,
       "overflow_x": null,
       "overflow_y": null,
       "padding": null,
       "right": null,
       "top": null,
       "visibility": null,
       "width": null
      }
     },
     "cf43dd974b294aff973d3436b63c3069": {
      "model_module": "@jupyter-widgets/controls",
      "model_module_version": "1.5.0",
      "model_name": "HTMLModel",
      "state": {
       "_dom_classes": [],
       "_model_module": "@jupyter-widgets/controls",
       "_model_module_version": "1.5.0",
       "_model_name": "HTMLModel",
       "_view_count": null,
       "_view_module": "@jupyter-widgets/controls",
       "_view_module_version": "1.5.0",
       "_view_name": "HTMLView",
       "description": "",
       "description_tooltip": null,
       "layout": "IPY_MODEL_8bd4a6742e1a4c61b99b3583dc494229",
       "placeholder": "​",
       "style": "IPY_MODEL_f1f431f3d2824c69b6358a75ac9234e9",
       "value": " 58/58 [00:00&lt;00:00, 173.30ba/s]"
      }
     },
     "cfda7842517346059f1271c1e5d82444": {
      "model_module": "@jupyter-widgets/base",
      "model_module_version": "1.2.0",
      "model_name": "LayoutModel",
      "state": {
       "_model_module": "@jupyter-widgets/base",
       "_model_module_version": "1.2.0",
       "_model_name": "LayoutModel",
       "_view_count": null,
       "_view_module": "@jupyter-widgets/base",
       "_view_module_version": "1.2.0",
       "_view_name": "LayoutView",
       "align_content": null,
       "align_items": null,
       "align_self": null,
       "border": null,
       "bottom": null,
       "display": null,
       "flex": null,
       "flex_flow": null,
       "grid_area": null,
       "grid_auto_columns": null,
       "grid_auto_flow": null,
       "grid_auto_rows": null,
       "grid_column": null,
       "grid_gap": null,
       "grid_row": null,
       "grid_template_areas": null,
       "grid_template_columns": null,
       "grid_template_rows": null,
       "height": null,
       "justify_content": null,
       "justify_items": null,
       "left": null,
       "margin": null,
       "max_height": null,
       "max_width": null,
       "min_height": null,
       "min_width": null,
       "object_fit": null,
       "object_position": null,
       "order": null,
       "overflow": null,
       "overflow_x": null,
       "overflow_y": null,
       "padding": null,
       "right": null,
       "top": null,
       "visibility": null,
       "width": null
      }
     },
     "d02916d3312e498cb793246c04d4c42d": {
      "model_module": "@jupyter-widgets/controls",
      "model_module_version": "1.5.0",
      "model_name": "FloatProgressModel",
      "state": {
       "_dom_classes": [],
       "_model_module": "@jupyter-widgets/controls",
       "_model_module_version": "1.5.0",
       "_model_name": "FloatProgressModel",
       "_view_count": null,
       "_view_module": "@jupyter-widgets/controls",
       "_view_module_version": "1.5.0",
       "_view_name": "ProgressView",
       "bar_style": "success",
       "description": "",
       "description_tooltip": null,
       "layout": "IPY_MODEL_c546c4784cf34ff9b8a3be1b2623c426",
       "max": 898825.0,
       "min": 0.0,
       "orientation": "horizontal",
       "style": "IPY_MODEL_4f2d6efa68af421aa0afe226d090045b",
       "value": 898825.0
      }
     },
     "d1ffcdfb2fef43e8be3388185ae171f3": {
      "model_module": "@jupyter-widgets/controls",
      "model_module_version": "1.5.0",
      "model_name": "FloatProgressModel",
      "state": {
       "_dom_classes": [],
       "_model_module": "@jupyter-widgets/controls",
       "_model_module_version": "1.5.0",
       "_model_name": "FloatProgressModel",
       "_view_count": null,
       "_view_module": "@jupyter-widgets/controls",
       "_view_module_version": "1.5.0",
       "_view_name": "ProgressView",
       "bar_style": "success",
       "description": "",
       "description_tooltip": null,
       "layout": "IPY_MODEL_443f07391aa944a1b78008ed47e898f9",
       "max": 1627284589.0,
       "min": 0.0,
       "orientation": "horizontal",
       "style": "IPY_MODEL_53b80772db7b4a818012f996de614fb4",
       "value": 1627284589.0
      }
     },
     "d260a80f570c4b0faa032f54c7992c56": {
      "model_module": "@jupyter-widgets/base",
      "model_module_version": "1.2.0",
      "model_name": "LayoutModel",
      "state": {
       "_model_module": "@jupyter-widgets/base",
       "_model_module_version": "1.2.0",
       "_model_name": "LayoutModel",
       "_view_count": null,
       "_view_module": "@jupyter-widgets/base",
       "_view_module_version": "1.2.0",
       "_view_name": "LayoutView",
       "align_content": null,
       "align_items": null,
       "align_self": null,
       "border": null,
       "bottom": null,
       "display": null,
       "flex": null,
       "flex_flow": null,
       "grid_area": null,
       "grid_auto_columns": null,
       "grid_auto_flow": null,
       "grid_auto_rows": null,
       "grid_column": null,
       "grid_gap": null,
       "grid_row": null,
       "grid_template_areas": null,
       "grid_template_columns": null,
       "grid_template_rows": null,
       "height": null,
       "justify_content": null,
       "justify_items": null,
       "left": null,
       "margin": null,
       "max_height": null,
       "max_width": null,
       "min_height": null,
       "min_width": null,
       "object_fit": null,
       "object_position": null,
       "order": null,
       "overflow": null,
       "overflow_x": null,
       "overflow_y": null,
       "padding": null,
       "right": null,
       "top": null,
       "visibility": null,
       "width": null
      }
     },
     "d3572516174b44cfa37944240755fe26": {
      "model_module": "@jupyter-widgets/controls",
      "model_module_version": "1.5.0",
      "model_name": "ProgressStyleModel",
      "state": {
       "_model_module": "@jupyter-widgets/controls",
       "_model_module_version": "1.5.0",
       "_model_name": "ProgressStyleModel",
       "_view_count": null,
       "_view_module": "@jupyter-widgets/base",
       "_view_module_version": "1.2.0",
       "_view_name": "StyleView",
       "bar_color": null,
       "description_width": ""
      }
     },
     "d4c136163609459ea053c0d0dcaccddd": {
      "model_module": "@jupyter-widgets/base",
      "model_module_version": "1.2.0",
      "model_name": "LayoutModel",
      "state": {
       "_model_module": "@jupyter-widgets/base",
       "_model_module_version": "1.2.0",
       "_model_name": "LayoutModel",
       "_view_count": null,
       "_view_module": "@jupyter-widgets/base",
       "_view_module_version": "1.2.0",
       "_view_name": "LayoutView",
       "align_content": null,
       "align_items": null,
       "align_self": null,
       "border": null,
       "bottom": null,
       "display": null,
       "flex": null,
       "flex_flow": null,
       "grid_area": null,
       "grid_auto_columns": null,
       "grid_auto_flow": null,
       "grid_auto_rows": null,
       "grid_column": null,
       "grid_gap": null,
       "grid_row": null,
       "grid_template_areas": null,
       "grid_template_columns": null,
       "grid_template_rows": null,
       "height": null,
       "justify_content": null,
       "justify_items": null,
       "left": null,
       "margin": null,
       "max_height": null,
       "max_width": null,
       "min_height": null,
       "min_width": null,
       "object_fit": null,
       "object_position": null,
       "order": null,
       "overflow": null,
       "overflow_x": null,
       "overflow_y": null,
       "padding": null,
       "right": null,
       "top": null,
       "visibility": null,
       "width": null
      }
     },
     "d514fad262d5409dab9874fac4d5cbd7": {
      "model_module": "@jupyter-widgets/controls",
      "model_module_version": "1.5.0",
      "model_name": "HBoxModel",
      "state": {
       "_dom_classes": [],
       "_model_module": "@jupyter-widgets/controls",
       "_model_module_version": "1.5.0",
       "_model_name": "HBoxModel",
       "_view_count": null,
       "_view_module": "@jupyter-widgets/controls",
       "_view_module_version": "1.5.0",
       "_view_name": "HBoxView",
       "box_style": "",
       "children": [
        "IPY_MODEL_ea782efd64884ec6b029a5024dd3652f",
        "IPY_MODEL_88819b640b804313ac180216144da577",
        "IPY_MODEL_cf43dd974b294aff973d3436b63c3069"
       ],
       "layout": "IPY_MODEL_15c7d5a5ede546e687c2911a62c5a80d"
      }
     },
     "d6cbc8f284294e189abeaefa98055ca2": {
      "model_module": "@jupyter-widgets/base",
      "model_module_version": "1.2.0",
      "model_name": "LayoutModel",
      "state": {
       "_model_module": "@jupyter-widgets/base",
       "_model_module_version": "1.2.0",
       "_model_name": "LayoutModel",
       "_view_count": null,
       "_view_module": "@jupyter-widgets/base",
       "_view_module_version": "1.2.0",
       "_view_name": "LayoutView",
       "align_content": null,
       "align_items": null,
       "align_self": null,
       "border": null,
       "bottom": null,
       "display": null,
       "flex": null,
       "flex_flow": null,
       "grid_area": null,
       "grid_auto_columns": null,
       "grid_auto_flow": null,
       "grid_auto_rows": null,
       "grid_column": null,
       "grid_gap": null,
       "grid_row": null,
       "grid_template_areas": null,
       "grid_template_columns": null,
       "grid_template_rows": null,
       "height": null,
       "justify_content": null,
       "justify_items": null,
       "left": null,
       "margin": null,
       "max_height": null,
       "max_width": null,
       "min_height": null,
       "min_width": null,
       "object_fit": null,
       "object_position": null,
       "order": null,
       "overflow": null,
       "overflow_x": null,
       "overflow_y": null,
       "padding": null,
       "right": null,
       "top": null,
       "visibility": null,
       "width": null
      }
     },
     "d8c105eee57149c2b5d0d8fbd791c368": {
      "model_module": "@jupyter-widgets/base",
      "model_module_version": "1.2.0",
      "model_name": "LayoutModel",
      "state": {
       "_model_module": "@jupyter-widgets/base",
       "_model_module_version": "1.2.0",
       "_model_name": "LayoutModel",
       "_view_count": null,
       "_view_module": "@jupyter-widgets/base",
       "_view_module_version": "1.2.0",
       "_view_name": "LayoutView",
       "align_content": null,
       "align_items": null,
       "align_self": null,
       "border": null,
       "bottom": null,
       "display": null,
       "flex": null,
       "flex_flow": null,
       "grid_area": null,
       "grid_auto_columns": null,
       "grid_auto_flow": null,
       "grid_auto_rows": null,
       "grid_column": null,
       "grid_gap": null,
       "grid_row": null,
       "grid_template_areas": null,
       "grid_template_columns": null,
       "grid_template_rows": null,
       "height": null,
       "justify_content": null,
       "justify_items": null,
       "left": null,
       "margin": null,
       "max_height": null,
       "max_width": null,
       "min_height": null,
       "min_width": null,
       "object_fit": null,
       "object_position": null,
       "order": null,
       "overflow": null,
       "overflow_x": null,
       "overflow_y": null,
       "padding": null,
       "right": null,
       "top": null,
       "visibility": null,
       "width": null
      }
     },
     "daab53f65f87419db7a525d8caeec69a": {
      "model_module": "@jupyter-widgets/controls",
      "model_module_version": "1.5.0",
      "model_name": "DescriptionStyleModel",
      "state": {
       "_model_module": "@jupyter-widgets/controls",
       "_model_module_version": "1.5.0",
       "_model_name": "DescriptionStyleModel",
       "_view_count": null,
       "_view_module": "@jupyter-widgets/base",
       "_view_module_version": "1.2.0",
       "_view_name": "StyleView",
       "description_width": ""
      }
     },
     "dd5bb60658c249a4946d85d06e85e729": {
      "model_module": "@jupyter-widgets/controls",
      "model_module_version": "1.5.0",
      "model_name": "DescriptionStyleModel",
      "state": {
       "_model_module": "@jupyter-widgets/controls",
       "_model_module_version": "1.5.0",
       "_model_name": "DescriptionStyleModel",
       "_view_count": null,
       "_view_module": "@jupyter-widgets/base",
       "_view_module_version": "1.2.0",
       "_view_name": "StyleView",
       "description_width": ""
      }
     },
     "ddb22bbd2eb94012b2b0dad0c2a64c02": {
      "model_module": "@jupyter-widgets/base",
      "model_module_version": "1.2.0",
      "model_name": "LayoutModel",
      "state": {
       "_model_module": "@jupyter-widgets/base",
       "_model_module_version": "1.2.0",
       "_model_name": "LayoutModel",
       "_view_count": null,
       "_view_module": "@jupyter-widgets/base",
       "_view_module_version": "1.2.0",
       "_view_name": "LayoutView",
       "align_content": null,
       "align_items": null,
       "align_self": null,
       "border": null,
       "bottom": null,
       "display": null,
       "flex": null,
       "flex_flow": null,
       "grid_area": null,
       "grid_auto_columns": null,
       "grid_auto_flow": null,
       "grid_auto_rows": null,
       "grid_column": null,
       "grid_gap": null,
       "grid_row": null,
       "grid_template_areas": null,
       "grid_template_columns": null,
       "grid_template_rows": null,
       "height": null,
       "justify_content": null,
       "justify_items": null,
       "left": null,
       "margin": null,
       "max_height": null,
       "max_width": null,
       "min_height": null,
       "min_width": null,
       "object_fit": null,
       "object_position": null,
       "order": null,
       "overflow": null,
       "overflow_x": null,
       "overflow_y": null,
       "padding": null,
       "right": null,
       "top": null,
       "visibility": null,
       "width": null
      }
     },
     "e1609280266c461dacc3df3d7adfe1e5": {
      "model_module": "@jupyter-widgets/controls",
      "model_module_version": "1.5.0",
      "model_name": "HTMLModel",
      "state": {
       "_dom_classes": [],
       "_model_module": "@jupyter-widgets/controls",
       "_model_module_version": "1.5.0",
       "_model_name": "HTMLModel",
       "_view_count": null,
       "_view_module": "@jupyter-widgets/controls",
       "_view_module_version": "1.5.0",
       "_view_name": "HTMLView",
       "description": "",
       "description_tooltip": null,
       "layout": "IPY_MODEL_d4c136163609459ea053c0d0dcaccddd",
       "placeholder": "​",
       "style": "IPY_MODEL_480972a7d7b948aa93d824cb11a2a459",
       "value": "100%"
      }
     },
     "e1a5ff54faf445e7961df436f96de38e": {
      "model_module": "@jupyter-widgets/base",
      "model_module_version": "1.2.0",
      "model_name": "LayoutModel",
      "state": {
       "_model_module": "@jupyter-widgets/base",
       "_model_module_version": "1.2.0",
       "_model_name": "LayoutModel",
       "_view_count": null,
       "_view_module": "@jupyter-widgets/base",
       "_view_module_version": "1.2.0",
       "_view_name": "LayoutView",
       "align_content": null,
       "align_items": null,
       "align_self": null,
       "border": null,
       "bottom": null,
       "display": null,
       "flex": null,
       "flex_flow": null,
       "grid_area": null,
       "grid_auto_columns": null,
       "grid_auto_flow": null,
       "grid_auto_rows": null,
       "grid_column": null,
       "grid_gap": null,
       "grid_row": null,
       "grid_template_areas": null,
       "grid_template_columns": null,
       "grid_template_rows": null,
       "height": null,
       "justify_content": null,
       "justify_items": null,
       "left": null,
       "margin": null,
       "max_height": null,
       "max_width": null,
       "min_height": null,
       "min_width": null,
       "object_fit": null,
       "object_position": null,
       "order": null,
       "overflow": null,
       "overflow_x": null,
       "overflow_y": null,
       "padding": null,
       "right": null,
       "top": null,
       "visibility": null,
       "width": null
      }
     },
     "e23f12329e7c4d98adb8d755b6fe2772": {
      "model_module": "@jupyter-widgets/base",
      "model_module_version": "1.2.0",
      "model_name": "LayoutModel",
      "state": {
       "_model_module": "@jupyter-widgets/base",
       "_model_module_version": "1.2.0",
       "_model_name": "LayoutModel",
       "_view_count": null,
       "_view_module": "@jupyter-widgets/base",
       "_view_module_version": "1.2.0",
       "_view_name": "LayoutView",
       "align_content": null,
       "align_items": null,
       "align_self": null,
       "border": null,
       "bottom": null,
       "display": null,
       "flex": null,
       "flex_flow": null,
       "grid_area": null,
       "grid_auto_columns": null,
       "grid_auto_flow": null,
       "grid_auto_rows": null,
       "grid_column": null,
       "grid_gap": null,
       "grid_row": null,
       "grid_template_areas": null,
       "grid_template_columns": null,
       "grid_template_rows": null,
       "height": null,
       "justify_content": null,
       "justify_items": null,
       "left": null,
       "margin": null,
       "max_height": null,
       "max_width": null,
       "min_height": null,
       "min_width": null,
       "object_fit": null,
       "object_position": null,
       "order": null,
       "overflow": null,
       "overflow_x": null,
       "overflow_y": null,
       "padding": null,
       "right": null,
       "top": null,
       "visibility": null,
       "width": null
      }
     },
     "e44eafd5d7574b0c86fbacfcd700da95": {
      "model_module": "@jupyter-widgets/base",
      "model_module_version": "1.2.0",
      "model_name": "LayoutModel",
      "state": {
       "_model_module": "@jupyter-widgets/base",
       "_model_module_version": "1.2.0",
       "_model_name": "LayoutModel",
       "_view_count": null,
       "_view_module": "@jupyter-widgets/base",
       "_view_module_version": "1.2.0",
       "_view_name": "LayoutView",
       "align_content": null,
       "align_items": null,
       "align_self": null,
       "border": null,
       "bottom": null,
       "display": null,
       "flex": null,
       "flex_flow": null,
       "grid_area": null,
       "grid_auto_columns": null,
       "grid_auto_flow": null,
       "grid_auto_rows": null,
       "grid_column": null,
       "grid_gap": null,
       "grid_row": null,
       "grid_template_areas": null,
       "grid_template_columns": null,
       "grid_template_rows": null,
       "height": null,
       "justify_content": null,
       "justify_items": null,
       "left": null,
       "margin": null,
       "max_height": null,
       "max_width": null,
       "min_height": null,
       "min_width": null,
       "object_fit": null,
       "object_position": null,
       "order": null,
       "overflow": null,
       "overflow_x": null,
       "overflow_y": null,
       "padding": null,
       "right": null,
       "top": null,
       "visibility": null,
       "width": null
      }
     },
     "e61ecfcfbf304b0f9081bb25d025accf": {
      "model_module": "@jupyter-widgets/base",
      "model_module_version": "1.2.0",
      "model_name": "LayoutModel",
      "state": {
       "_model_module": "@jupyter-widgets/base",
       "_model_module_version": "1.2.0",
       "_model_name": "LayoutModel",
       "_view_count": null,
       "_view_module": "@jupyter-widgets/base",
       "_view_module_version": "1.2.0",
       "_view_name": "LayoutView",
       "align_content": null,
       "align_items": null,
       "align_self": null,
       "border": null,
       "bottom": null,
       "display": null,
       "flex": null,
       "flex_flow": null,
       "grid_area": null,
       "grid_auto_columns": null,
       "grid_auto_flow": null,
       "grid_auto_rows": null,
       "grid_column": null,
       "grid_gap": null,
       "grid_row": null,
       "grid_template_areas": null,
       "grid_template_columns": null,
       "grid_template_rows": null,
       "height": null,
       "justify_content": null,
       "justify_items": null,
       "left": null,
       "margin": null,
       "max_height": null,
       "max_width": null,
       "min_height": null,
       "min_width": null,
       "object_fit": null,
       "object_position": null,
       "order": null,
       "overflow": null,
       "overflow_x": null,
       "overflow_y": null,
       "padding": null,
       "right": null,
       "top": null,
       "visibility": null,
       "width": null
      }
     },
     "e6979718be274efb915b9d2f9afeb258": {
      "model_module": "@jupyter-widgets/controls",
      "model_module_version": "1.5.0",
      "model_name": "HBoxModel",
      "state": {
       "_dom_classes": [],
       "_model_module": "@jupyter-widgets/controls",
       "_model_module_version": "1.5.0",
       "_model_name": "HBoxModel",
       "_view_count": null,
       "_view_module": "@jupyter-widgets/controls",
       "_view_module_version": "1.5.0",
       "_view_name": "HBoxView",
       "box_style": "",
       "children": [
        "IPY_MODEL_c35f9a3a7f784949ab409c55bc71ead7",
        "IPY_MODEL_439fbf092a4744bb8f1d0130ee64c179",
        "IPY_MODEL_297bf88f369343878681e7543b06864a"
       ],
       "layout": "IPY_MODEL_8261112d1d2e405fb642e91521640f6d"
      }
     },
     "ea05597da45a459991a97607990d5744": {
      "model_module": "@jupyter-widgets/controls",
      "model_module_version": "1.5.0",
      "model_name": "DescriptionStyleModel",
      "state": {
       "_model_module": "@jupyter-widgets/controls",
       "_model_module_version": "1.5.0",
       "_model_name": "DescriptionStyleModel",
       "_view_count": null,
       "_view_module": "@jupyter-widgets/base",
       "_view_module_version": "1.2.0",
       "_view_name": "StyleView",
       "description_width": ""
      }
     },
     "ea782efd64884ec6b029a5024dd3652f": {
      "model_module": "@jupyter-widgets/controls",
      "model_module_version": "1.5.0",
      "model_name": "HTMLModel",
      "state": {
       "_dom_classes": [],
       "_model_module": "@jupyter-widgets/controls",
       "_model_module_version": "1.5.0",
       "_model_name": "HTMLModel",
       "_view_count": null,
       "_view_module": "@jupyter-widgets/controls",
       "_view_module_version": "1.5.0",
       "_view_name": "HTMLView",
       "description": "",
       "description_tooltip": null,
       "layout": "IPY_MODEL_b1bb625d9ce84388a19047937d32cfbf",
       "placeholder": "​",
       "style": "IPY_MODEL_dd5bb60658c249a4946d85d06e85e729",
       "value": "Casting to class labels: 100%"
      }
     },
     "ee2fae7192fb4cfcadadd652834f7bd9": {
      "model_module": "@jupyter-widgets/base",
      "model_module_version": "1.2.0",
      "model_name": "LayoutModel",
      "state": {
       "_model_module": "@jupyter-widgets/base",
       "_model_module_version": "1.2.0",
       "_model_name": "LayoutModel",
       "_view_count": null,
       "_view_module": "@jupyter-widgets/base",
       "_view_module_version": "1.2.0",
       "_view_name": "LayoutView",
       "align_content": null,
       "align_items": null,
       "align_self": null,
       "border": null,
       "bottom": null,
       "display": null,
       "flex": null,
       "flex_flow": null,
       "grid_area": null,
       "grid_auto_columns": null,
       "grid_auto_flow": null,
       "grid_auto_rows": null,
       "grid_column": null,
       "grid_gap": null,
       "grid_row": null,
       "grid_template_areas": null,
       "grid_template_columns": null,
       "grid_template_rows": null,
       "height": null,
       "justify_content": null,
       "justify_items": null,
       "left": null,
       "margin": null,
       "max_height": null,
       "max_width": null,
       "min_height": null,
       "min_width": null,
       "object_fit": null,
       "object_position": null,
       "order": null,
       "overflow": null,
       "overflow_x": null,
       "overflow_y": null,
       "padding": null,
       "right": null,
       "top": null,
       "visibility": null,
       "width": null
      }
     },
     "ef486b551a734f81b6f0768ba3339b42": {
      "model_module": "@jupyter-widgets/base",
      "model_module_version": "1.2.0",
      "model_name": "LayoutModel",
      "state": {
       "_model_module": "@jupyter-widgets/base",
       "_model_module_version": "1.2.0",
       "_model_name": "LayoutModel",
       "_view_count": null,
       "_view_module": "@jupyter-widgets/base",
       "_view_module_version": "1.2.0",
       "_view_name": "LayoutView",
       "align_content": null,
       "align_items": null,
       "align_self": null,
       "border": null,
       "bottom": null,
       "display": null,
       "flex": null,
       "flex_flow": null,
       "grid_area": null,
       "grid_auto_columns": null,
       "grid_auto_flow": null,
       "grid_auto_rows": null,
       "grid_column": null,
       "grid_gap": null,
       "grid_row": null,
       "grid_template_areas": null,
       "grid_template_columns": null,
       "grid_template_rows": null,
       "height": null,
       "justify_content": null,
       "justify_items": null,
       "left": null,
       "margin": null,
       "max_height": null,
       "max_width": null,
       "min_height": null,
       "min_width": null,
       "object_fit": null,
       "object_position": null,
       "order": null,
       "overflow": null,
       "overflow_x": null,
       "overflow_y": null,
       "padding": null,
       "right": null,
       "top": null,
       "visibility": null,
       "width": null
      }
     },
     "efd3c88a80bb4386bb677484e38a5cec": {
      "model_module": "@jupyter-widgets/controls",
      "model_module_version": "1.5.0",
      "model_name": "DescriptionStyleModel",
      "state": {
       "_model_module": "@jupyter-widgets/controls",
       "_model_module_version": "1.5.0",
       "_model_name": "DescriptionStyleModel",
       "_view_count": null,
       "_view_module": "@jupyter-widgets/base",
       "_view_module_version": "1.2.0",
       "_view_name": "StyleView",
       "description_width": ""
      }
     },
     "efe1c960a1224a6b9b3c299904a9fcfb": {
      "model_module": "@jupyter-widgets/controls",
      "model_module_version": "1.5.0",
      "model_name": "HTMLModel",
      "state": {
       "_dom_classes": [],
       "_model_module": "@jupyter-widgets/controls",
       "_model_module_version": "1.5.0",
       "_model_name": "HTMLModel",
       "_view_count": null,
       "_view_module": "@jupyter-widgets/controls",
       "_view_module_version": "1.5.0",
       "_view_name": "HTMLView",
       "description": "",
       "description_tooltip": null,
       "layout": "IPY_MODEL_04f38528c6c9450997ba07c2136bd22d",
       "placeholder": "​",
       "style": "IPY_MODEL_7ab5c38c3b3348e4aa2e193a1ea74a61",
       "value": " 878k/878k [00:00&lt;00:00, 5.89MB/s]"
      }
     },
     "f1f431f3d2824c69b6358a75ac9234e9": {
      "model_module": "@jupyter-widgets/controls",
      "model_module_version": "1.5.0",
      "model_name": "DescriptionStyleModel",
      "state": {
       "_model_module": "@jupyter-widgets/controls",
       "_model_module_version": "1.5.0",
       "_model_name": "DescriptionStyleModel",
       "_view_count": null,
       "_view_module": "@jupyter-widgets/base",
       "_view_module_version": "1.2.0",
       "_view_name": "StyleView",
       "description_width": ""
      }
     },
     "f23e6484d9cc48d6b6f6dab397b7b9d3": {
      "model_module": "@jupyter-widgets/controls",
      "model_module_version": "1.5.0",
      "model_name": "HTMLModel",
      "state": {
       "_dom_classes": [],
       "_model_module": "@jupyter-widgets/controls",
       "_model_module_version": "1.5.0",
       "_model_name": "HTMLModel",
       "_view_count": null,
       "_view_module": "@jupyter-widgets/controls",
       "_view_module_version": "1.5.0",
       "_view_name": "HTMLView",
       "description": "",
       "description_tooltip": null,
       "layout": "IPY_MODEL_ef486b551a734f81b6f0768ba3339b42",
       "placeholder": "​",
       "style": "IPY_MODEL_3582548290d1499eb414486742cdadea",
       "value": "Downloading: 100%"
      }
     },
     "f3cf3be8154746e08d5560bcebf7b5ca": {
      "model_module": "@jupyter-widgets/controls",
      "model_module_version": "1.5.0",
      "model_name": "DescriptionStyleModel",
      "state": {
       "_model_module": "@jupyter-widgets/controls",
       "_model_module_version": "1.5.0",
       "_model_name": "DescriptionStyleModel",
       "_view_count": null,
       "_view_module": "@jupyter-widgets/base",
       "_view_module_version": "1.2.0",
       "_view_name": "StyleView",
       "description_width": ""
      }
     },
     "f5fc83b520c5485a905d7368662685d1": {
      "model_module": "@jupyter-widgets/controls",
      "model_module_version": "1.5.0",
      "model_name": "DescriptionStyleModel",
      "state": {
       "_model_module": "@jupyter-widgets/controls",
       "_model_module_version": "1.5.0",
       "_model_name": "DescriptionStyleModel",
       "_view_count": null,
       "_view_module": "@jupyter-widgets/base",
       "_view_module_version": "1.2.0",
       "_view_name": "StyleView",
       "description_width": ""
      }
     },
     "f77028743db84821806ef5293dab0bbb": {
      "model_module": "@jupyter-widgets/base",
      "model_module_version": "1.2.0",
      "model_name": "LayoutModel",
      "state": {
       "_model_module": "@jupyter-widgets/base",
       "_model_module_version": "1.2.0",
       "_model_name": "LayoutModel",
       "_view_count": null,
       "_view_module": "@jupyter-widgets/base",
       "_view_module_version": "1.2.0",
       "_view_name": "LayoutView",
       "align_content": null,
       "align_items": null,
       "align_self": null,
       "border": null,
       "bottom": null,
       "display": null,
       "flex": null,
       "flex_flow": null,
       "grid_area": null,
       "grid_auto_columns": null,
       "grid_auto_flow": null,
       "grid_auto_rows": null,
       "grid_column": null,
       "grid_gap": null,
       "grid_row": null,
       "grid_template_areas": null,
       "grid_template_columns": null,
       "grid_template_rows": null,
       "height": null,
       "justify_content": null,
       "justify_items": null,
       "left": null,
       "margin": null,
       "max_height": null,
       "max_width": null,
       "min_height": null,
       "min_width": null,
       "object_fit": null,
       "object_position": null,
       "order": null,
       "overflow": null,
       "overflow_x": null,
       "overflow_y": null,
       "padding": null,
       "right": null,
       "top": null,
       "visibility": null,
       "width": null
      }
     },
     "fab88ab460dd4d1caeb8cf1bc9b5a2f5": {
      "model_module": "@jupyter-widgets/controls",
      "model_module_version": "1.5.0",
      "model_name": "ProgressStyleModel",
      "state": {
       "_model_module": "@jupyter-widgets/controls",
       "_model_module_version": "1.5.0",
       "_model_name": "ProgressStyleModel",
       "_view_count": null,
       "_view_module": "@jupyter-widgets/base",
       "_view_module_version": "1.2.0",
       "_view_name": "StyleView",
       "bar_color": null,
       "description_width": ""
      }
     },
     "fb92bf5a483d49bca7bca820194dcab8": {
      "model_module": "@jupyter-widgets/controls",
      "model_module_version": "1.5.0",
      "model_name": "FloatProgressModel",
      "state": {
       "_dom_classes": [],
       "_model_module": "@jupyter-widgets/controls",
       "_model_module_version": "1.5.0",
       "_model_name": "FloatProgressModel",
       "_view_count": null,
       "_view_module": "@jupyter-widgets/controls",
       "_view_module_version": "1.5.0",
       "_view_name": "ProgressView",
       "bar_style": "success",
       "description": "",
       "description_tooltip": null,
       "layout": "IPY_MODEL_574acb51644043778bebdbe9d2a72876",
       "max": 456318.0,
       "min": 0.0,
       "orientation": "horizontal",
       "style": "IPY_MODEL_d3572516174b44cfa37944240755fe26",
       "value": 456318.0
      }
     },
     "fc3f174d97ca49f4983201ddba77ae56": {
      "model_module": "@jupyter-widgets/controls",
      "model_module_version": "1.5.0",
      "model_name": "ProgressStyleModel",
      "state": {
       "_model_module": "@jupyter-widgets/controls",
       "_model_module_version": "1.5.0",
       "_model_name": "ProgressStyleModel",
       "_view_count": null,
       "_view_module": "@jupyter-widgets/base",
       "_view_module_version": "1.2.0",
       "_view_name": "StyleView",
       "bar_color": null,
       "description_width": ""
      }
     },
     "fd6b9ffed8ce4017a9ceb33c5a6f573a": {
      "model_module": "@jupyter-widgets/controls",
      "model_module_version": "1.5.0",
      "model_name": "DescriptionStyleModel",
      "state": {
       "_model_module": "@jupyter-widgets/controls",
       "_model_module_version": "1.5.0",
       "_model_name": "DescriptionStyleModel",
       "_view_count": null,
       "_view_module": "@jupyter-widgets/base",
       "_view_module_version": "1.2.0",
       "_view_name": "StyleView",
       "description_width": ""
      }
     }
    },
    "version_major": 2,
    "version_minor": 0
   }
  }
 },
 "nbformat": 4,
 "nbformat_minor": 5
}
